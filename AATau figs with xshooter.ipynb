{
 "cells": [
  {
   "cell_type": "code",
   "execution_count": null,
   "metadata": {},
   "outputs": [],
   "source": [
    "\n"
   ]
  },
  {
   "cell_type": "code",
   "execution_count": 2,
   "metadata": {},
   "outputs": [],
   "source": [
    "import numpy as np\n",
    "import matplotlib.pyplot as plt\n",
    "# %matplotlib notebook  \n",
    "%matplotlib inline \n",
    "import astropy\n",
    "from astropy import units as u\n",
    "import astropy.table as Table\n",
    "from astropy.table import QTable\n",
    "from astropy.io import ascii\n",
    "from astropy.io import fits\n",
    "from dust_extinction.parameter_averages import F99\n",
    "import scipy.interpolate as interp\n",
    "from synphot import units\n",
    "from synphot import SourceSpectrum,SpectralElement,Observation,ExtinctionModel1D,Empirical1D"
   ]
  },
  {
   "cell_type": "markdown",
   "metadata": {},
   "source": [
    "Kevin, if you don't have dust_extinction and synphot, the easiest way I've found to install them is with pip install... KAL"
   ]
  },
  {
   "cell_type": "code",
   "execution_count": 3,
   "metadata": {},
   "outputs": [
    {
     "name": "stdout",
     "output_type": "stream",
     "text": [
      "erg/s/cm2/Angstrom\n",
      "nm\n"
     ]
    }
   ],
   "source": [
    "hdulist = fits.open('AATau_flux_tell_iraf_nir.fits')\n",
    "# hdulist.info()\n",
    "# hdulist[0].header\n",
    "print(hdulist[0].header['BUNIT'])\n",
    "print(hdulist[0].header['CUNIT1'])\n",
    "hdulist.close()"
   ]
  },
  {
   "cell_type": "markdown",
   "metadata": {},
   "source": [
    "These flux units must be incorrect... off by factor 10."
   ]
  },
  {
   "cell_type": "code",
   "execution_count": 4,
   "metadata": {},
   "outputs": [],
   "source": [
    "hdulist = fits.open('AATau_flux_tell_iraf_nir.fits')\n",
    "# hdulist.info()\n",
    "# hdulist[0].header\n",
    "data=hdulist[0].data\n",
    "start=hdulist[0].header['CRVAL1']\n",
    "step=hdulist[0].header['CDELT1']\n",
    "wave_iraf_nir=np.arange(start,start+step*data.size,step)* u.nm\n",
    "data_iraf_nir=hdulist[0].data * u.erg/(u.s*u.cm*u.cm*u.AA)\n",
    "hdulist.close()\n",
    "\n",
    "hdulist = fits.open('AATau_flux_tell_iraf_vis.fits')\n",
    "# hdulist.info()\n",
    "# hdulist[0].header\n",
    "data=hdulist[0].data\n",
    "start=hdulist[0].header['CRVAL1']\n",
    "step=hdulist[0].header['CDELT1']\n",
    "wave_iraf_vis=np.arange(start,start+step*data.size,step)* u.nm\n",
    "data_iraf_vis=hdulist[0].data * u.erg/(u.s*u.cm*u.cm*u.AA)\n",
    "hdulist.close()\n",
    "\n",
    "hdulist = fits.open('AATau_flux_tell_nir.fits')\n",
    "# hdulist.info()\n",
    "# hdulist[0].header\n",
    "data=hdulist[0].data\n",
    "start=hdulist[0].header['CRVAL1']\n",
    "step=hdulist[0].header['CDELT1']\n",
    "wave_nir=np.arange(start,start+step*data.size,step)* u.nm\n",
    "data_nir=hdulist[0].data * u.erg/(u.s*u.cm*u.cm*u.AA)\n",
    "hdulist.close()\n",
    "\n",
    "hdulist = fits.open('AATau_flux_tell_vis.fits')\n",
    "# hdulist.info()\n",
    "# hdulist[0].header\n",
    "data=hdulist[0].data\n",
    "start=hdulist[0].header['CRVAL1']\n",
    "step=hdulist[0].header['CDELT1']\n",
    "wave_vis=np.arange(start,start+step*data.size,step)* u.nm\n",
    "data_vis=hdulist[0].data * u.erg/(u.s*u.cm*u.cm*u.AA)\n",
    "hdulist.close()\n",
    "\n",
    "hdulist = fits.open('AATau_flux_uvb.fits')\n",
    "# hdulist.info()\n",
    "# hdulist[0].header\n",
    "data=hdulist[0].data\n",
    "start=hdulist[0].header['CRVAL1']\n",
    "step=hdulist[0].header['CDELT1']\n",
    "wave_uvb=np.arange(start,start+step*data.size,step)* u.nm\n",
    "data_uvb=hdulist[0].data * u.erg/(u.s*u.cm*u.cm*u.AA)\n",
    "hdulist.close()\n"
   ]
  },
  {
   "cell_type": "code",
   "execution_count": 5,
   "metadata": {},
   "outputs": [
    {
     "data": {
      "image/png": "[encoded data removed]",
      "text/plain": [
       "<Figure size 432x288 with 1 Axes>"
      ]
     },
     "metadata": {
      "needs_background": "light"
     },
     "output_type": "display_data"
    }
   ],
   "source": [
    "from astropy.visualization import quantity_support\n",
    "quantity_support()  \n",
    "\n",
    "plt.plot(wave_nir,data_nir,label='nir')\n",
    "plt.plot(wave_vis,data_vis,label='vis')\n",
    "# plt.plot(wave_iraf_nir,data_iraf_nir,label='1')\n",
    "# plt.plot(wave_iraf_vis,data_iraf_vis,label='2')\n",
    "plt.plot(wave_uvb,data_uvb,label='uvb')\n",
    "plt.ylim(-1E-13,1E-12)\n",
    "plt.legend(loc='best')\n",
    "plt.show()"
   ]
  },
  {
   "cell_type": "code",
   "execution_count": 6,
   "metadata": {},
   "outputs": [
    {
     "data": {
      "text/html": [
       "<i>QTable length=63623</i>\n",
       "<table id=\"table2362519981136\" class=\"table-striped table-bordered table-condensed\">\n",
       "<thead><tr><th>wav</th><th>flux</th></tr></thead>\n",
       "<thead><tr><th>nm</th><th>erg / (Angstrom cm2 s)</th></tr></thead>\n",
       "<thead><tr><th>float64</th><th>float32</th></tr></thead>\n",
       "<tr><td>298.92</td><td>0.0</td></tr>\n",
       "<tr><td>298.94</td><td>3.4003932262034178e-15</td></tr>\n",
       "<tr><td>298.96</td><td>-1.377128527315849e-14</td></tr>\n",
       "<tr><td>298.97999999999996</td><td>1.1539541498457699e-14</td></tr>\n",
       "<tr><td>298.99999999999994</td><td>-7.271456826691159e-15</td></tr>\n",
       "<tr><td>299.0199999999999</td><td>1.7199547789150706e-14</td></tr>\n",
       "<tr><td>299.0399999999999</td><td>5.7236637812944826e-15</td></tr>\n",
       "<tr><td>299.0599999999999</td><td>1.3444887903197623e-14</td></tr>\n",
       "<tr><td>299.07999999999987</td><td>1.5919748768485238e-14</td></tr>\n",
       "<tr><td>...</td><td>...</td></tr>\n",
       "<tr><td>2478.41999999865</td><td>1.9076850288259756e-13</td></tr>\n",
       "<tr><td>2478.47999999865</td><td>1.5998057642085256e-13</td></tr>\n",
       "<tr><td>2478.53999999865</td><td>1.3261386346691273e-13</td></tr>\n",
       "<tr><td>2478.5999999986498</td><td>1.0975035713133713e-13</td></tr>\n",
       "<tr><td>2478.6599999986497</td><td>8.65109579025608e-14</td></tr>\n",
       "<tr><td>2478.7199999986497</td><td>6.474573481518586e-14</td></tr>\n",
       "<tr><td>2478.7799999986496</td><td>5.336662305100402e-14</td></tr>\n",
       "<tr><td>2478.8399999986495</td><td>6.682057928893495e-14</td></tr>\n",
       "<tr><td>2478.8999999986495</td><td>1.2686794431844561e-13</td></tr>\n",
       "<tr><td>2478.9599999986494</td><td>0.0</td></tr>\n",
       "</table>"
      ],
      "text/plain": [
       "<QTable length=63623>\n",
       "       wav                  flux         \n",
       "        nm         erg / (Angstrom cm2 s)\n",
       "     float64              float32        \n",
       "------------------ ----------------------\n",
       "            298.92                    0.0\n",
       "            298.94 3.4003932262034178e-15\n",
       "            298.96 -1.377128527315849e-14\n",
       "298.97999999999996 1.1539541498457699e-14\n",
       "298.99999999999994 -7.271456826691159e-15\n",
       " 299.0199999999999 1.7199547789150706e-14\n",
       " 299.0399999999999 5.7236637812944826e-15\n",
       " 299.0599999999999 1.3444887903197623e-14\n",
       "299.07999999999987 1.5919748768485238e-14\n",
       "               ...                    ...\n",
       "  2478.41999999865 1.9076850288259756e-13\n",
       "  2478.47999999865 1.5998057642085256e-13\n",
       "  2478.53999999865 1.3261386346691273e-13\n",
       "2478.5999999986498 1.0975035713133713e-13\n",
       "2478.6599999986497   8.65109579025608e-14\n",
       "2478.7199999986497  6.474573481518586e-14\n",
       "2478.7799999986496  5.336662305100402e-14\n",
       "2478.8399999986495  6.682057928893495e-14\n",
       "2478.8999999986495 1.2686794431844561e-13\n",
       "2478.9599999986494                    0.0"
      ]
     },
     "execution_count": 6,
     "metadata": {},
     "output_type": "execute_result"
    }
   ],
   "source": [
    "uvb = QTable()\n",
    "uvb[\"wav\"]=wave_uvb\n",
    "uvb[\"flux\"]=data_uvb\n",
    "vis = QTable()\n",
    "vis[\"wav\"]=wave_vis\n",
    "vis[\"flux\"]=data_vis\n",
    "nir = QTable()\n",
    "nir[\"wav\"]=wave_nir\n",
    "nir[\"flux\"]=data_nir\n",
    "\n",
    "xshooter = Table.vstack([uvb, vis, nir])\n",
    "xshooter"
   ]
  },
  {
   "cell_type": "code",
   "execution_count": 7,
   "metadata": {},
   "outputs": [
    {
     "name": "stderr",
     "output_type": "stream",
     "text": [
      "WARNING: file looks like ECSV format but PyYAML is not installed so it cannot be parsed as ECSV [astropy.io.ascii.ecsv]\n"
     ]
    }
   ],
   "source": [
    "data1 = ascii.read('AATau_IR2008.txt')\n",
    "data2 = ascii.read('AATau_opt2008.txt')\n",
    "data = Table.vstack([data2, data1])\n",
    "allwav_2008=data['wavelength']\n",
    "alldata_2008=data['flux']\n",
    "\n",
    "data1 = ascii.read('AATau_IR2014dec02.txt')\n",
    "data2 = ascii.read('AATau_opt2014dec02.txt')\n",
    "data = Table.vstack([data2, data1])\n",
    "allwav_dec02=data['wavelength']\n",
    "alldata_dec02=data['flux']\n",
    "\n",
    "data1 = ascii.read('AATau_IR2014dec12.txt')\n",
    "data2 = ascii.read('AATau_opt2014dec12.txt')\n",
    "data = Table.vstack([data2, data1])\n",
    "allwav_dec12=data['wavelength']\n",
    "alldata_dec12=data['flux']"
   ]
  },
  {
   "cell_type": "code",
   "execution_count": 8,
   "metadata": {},
   "outputs": [
    {
     "data": {
      "text/html": [
       "&lt;Column name=&apos;wavelength&apos; dtype=&apos;float64&apos; length=10447&gt;\n",
       "<table>\n",
       "<tr><td>0.320097</td></tr>\n",
       "<tr><td>0.320201</td></tr>\n",
       "<tr><td>0.320305</td></tr>\n",
       "<tr><td>0.320409</td></tr>\n",
       "<tr><td>0.320513</td></tr>\n",
       "<tr><td>0.320617</td></tr>\n",
       "<tr><td>0.320721</td></tr>\n",
       "<tr><td>0.320826</td></tr>\n",
       "<tr><td>0.32093</td></tr>\n",
       "<tr><td>0.321034</td></tr>\n",
       "<tr><td>0.321138</td></tr>\n",
       "<tr><td>0.321242</td></tr>\n",
       "<tr><td>...</td></tr>\n",
       "<tr><td>2.4677541</td></tr>\n",
       "<tr><td>2.4680378</td></tr>\n",
       "<tr><td>2.4683216</td></tr>\n",
       "<tr><td>2.4686053</td></tr>\n",
       "<tr><td>2.468889</td></tr>\n",
       "<tr><td>2.4691727</td></tr>\n",
       "<tr><td>2.4694564</td></tr>\n",
       "<tr><td>2.4697402</td></tr>\n",
       "<tr><td>2.4700239</td></tr>\n",
       "<tr><td>2.4703074</td></tr>\n",
       "<tr><td>2.470591</td></tr>\n",
       "<tr><td>2.4708748</td></tr>\n",
       "</table>"
      ],
      "text/plain": [
       "<Column name='wavelength' dtype='float64' length=10447>\n",
       " 0.320097\n",
       " 0.320201\n",
       " 0.320305\n",
       " 0.320409\n",
       " 0.320513\n",
       " 0.320617\n",
       " 0.320721\n",
       " 0.320826\n",
       "  0.32093\n",
       " 0.321034\n",
       " 0.321138\n",
       " 0.321242\n",
       "      ...\n",
       "2.4677541\n",
       "2.4680378\n",
       "2.4683216\n",
       "2.4686053\n",
       " 2.468889\n",
       "2.4691727\n",
       "2.4694564\n",
       "2.4697402\n",
       "2.4700239\n",
       "2.4703074\n",
       " 2.470591\n",
       "2.4708748"
      ]
     },
     "execution_count": 8,
     "metadata": {},
     "output_type": "execute_result"
    }
   ],
   "source": [
    "allwav_2008"
   ]
  },
  {
   "cell_type": "code",
   "execution_count": 10,
   "metadata": {},
   "outputs": [],
   "source": [
    "interp2008=interp.interp1d(allwav_2008,alldata_2008)\n",
    "# alldata_2008,interp2008(allwav_2008)*alldata_2008.unit"
   ]
  },
  {
   "cell_type": "markdown",
   "metadata": {},
   "source": [
    "## Dec 02 Spectra"
   ]
  },
  {
   "cell_type": "code",
   "execution_count": 11,
   "metadata": {},
   "outputs": [
    {
     "ename": "TypeError",
     "evalue": "unsupported operand type(s) for *: 'float' and 'NoneType'",
     "output_type": "error",
     "traceback": [
      "\u001b[1;31m---------------------------------------------------------------------------\u001b[0m",
      "\u001b[1;31mTypeError\u001b[0m                                 Traceback (most recent call last)",
      "\u001b[1;32m<ipython-input-11-dc7a0cb38c8d>\u001b[0m in \u001b[0;36m<module>\u001b[1;34m\u001b[0m\n\u001b[0;32m     16\u001b[0m \u001b[0max2\u001b[0m\u001b[1;33m.\u001b[0m\u001b[0mplot\u001b[0m\u001b[1;33m(\u001b[0m\u001b[1;33m[\u001b[0m\u001b[1;36m.25\u001b[0m\u001b[1;33m,\u001b[0m\u001b[1;36m2.5\u001b[0m\u001b[1;33m]\u001b[0m\u001b[1;33m,\u001b[0m\u001b[1;33m[\u001b[0m\u001b[1;36m0\u001b[0m\u001b[1;33m,\u001b[0m\u001b[1;36m0\u001b[0m\u001b[1;33m]\u001b[0m\u001b[1;33m,\u001b[0m\u001b[1;34m'k'\u001b[0m\u001b[1;33m)\u001b[0m\u001b[1;33m\u001b[0m\u001b[0m\n\u001b[0;32m     17\u001b[0m ax2.plot(allwav_dec02,\n\u001b[1;32m---> 18\u001b[1;33m          \u001b[0minterp2008\u001b[0m\u001b[1;33m(\u001b[0m\u001b[0mallwav_dec02\u001b[0m\u001b[1;33m)\u001b[0m\u001b[1;33m*\u001b[0m\u001b[0malldata_2008\u001b[0m\u001b[1;33m.\u001b[0m\u001b[0munit\u001b[0m\u001b[1;33m*\u001b[0m\u001b[0mext\u001b[0m\u001b[1;33m.\u001b[0m\u001b[0mextinguish\u001b[0m\u001b[1;33m(\u001b[0m\u001b[0mallwav_dec02\u001b[0m\u001b[1;33m,\u001b[0m\u001b[0mAv\u001b[0m\u001b[1;33m=\u001b[0m\u001b[1;36m2.0\u001b[0m\u001b[1;33m)\u001b[0m\u001b[1;33m\u001b[0m\u001b[0m\n\u001b[0m\u001b[0;32m     19\u001b[0m          -alldata_dec02,'r',alpha=0.7)\n\u001b[0;32m     20\u001b[0m \u001b[0max2\u001b[0m\u001b[1;33m.\u001b[0m\u001b[0mset_xlim\u001b[0m\u001b[1;33m(\u001b[0m\u001b[1;36m0.25\u001b[0m\u001b[1;33m,\u001b[0m\u001b[1;36m2.5\u001b[0m\u001b[1;33m)\u001b[0m\u001b[1;33m\u001b[0m\u001b[0m\n",
      "\u001b[1;31mTypeError\u001b[0m: unsupported operand type(s) for *: 'float' and 'NoneType'"
     ]
    },
    {
     "data": {
      "image/png": "[encoded data removed]",
      "text/plain": [
       "<Figure size 720x720 with 2 Axes>"
      ]
     },
     "metadata": {
      "needs_background": "light"
     },
     "output_type": "display_data"
    }
   ],
   "source": [
    "fig,(ax1,ax2)=plt.subplots(2,1,figsize=(10,10),gridspec_kw = {'height_ratios':[3, 1]})\n",
    "\n",
    "ext=F99(Rv=3.0)\n",
    "\n",
    "ax1.plot(allwav_2008,alldata_2008,'grey',label='2008 observed')\n",
    "ax1.plot(allwav_2008,alldata_2008*ext.extinguish(allwav_2008,Av=2.0),'blue',\n",
    "         label=\"2008 with AV=2.0 RV=3\")\n",
    "ax1.plot(allwav_dec02,alldata_dec02,'red',label='2014 Dec 2 observed',alpha=0.7)\n",
    "ax1.plot(xshooter['wav'].to(u.micron),xshooter['flux']/10.,'purple',alpha=0.5,label='xshooter')\n",
    "ax1.set_ylim(0,0.8E-13)\n",
    "ax1.set_xlim(0.25,2.5)\n",
    "ax1.set_xlabel('$\\lambda$ [micron]')\n",
    "ax1.set_ylabel('$F_\\lambda$ (erg s$^{-1}$ cm$^{-2}$ $\\AA^{-1}$)')\n",
    "ax1.legend(loc='upper right')\n",
    "\n",
    "ax2.plot([.25,2.5],[0,0],'k')\n",
    "ax2.plot(allwav_dec02,\n",
    "         interp2008(allwav_dec02)*alldata_2008.unit*ext.extinguish(allwav_dec02,Av=2.0)\n",
    "         -alldata_dec02,'r',alpha=0.7)\n",
    "ax2.set_xlim(0.25,2.5)\n",
    "ax2.set_ylim(-1E-14,1E-14)\n",
    "ax2.set_xlabel('$\\lambda$ [micron]')\n",
    "ax2.set_ylabel('Model $-$ Observed')\n",
    "\n",
    "plt.show()"
   ]
  },
  {
   "cell_type": "markdown",
   "metadata": {},
   "source": [
    "## Dec 12 spectra"
   ]
  },
  {
   "cell_type": "code",
   "execution_count": null,
   "metadata": {},
   "outputs": [],
   "source": [
    "fig,(ax1,ax2)=plt.subplots(2,1,figsize=(10,10),gridspec_kw = {'height_ratios':[3, 1]})\n",
    "\n",
    "ext=F99(Rv=3.0)\n",
    "\n",
    "ax1.plot(allwav_2008,alldata_2008,'grey',label='2008 observed')\n",
    "ax1.plot(allwav_2008,alldata_2008*ext.extinguish(allwav_2008,Av=2.0),'blue',\n",
    "         label=\"2008 with AV=2.0 RV=3\")\n",
    "ax1.plot(allwav_dec12,alldata_dec12,'orange',label='2014 Dec 12 observed',alpha=0.7)\n",
    "ax1.plot(xshooter['wav'].to(u.micron),xshooter['flux']/10.,'purple',alpha=0.5,label='xshooter')\n",
    "ax1.set_ylim(0,0.8E-13)\n",
    "ax1.set_xlim(0.25,2.5)\n",
    "ax1.set_xlabel('$\\lambda$ [micron]')\n",
    "ax1.set_ylabel('$F_\\lambda$ (erg s$^{-1}$ cm$^{-2}$ $\\AA^{-1}$)')\n",
    "ax1.legend(loc='upper right')\n",
    "\n",
    "\n",
    "allwav_dec12clip = allwav_dec12[allwav_dec12<2.47*u.micron]\n",
    "alldata_dec12clip= alldata_dec12[allwav_dec12<2.47*u.micron]\n",
    "\n",
    "ax2.plot([.25,2.5],[0,0],'k')\n",
    "ax2.plot(allwav_dec12clip,\n",
    "         interp2008(allwav_dec12clip)*alldata_2008.unit*ext.extinguish(allwav_dec12clip,Av=2.0)\n",
    "         -alldata_dec12clip,'orange',alpha=0.7)\n",
    "ax2.set_xlim(0.25,2.5)\n",
    "ax2.set_ylim(-1E-14,1E-14)\n",
    "ax2.set_xlabel('$\\lambda$ [micron]')\n",
    "ax2.set_ylabel('Model $-$ Observed')\n",
    "\n",
    "plt.show()"
   ]
  },
  {
   "cell_type": "markdown",
   "metadata": {},
   "source": [
    "## Colors"
   ]
  },
  {
   "cell_type": "code",
   "execution_count": 12,
   "metadata": {},
   "outputs": [
    {
     "ename": "TypeError",
     "evalue": "only dimensionless scalar quantities can be converted to Python scalars",
     "output_type": "error",
     "traceback": [
      "\u001b[1;31m---------------------------------------------------------------------------\u001b[0m",
      "\u001b[1;31mUnitConversionError\u001b[0m                       Traceback (most recent call last)",
      "\u001b[1;32m~\\Miniconda3\\lib\\site-packages\\astropy\\units\\quantity.py\u001b[0m in \u001b[0;36mto_value\u001b[1;34m(self, unit, equivalencies)\u001b[0m\n\u001b[0;32m    706\u001b[0m             \u001b[1;32mtry\u001b[0m\u001b[1;33m:\u001b[0m\u001b[1;33m\u001b[0m\u001b[0m\n\u001b[1;32m--> 707\u001b[1;33m                 \u001b[0mscale\u001b[0m \u001b[1;33m=\u001b[0m \u001b[0mself\u001b[0m\u001b[1;33m.\u001b[0m\u001b[0munit\u001b[0m\u001b[1;33m.\u001b[0m\u001b[0m_to\u001b[0m\u001b[1;33m(\u001b[0m\u001b[0munit\u001b[0m\u001b[1;33m)\u001b[0m\u001b[1;33m\u001b[0m\u001b[0m\n\u001b[0m\u001b[0;32m    708\u001b[0m             \u001b[1;32mexcept\u001b[0m \u001b[0mException\u001b[0m\u001b[1;33m:\u001b[0m\u001b[1;33m\u001b[0m\u001b[0m\n",
      "\u001b[1;32m~\\Miniconda3\\lib\\site-packages\\astropy\\units\\core.py\u001b[0m in \u001b[0;36m_to\u001b[1;34m(self, other)\u001b[0m\n\u001b[0;32m    952\u001b[0m         raise UnitConversionError(\n\u001b[1;32m--> 953\u001b[1;33m             \"'{0!r}' is not a scaled version of '{1!r}'\".format(self, other))\n\u001b[0m\u001b[0;32m    954\u001b[0m \u001b[1;33m\u001b[0m\u001b[0m\n",
      "\u001b[1;31mUnitConversionError\u001b[0m: 'Unit(\"micron\")' is not a scaled version of 'Unit(dimensionless)'",
      "\nDuring handling of the above exception, another exception occurred:\n",
      "\u001b[1;31mUnitConversionError\u001b[0m                       Traceback (most recent call last)",
      "\u001b[1;32m~\\Miniconda3\\lib\\site-packages\\astropy\\units\\quantity.py\u001b[0m in \u001b[0;36m__float__\u001b[1;34m(self)\u001b[0m\n\u001b[0;32m   1072\u001b[0m         \u001b[1;32mtry\u001b[0m\u001b[1;33m:\u001b[0m\u001b[1;33m\u001b[0m\u001b[0m\n\u001b[1;32m-> 1073\u001b[1;33m             \u001b[1;32mreturn\u001b[0m \u001b[0mfloat\u001b[0m\u001b[1;33m(\u001b[0m\u001b[0mself\u001b[0m\u001b[1;33m.\u001b[0m\u001b[0mto_value\u001b[0m\u001b[1;33m(\u001b[0m\u001b[0mdimensionless_unscaled\u001b[0m\u001b[1;33m)\u001b[0m\u001b[1;33m)\u001b[0m\u001b[1;33m\u001b[0m\u001b[0m\n\u001b[0m\u001b[0;32m   1074\u001b[0m         \u001b[1;32mexcept\u001b[0m \u001b[1;33m(\u001b[0m\u001b[0mUnitsError\u001b[0m\u001b[1;33m,\u001b[0m \u001b[0mTypeError\u001b[0m\u001b[1;33m)\u001b[0m\u001b[1;33m:\u001b[0m\u001b[1;33m\u001b[0m\u001b[0m\n",
      "\u001b[1;32m~\\Miniconda3\\lib\\site-packages\\astropy\\units\\quantity.py\u001b[0m in \u001b[0;36mto_value\u001b[1;34m(self, unit, equivalencies)\u001b[0m\n\u001b[0;32m    709\u001b[0m                 \u001b[1;31m# Short-cut failed; try default (maybe equivalencies help).\u001b[0m\u001b[1;33m\u001b[0m\u001b[1;33m\u001b[0m\u001b[0m\n\u001b[1;32m--> 710\u001b[1;33m                 \u001b[0mvalue\u001b[0m \u001b[1;33m=\u001b[0m \u001b[0mself\u001b[0m\u001b[1;33m.\u001b[0m\u001b[0m_to_value\u001b[0m\u001b[1;33m(\u001b[0m\u001b[0munit\u001b[0m\u001b[1;33m,\u001b[0m \u001b[0mequivalencies\u001b[0m\u001b[1;33m)\u001b[0m\u001b[1;33m\u001b[0m\u001b[0m\n\u001b[0m\u001b[0;32m    711\u001b[0m             \u001b[1;32melse\u001b[0m\u001b[1;33m:\u001b[0m\u001b[1;33m\u001b[0m\u001b[0m\n",
      "\u001b[1;32m~\\Miniconda3\\lib\\site-packages\\astropy\\units\\quantity.py\u001b[0m in \u001b[0;36m_to_value\u001b[1;34m(self, unit, equivalencies)\u001b[0m\n\u001b[0;32m    640\u001b[0m         return self.unit.to(unit, self.view(np.ndarray),\n\u001b[1;32m--> 641\u001b[1;33m                             equivalencies=equivalencies)\n\u001b[0m\u001b[0;32m    642\u001b[0m \u001b[1;33m\u001b[0m\u001b[0m\n",
      "\u001b[1;32m~\\Miniconda3\\lib\\site-packages\\astropy\\units\\core.py\u001b[0m in \u001b[0;36mto\u001b[1;34m(self, other, value, equivalencies)\u001b[0m\n\u001b[0;32m    988\u001b[0m         \u001b[1;32melse\u001b[0m\u001b[1;33m:\u001b[0m\u001b[1;33m\u001b[0m\u001b[0m\n\u001b[1;32m--> 989\u001b[1;33m             \u001b[1;32mreturn\u001b[0m \u001b[0mself\u001b[0m\u001b[1;33m.\u001b[0m\u001b[0m_get_converter\u001b[0m\u001b[1;33m(\u001b[0m\u001b[0mother\u001b[0m\u001b[1;33m,\u001b[0m \u001b[0mequivalencies\u001b[0m\u001b[1;33m=\u001b[0m\u001b[0mequivalencies\u001b[0m\u001b[1;33m)\u001b[0m\u001b[1;33m(\u001b[0m\u001b[0mvalue\u001b[0m\u001b[1;33m)\u001b[0m\u001b[1;33m\u001b[0m\u001b[0m\n\u001b[0m\u001b[0;32m    990\u001b[0m \u001b[1;33m\u001b[0m\u001b[0m\n",
      "\u001b[1;32m~\\Miniconda3\\lib\\site-packages\\astropy\\units\\core.py\u001b[0m in \u001b[0;36m_get_converter\u001b[1;34m(self, other, equivalencies)\u001b[0m\n\u001b[0;32m    919\u001b[0m \u001b[1;33m\u001b[0m\u001b[0m\n\u001b[1;32m--> 920\u001b[1;33m             \u001b[1;32mraise\u001b[0m \u001b[0mexc\u001b[0m\u001b[1;33m\u001b[0m\u001b[0m\n\u001b[0m\u001b[0;32m    921\u001b[0m \u001b[1;33m\u001b[0m\u001b[0m\n",
      "\u001b[1;32m~\\Miniconda3\\lib\\site-packages\\astropy\\units\\core.py\u001b[0m in \u001b[0;36m_get_converter\u001b[1;34m(self, other, equivalencies)\u001b[0m\n\u001b[0;32m    905\u001b[0m             return self._apply_equivalencies(\n\u001b[1;32m--> 906\u001b[1;33m                 self, other, self._normalize_equivalencies(equivalencies))\n\u001b[0m\u001b[0;32m    907\u001b[0m         \u001b[1;32mexcept\u001b[0m \u001b[0mUnitsError\u001b[0m \u001b[1;32mas\u001b[0m \u001b[0mexc\u001b[0m\u001b[1;33m:\u001b[0m\u001b[1;33m\u001b[0m\u001b[0m\n",
      "\u001b[1;32m~\\Miniconda3\\lib\\site-packages\\astropy\\units\\core.py\u001b[0m in \u001b[0;36m_apply_equivalencies\u001b[1;34m(self, unit, other, equivalencies)\u001b[0m\n\u001b[0;32m    889\u001b[0m             \"{0} and {1} are not convertible\".format(\n\u001b[1;32m--> 890\u001b[1;33m                 unit_str, other_str))\n\u001b[0m\u001b[0;32m    891\u001b[0m \u001b[1;33m\u001b[0m\u001b[0m\n",
      "\u001b[1;31mUnitConversionError\u001b[0m: 'micron' (length) and '' (dimensionless) are not convertible",
      "\nDuring handling of the above exception, another exception occurred:\n",
      "\u001b[1;31mTypeError\u001b[0m                                 Traceback (most recent call last)",
      "\u001b[1;32m<ipython-input-12-62d51e2dff13>\u001b[0m in \u001b[0;36m<module>\u001b[1;34m\u001b[0m\n\u001b[0;32m     14\u001b[0m \u001b[1;31m# By coincidence, some wavelengths are identical, so we nudge them a bit:\u001b[0m\u001b[1;33m\u001b[0m\u001b[1;33m\u001b[0m\u001b[0m\n\u001b[0;32m     15\u001b[0m \u001b[1;31m# WARNING!  HARD WIRED!\u001b[0m\u001b[1;33m\u001b[0m\u001b[1;33m\u001b[0m\u001b[0m\n\u001b[1;32m---> 16\u001b[1;33m \u001b[0mallwav_dec02s\u001b[0m\u001b[1;33m[\u001b[0m\u001b[1;36m2405\u001b[0m\u001b[1;33m]\u001b[0m\u001b[1;33m=\u001b[0m\u001b[0mnp\u001b[0m\u001b[1;33m.\u001b[0m\u001b[0mfloat32\u001b[0m\u001b[1;33m(\u001b[0m\u001b[1;36m0.934964\u001b[0m\u001b[1;33m)\u001b[0m\u001b[1;33m*\u001b[0m\u001b[0mu\u001b[0m\u001b[1;33m.\u001b[0m\u001b[0mmicron\u001b[0m\u001b[1;33m\u001b[0m\u001b[0m\n\u001b[0m\u001b[0;32m     17\u001b[0m \u001b[0mallwav_dec12s\u001b[0m\u001b[1;33m[\u001b[0m\u001b[1;36m2166\u001b[0m\u001b[1;33m]\u001b[0m\u001b[1;33m=\u001b[0m\u001b[0mnp\u001b[0m\u001b[1;33m.\u001b[0m\u001b[0mfloat32\u001b[0m\u001b[1;33m(\u001b[0m\u001b[1;36m0.913868\u001b[0m\u001b[1;33m)\u001b[0m\u001b[1;33m*\u001b[0m\u001b[0mu\u001b[0m\u001b[1;33m.\u001b[0m\u001b[0mmicron\u001b[0m\u001b[1;33m\u001b[0m\u001b[0m\n\u001b[0;32m     18\u001b[0m \u001b[0mallwav_dec12s\u001b[0m\u001b[1;33m[\u001b[0m\u001b[1;36m2484\u001b[0m\u001b[1;33m]\u001b[0m\u001b[1;33m=\u001b[0m\u001b[0mnp\u001b[0m\u001b[1;33m.\u001b[0m\u001b[0mfloat32\u001b[0m\u001b[1;33m(\u001b[0m\u001b[1;36m0.941703\u001b[0m\u001b[1;33m)\u001b[0m\u001b[1;33m*\u001b[0m\u001b[0mu\u001b[0m\u001b[1;33m.\u001b[0m\u001b[0mmicron\u001b[0m\u001b[1;33m\u001b[0m\u001b[0m\n",
      "\u001b[1;32m~\\Miniconda3\\lib\\site-packages\\astropy\\table\\column.py\u001b[0m in \u001b[0;36m__setitem__\u001b[1;34m(self, index, value)\u001b[0m\n\u001b[0;32m    930\u001b[0m         \u001b[1;31m# Set items using a view of the underlying data, as it gives an\u001b[0m\u001b[1;33m\u001b[0m\u001b[1;33m\u001b[0m\u001b[0m\n\u001b[0;32m    931\u001b[0m         \u001b[1;31m# order-of-magnitude speed-up. [#2994]\u001b[0m\u001b[1;33m\u001b[0m\u001b[1;33m\u001b[0m\u001b[0m\n\u001b[1;32m--> 932\u001b[1;33m         \u001b[0mself\u001b[0m\u001b[1;33m.\u001b[0m\u001b[0mdata\u001b[0m\u001b[1;33m[\u001b[0m\u001b[0mindex\u001b[0m\u001b[1;33m]\u001b[0m \u001b[1;33m=\u001b[0m \u001b[0mvalue\u001b[0m\u001b[1;33m\u001b[0m\u001b[0m\n\u001b[0m\u001b[0;32m    933\u001b[0m \u001b[1;33m\u001b[0m\u001b[0m\n\u001b[0;32m    934\u001b[0m     \u001b[1;32mdef\u001b[0m \u001b[0m_make_compare\u001b[0m\u001b[1;33m(\u001b[0m\u001b[0moper\u001b[0m\u001b[1;33m)\u001b[0m\u001b[1;33m:\u001b[0m\u001b[1;33m\u001b[0m\u001b[0m\n",
      "\u001b[1;32m~\\Miniconda3\\lib\\site-packages\\astropy\\units\\quantity.py\u001b[0m in \u001b[0;36m__float__\u001b[1;34m(self)\u001b[0m\n\u001b[0;32m   1073\u001b[0m             \u001b[1;32mreturn\u001b[0m \u001b[0mfloat\u001b[0m\u001b[1;33m(\u001b[0m\u001b[0mself\u001b[0m\u001b[1;33m.\u001b[0m\u001b[0mto_value\u001b[0m\u001b[1;33m(\u001b[0m\u001b[0mdimensionless_unscaled\u001b[0m\u001b[1;33m)\u001b[0m\u001b[1;33m)\u001b[0m\u001b[1;33m\u001b[0m\u001b[0m\n\u001b[0;32m   1074\u001b[0m         \u001b[1;32mexcept\u001b[0m \u001b[1;33m(\u001b[0m\u001b[0mUnitsError\u001b[0m\u001b[1;33m,\u001b[0m \u001b[0mTypeError\u001b[0m\u001b[1;33m)\u001b[0m\u001b[1;33m:\u001b[0m\u001b[1;33m\u001b[0m\u001b[0m\n\u001b[1;32m-> 1075\u001b[1;33m             raise TypeError('only dimensionless scalar quantities can be '\n\u001b[0m\u001b[0;32m   1076\u001b[0m                             'converted to Python scalars')\n\u001b[0;32m   1077\u001b[0m \u001b[1;33m\u001b[0m\u001b[0m\n",
      "\u001b[1;31mTypeError\u001b[0m: only dimensionless scalar quantities can be converted to Python scalars"
     ]
    }
   ],
   "source": [
    "# Some massaging for synphot:\n",
    "xshooter.sort('wav')\n",
    "\n",
    "# The overlaps in the spectra are not tolerated by synphot, so we sort them:\n",
    "allwav_2008s=allwav_2008[np.argsort(allwav_2008)]\n",
    "alldata_2008s=alldata_2008[np.argsort(allwav_2008)]\n",
    "\n",
    "allwav_dec02s=allwav_dec02[np.argsort(allwav_dec02)]\n",
    "alldata_dec02s=alldata_dec02[np.argsort(allwav_dec02)]\n",
    "\n",
    "allwav_dec12s=allwav_dec12[np.argsort(allwav_dec12)]\n",
    "alldata_dec12s=alldata_dec12[np.argsort(allwav_dec12)]\n",
    "\n",
    "# By coincidence, some wavelengths are identical, so we nudge them a bit:\n",
    "# WARNING!  HARD WIRED!\n",
    "allwav_dec02s[2405]=np.float32(0.934964)*u.micron\n",
    "allwav_dec12s[2166]=np.float32(0.913868)*u.micron\n",
    "allwav_dec12s[2484]=np.float32(0.941703)*u.micron\n"
   ]
  },
  {
   "cell_type": "code",
   "execution_count": null,
   "metadata": {},
   "outputs": [],
   "source": []
  },
  {
   "cell_type": "code",
   "execution_count": null,
   "metadata": {},
   "outputs": [],
   "source": [
    "fobs1ext=dict()\n",
    "\n",
    "j=0\n",
    "\n",
    "for A in [2.0,4.0]:\n",
    "    for R in [2.0,3.0,5.0]:\n",
    "        ext=F99(Rv=R)\n",
    "        fobs1ext[j]=alldata_2008s*ext.extinguish(allwav_2008s,Av=A)\n",
    "        j+=1    \n",
    "        "
   ]
  },
  {
   "cell_type": "code",
   "execution_count": null,
   "metadata": {},
   "outputs": [],
   "source": [
    "# Optional, for when the STScI ftp server is not answering:\n",
    "from synphot import config\n",
    "config.conf.vega_file='http://ssb.stsci.edu/cdbs/calspec/alpha_lyr_stis_008.fits'\n",
    "config.conf.johnson_u_file='http://ssb.stsci.edu/cdbs/comp/nonhst/johnson_u_004_syn.fits'\n",
    "config.conf.johnson_b_file='http://ssb.stsci.edu/cdbs/comp/nonhst/johnson_b_004_syn.fits'\n",
    "config.conf.johnson_v_file='http://ssb.stsci.edu/cdbs/comp/nonhst/johnson_v_004_syn.fits'\n",
    "config.conf.johnson_r_file='http://ssb.stsci.edu/cdbs/comp/nonhst/johnson_r_003_syn.fits'\n",
    "config.conf.johnson_i_file='http://ssb.stsci.edu/cdbs/comp/nonhst/johnson_i_003_syn.fits'\n",
    "config.conf.bessel_j_file='http://ssb.stsci.edu/cdbs/comp/nonhst/bessell_j_003_syn.fits'\n",
    "config.conf.bessel_h_file='http://ssb.stsci.edu/cdbs/comp/nonhst/bessell_h_004_syn.fits'\n",
    "config.conf.bessel_k_file='http://ssb.stsci.edu/cdbs/comp/nonhst/bessell_k_003_syn.fits'\n",
    "\n",
    "vega = SourceSpectrum.from_vega()\n",
    "u_band = SpectralElement.from_filter('johnson_u')\n",
    "b_band = SpectralElement.from_filter('johnson_b')\n",
    "v_band = SpectralElement.from_filter('johnson_v')\n",
    "r_band = SpectralElement.from_filter('johnson_r')\n",
    "i_band = SpectralElement.from_filter('johnson_i')\n",
    "j_band = SpectralElement.from_filter('bessel_j')\n",
    "h_band = SpectralElement.from_filter('bessel_h')\n",
    "k_band = SpectralElement.from_filter('bessel_k')\n"
   ]
  },
  {
   "cell_type": "code",
   "execution_count": null,
   "metadata": {},
   "outputs": [],
   "source": []
  },
  {
   "cell_type": "code",
   "execution_count": null,
   "metadata": {},
   "outputs": [],
   "source": [
    "bands = [k_band,h_band,j_band,i_band,r_band,v_band,b_band]\n",
    "\n",
    "mags1ext=np.zeros((6,7))\n",
    "\n",
    "mags1=np.zeros(7)\n",
    "mags2=np.zeros(7)\n",
    "mags3=np.zeros(7)\n",
    "mags4=np.zeros(7)\n",
    "\n",
    "for j in [0,1,2,3,4,5,6]:\n",
    "    sp = SourceSpectrum(Empirical1D, points=allwav_2008s, lookup_table=alldata_2008s, keep_neg=False)\n",
    "    sp_obs = Observation(sp, bands[j])\n",
    "    mags1[j]=sp_obs.effstim(flux_unit='vegamag', vegaspec=vega).value # default binned=False\n",
    "    sp = SourceSpectrum(Empirical1D, points=allwav_dec02s, lookup_table=alldata_dec02s, keep_neg=False)\n",
    "    sp_obs = Observation(sp, bands[j])\n",
    "    mags2[j]=sp_obs.effstim(flux_unit='vegamag', vegaspec=vega).value\n",
    "    sp = SourceSpectrum(Empirical1D, points=allwav_dec12s, lookup_table=alldata_dec12s, keep_neg=False)\n",
    "    sp_obs = Observation(sp, bands[j])\n",
    "    mags3[j]=sp_obs.effstim(flux_unit='vegamag', vegaspec=vega).value\n",
    "\n",
    "    sp = SourceSpectrum(Empirical1D, points=xshooter['wav'], lookup_table=xshooter['flux']/10, keep_neg=False)\n",
    "    sp_obs = Observation(sp, bands[j])\n",
    "    mags4[j]=sp_obs.effstim(flux_unit='vegamag', vegaspec=vega).value\n",
    "\n",
    "    for i in range(6):\n",
    "        sp = SourceSpectrum(Empirical1D, points=allwav_2008s, lookup_table=fobs1ext[i], keep_neg=False)\n",
    "        sp_obs = Observation(sp, bands[j])\n",
    "        mags1ext[i,j] = sp_obs.effstim(flux_unit='vegamag', vegaspec=vega).value\n",
    "    "
   ]
  },
  {
   "cell_type": "code",
   "execution_count": null,
   "metadata": {},
   "outputs": [],
   "source": [
    "bands"
   ]
  },
  {
   "cell_type": "code",
   "execution_count": null,
   "metadata": {},
   "outputs": [],
   "source": [
    "j=0\n",
    "sp = SourceSpectrum(Empirical1D, points=allwav_2008s, lookup_table=alldata_2008s, keep_neg=False)\n",
    "sp.plot(left=19000,right=25000,top=0.035,bottom=0)\n",
    "sp_obs = Observation(sp, bands[j])\n",
    "bands[j].plot(left=19000,right=25000)\n",
    "#sp_obs.plot(left=3500,right=5750)\n",
    "sp_obs.plot(left=19000,right=25000,binned=False)"
   ]
  },
  {
   "cell_type": "code",
   "execution_count": null,
   "metadata": {},
   "outputs": [],
   "source": [
    "mags1[::-1],mags2[::-1],mags2[::-1]-mags1[::-1]"
   ]
  },
  {
   "cell_type": "code",
   "execution_count": null,
   "metadata": {},
   "outputs": [],
   "source": [
    "mags1[::-1],mags2[::-1],mags2[::-1]-mags1[::-1]"
   ]
  },
  {
   "cell_type": "code",
   "execution_count": null,
   "metadata": {},
   "outputs": [],
   "source": [
    "fig,axes=plt.subplots(2,6,figsize=(18,6))\n",
    "\n",
    "bands=['K','H','J','I','R','V','B']\n",
    "\n",
    "for j in [0,1,2,3,4,5]: # just data\n",
    "    if j!=5:\n",
    "        axes[1,5-j].plot(mags2[j+1]-mags2[j],mags2[j+2]-mags2[j+1],'o',color='red')\n",
    "        axes[1,5-j].plot(mags4[j+1]-mags4[j],mags4[j+2]-mags4[j+1],'o',color='purple')\n",
    "        \n",
    "        axes[1,5-j].annotate(\"\",xy=(mags2[j+1]-mags2[j],mags2[j+2]-mags2[j+1]), xycoords='data',\n",
    "            xytext=(mags1[j+1]-mags1[j],mags1[j+2]-mags1[j+1]),textcoords='data',\n",
    "            arrowprops=dict(color='red',headwidth=8,headlength=12,width=0.1))\n",
    "\n",
    "        axes[1,5-j].annotate(\"\",xy=(mags4[j+1]-mags4[j],mags4[j+2]-mags4[j+1]), xycoords='data',\n",
    "            xytext=(mags1[j+1]-mags1[j],mags1[j+2]-mags1[j+1]),textcoords='data',\n",
    "            arrowprops=dict(color='purple',headwidth=8,headlength=12,width=0.1))\n",
    "\n",
    "        axes[1,5-j].plot(mags1[j+1]-mags1[j],mags1[j+2]-mags1[j+1],'o',color='black',label='2008')\n",
    "        axes[1,5-j].set_xlabel(bands[j+1]+'$-$'+bands[j])\n",
    "        axes[1,5-j].set_ylabel(bands[j+2]+'$-$'+bands[j+1])\n",
    "                        \n",
    "    \n",
    "    axes[0,5-j].plot(mags1[j+1]-mags1[j],mags1[j+1],'o',color='black')\n",
    "    axes[0,5-j].plot(mags2[j+1]-mags2[j],mags2[j+1],'o',color='red')\n",
    "    axes[0,5-j].plot(mags4[j+1]-mags4[j],mags4[j+1],'o',color='purple')\n",
    "    axes[0,5-j].annotate(\"\",xy=(mags2[j+1]-mags2[j],mags2[j+1]), xycoords='data',\n",
    "            xytext=(mags1[j+1]-mags1[j],mags1[j+1]),textcoords='data',\n",
    "            arrowprops=dict(color='red',headwidth=8,headlength=12,width=0.1))\n",
    "    axes[0,5-j].annotate(\"\",xy=(mags4[j+1]-mags4[j],mags4[j+1]), xycoords='data',\n",
    "            xytext=(mags1[j+1]-mags1[j],mags1[j+1]),textcoords='data',\n",
    "            arrowprops=dict(color='purple',headwidth=8,headlength=12,width=0.1))\n",
    "\n",
    "    axes[0,5-j].set_xlabel(bands[j+1]+'$-$'+bands[j])\n",
    "    axes[0,5-j].set_ylabel(bands[j+1])\n",
    "    \n",
    "\n",
    "for j in [0,1,2,3,4,5]: # extinction \n",
    "    if j!=5:\n",
    "        axes[1,5-j].plot(mags1ext[0,j+1]-mags1ext[0,j],mags1ext[0,j+2]-mags1ext[0,j+1],'+',color='blue',label='2008, AV=2.0 RV=2')\n",
    "        axes[1,5-j].plot(mags1ext[1,j+1]-mags1ext[1,j],mags1ext[1,j+2]-mags1ext[1,j+1],'o',color='blue',label='2008, AV=2.0 RV=3')\n",
    "        axes[1,5-j].plot(mags1ext[2,j+1]-mags1ext[2,j],mags1ext[2,j+2]-mags1ext[2,j+1],'x',color='blue',label='2008, AV=2.0 RV=5')\n",
    "        axes[1,5-j].plot(mags1ext[3,j+1]-mags1ext[3,j],mags1ext[3,j+2]-mags1ext[3,j+1],'+',color='green',label='2008, AV=4.0 RV=2')\n",
    "        axes[1,5-j].plot(mags1ext[4,j+1]-mags1ext[4,j],mags1ext[4,j+2]-mags1ext[4,j+1],'o',color='green',label='2008, AV=4.0 RV=3')\n",
    "        axes[1,5-j].plot(mags1ext[5,j+1]-mags1ext[5,j],mags1ext[5,j+2]-mags1ext[5,j+1],'x',color='green',label='2008, AV=4.0 RV=5')\n",
    "\n",
    "    axes[0,5-j].plot(mags1ext[0,j+1]-mags1ext[0,j],mags1ext[0,j+1],'+',color='blue')\n",
    "    axes[0,5-j].plot(mags1ext[1,j+1]-mags1ext[1,j],mags1ext[1,j+1],'o',color='blue')\n",
    "    axes[0,5-j].plot(mags1ext[2,j+1]-mags1ext[2,j],mags1ext[2,j+1],'x',color='blue')\n",
    "    axes[0,5-j].plot(mags1ext[3,j+1]-mags1ext[3,j],mags1ext[3,j+1],'+',color='green')\n",
    "    axes[0,5-j].plot(mags1ext[4,j+1]-mags1ext[4,j],mags1ext[4,j+1],'o',color='green')\n",
    "    axes[0,5-j].plot(mags1ext[5,j+1]-mags1ext[5,j],mags1ext[5,j+1],'x',color='green')\n",
    "    \n",
    "\n",
    "axes[1,1].plot(mags2[5]-mags2[4],mags2[6]-mags2[5],'o',color='red',label='2014') # just for the legend\n",
    "axes[1,1].plot(mags4[5]-mags4[4],mags4[6]-mags4[5],'o',color='purple',label='xshooter')\n",
    "axes[1,0].axis('off')\n",
    "fig.subplots_adjust(wspace=0.8,hspace=0.3)\n",
    "axes[1,1].legend(loc='center left', bbox_to_anchor=(-2, 0.5))\n",
    "for j in [0,1,2,3,4,5]:\n",
    "    axes[0,5-j].set_ylim(axes[0,5-j].get_ylim()[::-1])\n",
    "\n",
    "plt.show()\n",
    "\n"
   ]
  },
  {
   "cell_type": "code",
   "execution_count": null,
   "metadata": {},
   "outputs": [],
   "source": [
    "fig,axes=plt.subplots(1,2,figsize=(6,3))\n",
    "\n",
    "j=5\n",
    "axes[0].plot(mags1[j+1]-mags1[j],mags1[j],'o',color='black')\n",
    "axes[0].plot(mags2[j+1]-mags2[j],mags2[j],'o',color='red')\n",
    "axes[0].annotate(\"\",xy=(mags2[j+1]-mags2[j],mags2[j]), xycoords='data',\n",
    "    xytext=(mags1[j+1]-mags1[j],mags1[j]),textcoords='data',\n",
    "    arrowprops=dict(color='red',headwidth=8,headlength=12,width=0.1))\n",
    "axes[0].plot(mags4[j+1]-mags4[j],mags4[j],'o',color='purple')\n",
    "axes[0].annotate(\"\",xy=(mags4[j+1]-mags4[j],mags4[j]), xycoords='data',\n",
    "    xytext=(mags1[j+1]-mags1[j],mags1[j]),textcoords='data',\n",
    "    arrowprops=dict(color='purple',headwidth=8,headlength=12,width=0.1))\n",
    "axes[0].set_xlabel(bands[j+1]+'$-$'+bands[j])\n",
    "axes[0].set_ylabel(bands[j])\n",
    "\n",
    "axes[0].plot(mags1ext[0,j+1]-mags1ext[0,j],mags1ext[0,j],'+',color='blue')\n",
    "axes[0].plot(mags1ext[1,j+1]-mags1ext[1,j],mags1ext[1,j],'o',color='blue')\n",
    "axes[0].plot(mags1ext[2,j+1]-mags1ext[2,j],mags1ext[2,j],'x',color='blue')\n",
    "axes[0].plot(mags1ext[3,j+1]-mags1ext[3,j],mags1ext[3,j],'+',color='green')\n",
    "axes[0].plot(mags1ext[4,j+1]-mags1ext[4,j],mags1ext[4,j],'o',color='green')\n",
    "axes[0].plot(mags1ext[5,j+1]-mags1ext[5,j],mags1ext[5,j],'x',color='green')\n",
    "\n",
    "\n",
    "j=0     \n",
    "axes[1].annotate(\"\",xy=(mags2[j+1]-mags2[j],mags2[j+2]-mags2[j+1]), xycoords='data',\n",
    "    xytext=(mags1[j+1]-mags1[j],mags1[j+2]-mags1[j+1]),textcoords='data',\n",
    "    arrowprops=dict(color='red',headwidth=8,headlength=12,width=0.1))\n",
    "axes[1].annotate(\"\",xy=(mags4[j+1]-mags4[j],mags4[j+2]-mags4[j+1]), xycoords='data',\n",
    "    xytext=(mags1[j+1]-mags1[j],mags1[j+2]-mags1[j+1]),textcoords='data',\n",
    "    arrowprops=dict(color='purple',headwidth=8,headlength=12,width=0.1))\n",
    "axes[1].plot(mags1[j+1]-mags1[j],mags1[j+2]-mags1[j+1],'o',color='black',label='2008')\n",
    "axes[1].set_xlabel(bands[j+1]+'$-$'+bands[j])\n",
    "axes[1].set_ylabel(bands[j+2]+'$-$'+bands[j+1])\n",
    "\n",
    "axes[1].plot(mags1ext[0,j+1]-mags1ext[0,j],mags1ext[0,j+2]-mags1ext[0,j+1],'+',color='blue',label='2008, AV=2.0 RV=2')\n",
    "axes[1].plot(mags1ext[1,j+1]-mags1ext[1,j],mags1ext[1,j+2]-mags1ext[1,j+1],'o',color='blue',label='2008, AV=2.0 RV=3')\n",
    "axes[1].plot(mags1ext[2,j+1]-mags1ext[2,j],mags1ext[2,j+2]-mags1ext[2,j+1],'x',color='blue',label='2008, AV=2.0 RV=5')\n",
    "axes[1].plot(mags1ext[3,j+1]-mags1ext[3,j],mags1ext[3,j+2]-mags1ext[3,j+1],'+',color='green',label='2008, AV=4.0 RV=2')\n",
    "axes[1].plot(mags1ext[4,j+1]-mags1ext[4,j],mags1ext[4,j+2]-mags1ext[4,j+1],'o',color='green',label='2008, AV=4.0 RV=3')\n",
    "axes[1].plot(mags1ext[5,j+1]-mags1ext[5,j],mags1ext[5,j+2]-mags1ext[5,j+1],'x',color='green',label='2008, AV=4.0 RV=5')\n",
    "\n",
    "axes[1].plot(mags2[j+1]-mags2[j],mags2[j+2]-mags2[j+1],'o',color='red',label='2014')  \n",
    "axes[1].plot(mags4[j+1]-mags4[j],mags4[j+2]-mags4[j+1],'o',color='purple',label='xshooter') \n",
    "\n",
    "fig.subplots_adjust(wspace=0.4)\n",
    "axes[1].legend(loc='center right', bbox_to_anchor=(2.15, 0.5))\n",
    "\n",
    "\n",
    "axes[0].set_ylim(axes[0].get_ylim()[::-1])\n",
    "\n",
    "\n",
    "plt.show()"
   ]
  },
  {
   "cell_type": "markdown",
   "metadata": {},
   "source": [
    "## Extinction"
   ]
  },
  {
   "cell_type": "code",
   "execution_count": null,
   "metadata": {},
   "outputs": [],
   "source": []
  },
  {
   "cell_type": "code",
   "execution_count": null,
   "metadata": {
    "scrolled": true
   },
   "outputs": [],
   "source": [
    "fig,axs=plt.subplots(4,2,sharex='col',sharey='row',figsize=(15,18),gridspec_kw = {'height_ratios':[3, 2, 2, 3]})\n",
    "\n",
    "# fig.subplots_adjust(hspace=0)\n",
    "\n",
    "axs[0,1].plot(1/(xshooter['wav'].to(u.micron)),xshooter['flux']/10.,'purple',alpha=0.5)\n",
    "axs[0,0].plot(xshooter['wav'].to(u.micron),xshooter['flux']/10.,'purple',alpha=0.5,label='xshooter')\n",
    "\n",
    "axs[0,0].plot(allwav_2008,alldata_2008,'k',alpha=0.4,label='2008 observed')\n",
    "axs[0,0].plot(allwav_dec02,alldata_dec02,'red',label='02dec2014 observed')\n",
    "axs[0,1].plot(1/allwav_2008,alldata_2008,'k',alpha=0.4)\n",
    "axs[0,1].plot(1/allwav_dec02,alldata_dec02,'red')\n",
    "\n",
    "axs[0,0].plot(allwav_2008,fobs1ext[0],'b',label='2008 with AV=2.0 RV=2',linestyle='dotted',alpha=0.5)\n",
    "axs[0,1].plot(1/allwav_2008,fobs1ext[0],'b',linestyle='dotted',alpha=0.5)\n",
    "axs[0,0].plot(allwav_2008,fobs1ext[1],'b',label='2008 with AV=2.0 RV=3',linestyle='solid',alpha=0.5)\n",
    "axs[0,1].plot(1/allwav_2008,fobs1ext[1],'b',linestyle='solid',alpha=0.5)\n",
    "axs[0,0].plot(allwav_2008,fobs1ext[2],'b',label='2008 with AV=2.0 RV=5',linestyle='dashed',alpha=0.5)\n",
    "axs[0,1].plot(1/allwav_2008,fobs1ext[2],'b',linestyle='dashed',alpha=0.5)\n",
    "\n",
    "axs[0,0].plot(allwav_2008,fobs1ext[3],'g',label='2008 with AV=4.0 RV=2',linestyle='dotted',alpha=0.5)\n",
    "axs[0,1].plot(1/allwav_2008,fobs1ext[3],'g',linestyle='dotted',alpha=0.5)\n",
    "axs[0,0].plot(allwav_2008,fobs1ext[4],'g',label='2008 with AV=4.0 RV=3',linestyle='solid',alpha=0.5)\n",
    "axs[0,1].plot(1/allwav_2008,fobs1ext[4],'g',linestyle='solid',alpha=0.5)\n",
    "axs[0,0].plot(allwav_2008,fobs1ext[5],'g',label='2008 with AV=4.0 RV=5',linestyle='dashed',alpha=0.5)\n",
    "axs[0,1].plot(1/allwav_2008,fobs1ext[5],'g',linestyle='dashed',alpha=0.5)\n",
    "\n",
    "\n",
    "axs[0,0].set_xlim(0.25,2.75)\n",
    "axs[0,0].set_ylim(0,0.7E-13)\n",
    "axs[0,0].set_ylabel('$F_\\lambda$ (erg s$^{-1}$ cm$^{-2}$ $\\AA^{-1}$)')\n",
    "axs[0,0].legend(loc='best')\n",
    "axs[0,1].set_xlim(0,2.5)\n",
    "axs[0,1].set_ylim(0,0.7E-13)\n",
    "\n",
    "\n",
    "ext_dec02=-2.5*np.log10(alldata_dec02.value/interp2008(allwav_dec02))\n",
    "wav_xsho_clip=xshooter['wav'].to(u.micron)[1100:-500]\n",
    "ext_xsho_clip=-2.5*np.log10((xshooter['flux'][1100:-500].value/10)/interp2008(wav_xsho_clip))\n",
    "\n",
    "axs[1,0].plot(wav_xsho_clip,ext_xsho_clip,'purple',alpha=0.5,label='observed extinction')\n",
    "axs[1,1].plot(1./wav_xsho_clip,ext_xsho_clip,'purple',alpha=0.5)\n",
    "axs[1,0].set_ylabel('$A_\\lambda$')\n",
    "axs[1,0].set_ylim(-0.5,5.1)\n",
    "axs[1,0].plot(allwav_dec02,ext_dec02,'k',alpha=0.7,label='observed extinction')\n",
    "axs[1,1].plot(1./allwav_dec02,ext_dec02,'k',alpha=0.7)\n",
    "\n",
    "for R,line,legend in list(zip((2,3,5),('dotted','solid','dashed'),('2','3','5'))):\n",
    "    ext=F99(Rv=R)\n",
    "    axs[1,0].plot(allwav_2008,2.0*ext(allwav_2008),'b',linestyle=line,label='AV=2.0 RV='+legend+' law')\n",
    "    axs[1,1].plot(1/allwav_2008,2.0*ext(allwav_2008),'b',linestyle=line)\n",
    "    axs[1,0].plot(allwav_2008,4.0*ext(allwav_2008),'g',linestyle=line,label='AV=4.0 RV='+legend+' law')\n",
    "    axs[1,1].plot(1/allwav_2008,4.0*ext(allwav_2008),'g',linestyle=line)\n",
    "axs[1,0].legend(loc='best')\n",
    "        \n",
    "\n",
    "axs[2,0].set_ylabel('$E(\\lambda-V)$')      \n",
    "axs[2,0].plot(allwav_dec02,ext_dec02-2.0,'k',alpha=0.7)\n",
    "axs[2,1].plot(1./allwav_dec02,ext_dec02-2.0,'k',alpha=0.7)\n",
    "for R,line, in list(zip((2,3,5),('dotted','solid','dashed'))):\n",
    "    ext=F99(Rv=R)\n",
    "    axs[2,0].plot(allwav_2008,2.0*ext(allwav_2008)-2.0,'b',linestyle=line)\n",
    "    axs[2,1].plot(1/allwav_2008,2.0*ext(allwav_2008)-2.0,'b',linestyle=line)\n",
    "    axs[2,0].plot(allwav_2008,4.0*ext(allwav_2008)-4.0,'g',linestyle=line)\n",
    "    axs[2,1].plot(1/allwav_2008,4.0*ext(allwav_2008)-4.0,'g',linestyle=line)\n",
    "axs[2,0].set_ylim(-4.1,2.1)\n",
    "\n",
    "\n",
    "AH=mags2[1]-mags1[1]\n",
    "AK=mags2[0]-mags1[0]\n",
    "AHext=mags1ext[:,1]-mags1[1]\n",
    "AKext=mags1ext[:,0]-mags1[0]\n",
    "\n",
    "axs[3,0].set_ylabel('$E(\\lambda-K)$')      \n",
    "axs[3,0].plot(allwav_dec02,(ext_dec02-AK),'k',alpha=0.7,label='2008 -> 2014')\n",
    "axs[3,1].plot(1./allwav_dec02,(ext_dec02-AK),'k',alpha=0.7)\n",
    "for R,line, in list(zip((2,3,5),('dotted','solid','dashed'))):\n",
    "    ext=F99(Rv=R)\n",
    "    axs[3,0].plot(allwav_2008,(2.0*ext(allwav_2008)-AKext[j]),'b',linestyle=line)\n",
    "    axs[3,1].plot(1/allwav_2008,(2.0*ext(allwav_2008)-AKext[j]),'b',linestyle=line)\n",
    "    axs[3,0].plot(allwav_2008,(4.0*ext(allwav_2008)-AKext[j+3]),'g',linestyle=line)\n",
    "    axs[3,1].plot(1/allwav_2008,(4.0*ext(allwav_2008)-AKext[j+3]),'g',linestyle=line)\n",
    "axs[3,0].set_ylim(-0.5,5.1)\n",
    "\n",
    "axs[3,0].set_xlabel('$\\lambda$ [micron]')\n",
    "axs[3,1].set_xlabel('$\\lambda^{-1}$ [micron$^{-1}$]')\n",
    "\n",
    "\n",
    "fig.subplots_adjust(hspace=0.05)\n",
    "fig.subplots_adjust(wspace=0.03)\n",
    "\n",
    "plt.show()"
   ]
  },
  {
   "cell_type": "code",
   "execution_count": null,
   "metadata": {},
   "outputs": [],
   "source": []
  }
 ],
 "metadata": {
  "kernelspec": {
   "display_name": "Python 3",
   "language": "python",
   "name": "python3"
  },
  "language_info": {
   "codemirror_mode": {
    "name": "ipython",
    "version": 3
   },
   "file_extension": ".py",
   "mimetype": "text/x-python",
   "name": "python",
   "nbconvert_exporter": "python",
   "pygments_lexer": "ipython3",
   "version": "3.7.0"
  }
 },
 "nbformat": 4,
 "nbformat_minor": 2
}
