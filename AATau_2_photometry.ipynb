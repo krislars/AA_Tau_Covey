{
 "cells": [
  {
   "cell_type": "markdown",
   "metadata": {},
   "source": [
    "# AATau Photometry"
   ]
  },
  {
   "cell_type": "code",
   "execution_count": 1,
   "metadata": {},
   "outputs": [],
   "source": [
    "import numpy as np\n",
    "import tarfile\n",
    "import matplotlib.pyplot as plt\n",
    "import scipy.interpolate as interp\n",
    "from sys import platform\n",
    "from astropy.io import fits\n",
    "from astropy.io import ascii\n",
    "from astropy import units as u\n",
    "import astropy.table as Table\n",
    "from astropy.table import QTable\n",
    "from dust_extinction.parameter_averages import F99\n",
    "from synphot import units\n",
    "from synphot import SourceSpectrum,SpectralElement,Observation,ExtinctionModel1D,Empirical1D"
   ]
  },
  {
   "cell_type": "code",
   "execution_count": 2,
   "metadata": {},
   "outputs": [],
   "source": [
    "# %matplotlib notebook  \n",
    "%matplotlib inline"
   ]
  },
  {
   "cell_type": "markdown",
   "metadata": {},
   "source": [
    "Read in data files reduced by earlier notebook:"
   ]
  },
  {
   "cell_type": "code",
   "execution_count": 3,
   "metadata": {},
   "outputs": [],
   "source": [
    "data1 = ascii.read('AATau_IR2008.txt')\n",
    "data2 = ascii.read('AATau_opt2008.txt')\n",
    "data = Table.vstack([data2, data1])\n",
    "allwav_2008=data['wavelength']\n",
    "alldata_2008=data['flux']\n",
    "\n",
    "data1 = ascii.read('AATau_IR2014dec02.txt')\n",
    "data2 = ascii.read('AATau_opt2014dec02.txt')\n",
    "data = Table.vstack([data2, data1])\n",
    "allwav_dec02=data['wavelength']\n",
    "alldata_dec02=data['flux']\n",
    "\n",
    "data1 = ascii.read('AATau_IR2014dec12.txt')\n",
    "data2 = ascii.read('AATau_opt2014dec12.txt')\n",
    "data = Table.vstack([data2, data1])\n",
    "allwav_dec12=data['wavelength']\n",
    "alldata_dec12=data['flux']"
   ]
  },
  {
   "cell_type": "markdown",
   "metadata": {},
   "source": [
    "Make an interpolation function to divide one spectrum by the other:"
   ]
  },
  {
   "cell_type": "code",
   "execution_count": 4,
   "metadata": {},
   "outputs": [],
   "source": [
    "interp2008=interp.interp1d(allwav_2008,alldata_2008)"
   ]
  },
  {
   "cell_type": "markdown",
   "metadata": {},
   "source": [
    "The overlaps in the spectra are not tolerated by synphot, so we sort them:"
   ]
  },
  {
   "cell_type": "code",
   "execution_count": 5,
   "metadata": {},
   "outputs": [],
   "source": [
    "allwav_2008s=allwav_2008[np.argsort(allwav_2008)]\n",
    "alldata_2008s=alldata_2008[np.argsort(allwav_2008)]\n",
    "\n",
    "allwav_dec02s=allwav_dec02[np.argsort(allwav_dec02)]\n",
    "alldata_dec02s=alldata_dec02[np.argsort(allwav_dec02)]\n",
    "\n",
    "allwav_dec12s=allwav_dec12[np.argsort(allwav_dec12)]\n",
    "alldata_dec12s=alldata_dec12[np.argsort(allwav_dec12)]\n",
    "\n",
    "# By coincidence, some wavelengths are identical, so we nudge them a bit:\n",
    "# WARNING!  HARD WIRED!\n",
    "allwav_dec02s[2405]=np.float32(0.934964)*u.micron\n",
    "allwav_dec12s[2166]=np.float32(0.913868)*u.micron\n",
    "allwav_dec12s[2484]=np.float32(0.941703)*u.micron"
   ]
  },
  {
   "cell_type": "code",
   "execution_count": 6,
   "metadata": {},
   "outputs": [],
   "source": [
    "# Optional, for when the STScI ftp server is not answering:\n",
    "from synphot import config\n",
    "config.conf.vega_file='http://ssb.stsci.edu/cdbs/calspec/alpha_lyr_stis_008.fits'\n",
    "config.conf.johnson_u_file='http://ssb.stsci.edu/cdbs/comp/nonhst/johnson_u_004_syn.fits'\n",
    "config.conf.johnson_b_file='http://ssb.stsci.edu/cdbs/comp/nonhst/johnson_b_004_syn.fits'\n",
    "config.conf.johnson_v_file='http://ssb.stsci.edu/cdbs/comp/nonhst/johnson_v_004_syn.fits'\n",
    "config.conf.johnson_r_file='http://ssb.stsci.edu/cdbs/comp/nonhst/johnson_r_003_syn.fits'\n",
    "config.conf.johnson_i_file='http://ssb.stsci.edu/cdbs/comp/nonhst/johnson_i_003_syn.fits'\n",
    "config.conf.bessel_j_file='http://ssb.stsci.edu/cdbs/comp/nonhst/bessell_j_003_syn.fits'\n",
    "config.conf.bessel_h_file='http://ssb.stsci.edu/cdbs/comp/nonhst/bessell_h_004_syn.fits'\n",
    "config.conf.bessel_k_file='http://ssb.stsci.edu/cdbs/comp/nonhst/bessell_k_003_syn.fits'\n",
    "\n",
    "vega = SourceSpectrum.from_vega()\n",
    "u_band = SpectralElement.from_filter('johnson_u')\n",
    "b_band = SpectralElement.from_filter('johnson_b')\n",
    "v_band = SpectralElement.from_filter('johnson_v')\n",
    "r_band = SpectralElement.from_filter('johnson_r')\n",
    "i_band = SpectralElement.from_filter('johnson_i')\n",
    "j_band = SpectralElement.from_filter('bessel_j')\n",
    "h_band = SpectralElement.from_filter('bessel_h')\n",
    "k_band = SpectralElement.from_filter('bessel_k')\n"
   ]
  },
  {
   "cell_type": "markdown",
   "metadata": {},
   "source": [
    "Create synthetic spectra with the FMUNRED model:"
   ]
  },
  {
   "cell_type": "code",
   "execution_count": 7,
   "metadata": {},
   "outputs": [],
   "source": [
    "fobs1ext=dict()\n",
    "\n",
    "j=0\n",
    "\n",
    "for A in [2.0,4.0]:\n",
    "    for R in [2.0,3.0,5.0]:\n",
    "        ext=F99(Rv=R)\n",
    "        fobs1ext[j]=alldata_2008s*ext.extinguish(allwav_2008s,Av=A)\n",
    "        j+=1     "
   ]
  },
  {
   "cell_type": "markdown",
   "metadata": {},
   "source": [
    "Calculate photometry of observed and synthetically extinguished spectra:"
   ]
  },
  {
   "cell_type": "code",
   "execution_count": 14,
   "metadata": {},
   "outputs": [],
   "source": [
    "bands = [k_band,h_band,j_band,i_band,r_band,v_band,b_band]\n",
    "\n",
    "mags1ext=np.zeros((6,7))\n",
    "\n",
    "mags1=np.zeros(7)\n",
    "mags2=np.zeros(7)\n",
    "mags3=np.zeros(7)\n",
    "mags4=np.zeros(7)\n",
    "\n",
    "for j in [0,1,2,3,4,5,6]:\n",
    "    sp = SourceSpectrum(Empirical1D, points=allwav_2008s, lookup_table=alldata_2008s, keep_neg=False)\n",
    "    sp_obs = Observation(sp, bands[j])\n",
    "    mags1[j]=sp_obs.effstim(flux_unit='vegamag', vegaspec=vega).value # default binned=False\n",
    "    sp = SourceSpectrum(Empirical1D, points=allwav_dec02s, lookup_table=alldata_dec02s, keep_neg=False)\n",
    "    sp_obs = Observation(sp, bands[j])\n",
    "    mags2[j]=sp_obs.effstim(flux_unit='vegamag', vegaspec=vega).value\n",
    "    sp = SourceSpectrum(Empirical1D, points=allwav_dec12s, lookup_table=alldata_dec12s, keep_neg=False)\n",
    "    sp_obs = Observation(sp, bands[j])\n",
    "    mags3[j]=sp_obs.effstim(flux_unit='vegamag', vegaspec=vega).value\n",
    "    \n",
    "    for i in range(6):\n",
    "        sp = SourceSpectrum(Empirical1D, points=allwav_2008s, lookup_table=fobs1ext[i], keep_neg=False)\n",
    "        sp_obs = Observation(sp, bands[j])\n",
    "        mags1ext[i,j] = sp_obs.effstim(flux_unit='vegamag', vegaspec=vega).value\n",
    "    "
   ]
  },
  {
   "cell_type": "code",
   "execution_count": 15,
   "metadata": {},
   "outputs": [
    {
     "name": "stdout",
     "output_type": "stream",
     "text": [
      "Date         B     V     R     I     J     H     K\n",
      "2008Dec28 [13.99 12.85 11.57 10.54  9.48  8.64  8.13]\n",
      "2014Dec02 [16.59 14.85 12.84 11.5  10.04  8.9   8.12]\n",
      "2014Dec12 [16.18 14.95 12.95 11.61 10.07  8.92  8.11]\n"
     ]
    }
   ],
   "source": [
    "print(\"Date         B     V     R     I     J     H     K\")\n",
    "print(\"2008Dec28\",np.round(mags1[::-1],2))\n",
    "print(\"2014Dec02\",np.round(mags2[::-1],2))\n",
    "print(\"2014Dec12\",np.round(mags3[::-1],2))"
   ]
  },
  {
   "cell_type": "code",
   "execution_count": 16,
   "metadata": {},
   "outputs": [
    {
     "data": {
      "text/plain": [
       "array([ 8.12545762,  8.63775381,  9.4796061 , 10.54233954, 11.57235532,\n",
       "       12.84902046, 13.99366631])"
      ]
     },
     "execution_count": 16,
     "metadata": {},
     "output_type": "execute_result"
    }
   ],
   "source": [
    "mags1"
   ]
  },
  {
   "cell_type": "code",
   "execution_count": 17,
   "metadata": {},
   "outputs": [
    {
     "data": {
      "text/plain": [
       "array([ 8.1190166 ,  8.90018651, 10.03621318, 11.49856709, 12.84199828,\n",
       "       14.84816432, 16.58947888])"
      ]
     },
     "execution_count": 17,
     "metadata": {},
     "output_type": "execute_result"
    }
   ],
   "source": [
    "mags2"
   ]
  },
  {
   "cell_type": "code",
   "execution_count": 18,
   "metadata": {},
   "outputs": [
    {
     "data": {
      "text/plain": [
       "array([ 8.11189694,  8.92168367, 10.07173608, 11.61187158, 12.95395126,\n",
       "       14.94780733, 16.18287054])"
      ]
     },
     "execution_count": 18,
     "metadata": {},
     "output_type": "execute_result"
    }
   ],
   "source": [
    "mags3"
   ]
  },
  {
   "cell_type": "code",
   "execution_count": 19,
   "metadata": {},
   "outputs": [
    {
     "data": {
      "text/plain": [
       "array([[ 8.34920393,  8.98590141,  9.99722394, 11.32340427, 12.6551131 ,\n",
       "        14.65587901, 16.74044124],\n",
       "       [ 8.34196653,  8.96827834,  9.9944421 , 11.41831284, 12.82419083,\n",
       "        14.72582521, 16.50511259],\n",
       "       [ 8.33616823,  8.95416742,  9.9921507 , 11.49314381, 12.95895849,\n",
       "        14.77624733, 16.3072267 ],\n",
       "       [ 8.5726541 ,  9.33342211, 10.51339964, 12.09452271, 13.7034493 ,\n",
       "        16.38573996, 19.36822833],\n",
       "       [ 8.55824921,  9.29820724, 10.50705777, 12.27498226, 14.03625984,\n",
       "        16.56566564, 18.96291505],\n",
       "       [ 8.54670183,  9.27000966, 10.50173639, 12.41498897, 14.30036294,\n",
       "        16.68845579, 18.6013921 ]])"
      ]
     },
     "execution_count": 19,
     "metadata": {},
     "output_type": "execute_result"
    }
   ],
   "source": [
    "mags1ext"
   ]
  },
  {
   "cell_type": "markdown",
   "metadata": {},
   "source": [
    "I copy and paste into the figures file.  I'm not proud..."
   ]
  },
  {
   "cell_type": "code",
   "execution_count": null,
   "metadata": {},
   "outputs": [],
   "source": []
  }
 ],
 "metadata": {
  "kernelspec": {
   "display_name": "Python 3",
   "language": "python",
   "name": "python3"
  },
  "language_info": {
   "codemirror_mode": {
    "name": "ipython",
    "version": 3
   },
   "file_extension": ".py",
   "mimetype": "text/x-python",
   "name": "python",
   "nbconvert_exporter": "python",
   "pygments_lexer": "ipython3",
   "version": "3.7.0"
  }
 },
 "nbformat": 4,
 "nbformat_minor": 2
}
