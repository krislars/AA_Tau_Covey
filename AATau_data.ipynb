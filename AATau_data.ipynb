{
 "cells": [
  {
   "cell_type": "markdown",
   "metadata": {},
   "source": [
    "# AA Tau"
   ]
  },
  {
   "cell_type": "markdown",
   "metadata": {},
   "source": [
    "### Quick Links\n",
    "\n",
    "* Data Reduction\n",
    "    - Optical\n",
    "        - [Optical 2014](#opt14)\n",
    "           - [Dec 12](#opt14_12)\n",
    "           - [Dec 02](#opt14_02)\n",
    "        - [Optical 2008](#opt08)\n",
    "    - [Infrared](#ir)\n",
    "* [Combine opt and ir](#scaling)\n",
    "    - [Photometry](#photometry)\n",
    "        - [Bouvier/Schneider photometry](#googledocs)\n",
    "* [Extinction](#ext)\n",
    "    - [Fits](#fit)\n",
    "    - [Grey extinction?](#grey)\n",
    "\n",
    "[Write data to files](#write)\n",
    "\n",
    "[Figures for the paper](#figures)"
   ]
  },
  {
   "cell_type": "code",
   "execution_count": 1,
   "metadata": {},
   "outputs": [],
   "source": [
    "import numpy as np\n",
    "import tarfile"
   ]
  },
  {
   "cell_type": "code",
   "execution_count": 2,
   "metadata": {},
   "outputs": [],
   "source": [
    "import matplotlib.pyplot as plt\n",
    "# %matplotlib notebook  \n",
    "%matplotlib inline "
   ]
  },
  {
   "cell_type": "code",
   "execution_count": 3,
   "metadata": {},
   "outputs": [],
   "source": [
    "from astropy.io import fits"
   ]
  },
  {
   "cell_type": "code",
   "execution_count": 4,
   "metadata": {},
   "outputs": [],
   "source": [
    "import scipy.interpolate as interp\n",
    "from sys import platform"
   ]
  },
  {
   "cell_type": "markdown",
   "metadata": {},
   "source": [
    "# Optical 2014 <a name=\"opt14\"></a>\n"
   ]
  },
  {
   "cell_type": "markdown",
   "metadata": {},
   "source": [
    "\n",
    "> From: Gregory Herczeg <gherczeg1@gmail.com>  \n",
    "Date: Mon, Sep 21, 2015 at 6:38 PM  \n",
    "Subject: AA Tau spectra  \n",
    "To: Kevin Covey <kevin.covey@wwu.edu>  \n",
    "\n",
    "> ...Most of this data was obtained at UH88, the spectra are from the automated reduction.  I've developed an alternative pipeline for the red, but not the blue, and without fluxcal.  So, for now, this is what we have.  We also have V-band from acquisition images, so it should be possible to test the fluxcal that way.\n",
    "\n",
    "> The one ascii file is from DBSP in 2008 and should be good, with accurate fluxcal.\n",
    "\n",
    "> ftp://ftp.mpe.mpg.de/people/gregoryh/forkc\n"
   ]
  },
  {
   "cell_type": "markdown",
   "metadata": {},
   "source": [
    "From Kevin:\n",
    "\n",
    "> While documenting everything for an 'observations' section, I was able to figure out the timing of the optical spectra that were observed in 2014.  It looks like spec_C14_346_066_001_17_R.fits and spec_C14_346_199_001_17_R.fits (and B.fits) are the closest optical spectra to our Dec. 12 NIR observations, and spec_C14_336_061_001_17_R.fits and spec_C14_336_162_001_17_R.fits (and B.fits, of course) are closest to our Dec. 2nd NIR spectra. \n",
    "\n",
    "Dec 12, 2014\n",
    "\n",
    "spec_C14_346_066_001_17_R.fits and B.fits (later found to be bad in B, see below) \n",
    "\n",
    "spec_C14_346_199_001_17_R.fits and B.fits\n",
    "\n",
    "\n",
    "Dec 2, 2014\n",
    "\n",
    "spec_C14_336_061_001_17_R.fits and B.fits\n",
    "\n",
    "spec_C14_336_162_001_17_R.fits and B.fits\n"
   ]
  },
  {
   "cell_type": "code",
   "execution_count": 5,
   "metadata": {},
   "outputs": [],
   "source": [
    "# aatautar = tarfile.open('../../DATA/AATau.tar.gz')\n",
    "# aatautar.list()\n",
    "# aatautar.extractall(path=\"../../DATA/\")\n",
    "# aatautar.close()"
   ]
  },
  {
   "cell_type": "markdown",
   "metadata": {},
   "source": [
    "## Dec 12, 2014 <a name=\"opt14_12\"></a>\n",
    "\n",
    "**R band first:**"
   ]
  },
  {
   "cell_type": "code",
   "execution_count": 6,
   "metadata": {},
   "outputs": [
    {
     "ename": "FileNotFoundError",
     "evalue": "[Errno 2] No such file or directory: '../..//DATA/AATau/Optical/spec_C14_346_066_001_17_R.fits'",
     "output_type": "error",
     "traceback": [
      "\u001b[1;31m---------------------------------------------------------------------------\u001b[0m",
      "\u001b[1;31mFileNotFoundError\u001b[0m                         Traceback (most recent call last)",
      "\u001b[1;32m<ipython-input-6-e9b892624629>\u001b[0m in \u001b[0;36m<module>\u001b[1;34m\u001b[0m\n\u001b[1;32m----> 1\u001b[1;33m \u001b[0mhdulist\u001b[0m \u001b[1;33m=\u001b[0m \u001b[0mfits\u001b[0m\u001b[1;33m.\u001b[0m\u001b[0mopen\u001b[0m\u001b[1;33m(\u001b[0m\u001b[1;34m'../..//DATA/AATau/Optical/spec_C14_346_066_001_17_R.fits'\u001b[0m\u001b[1;33m)\u001b[0m\u001b[1;33m\u001b[0m\u001b[0m\n\u001b[0m\u001b[0;32m      2\u001b[0m \u001b[1;31m# hdulist.info()\u001b[0m\u001b[1;33m\u001b[0m\u001b[1;33m\u001b[0m\u001b[0m\n\u001b[0;32m      3\u001b[0m \u001b[0mRdata\u001b[0m\u001b[1;33m=\u001b[0m\u001b[0mhdulist\u001b[0m\u001b[1;33m[\u001b[0m\u001b[1;36m0\u001b[0m\u001b[1;33m]\u001b[0m\u001b[1;33m.\u001b[0m\u001b[0mdata\u001b[0m\u001b[1;33m\u001b[0m\u001b[0m\n\u001b[0;32m      4\u001b[0m \u001b[0mRstart\u001b[0m\u001b[1;33m=\u001b[0m\u001b[0mhdulist\u001b[0m\u001b[1;33m[\u001b[0m\u001b[1;36m0\u001b[0m\u001b[1;33m]\u001b[0m\u001b[1;33m.\u001b[0m\u001b[0mheader\u001b[0m\u001b[1;33m[\u001b[0m\u001b[1;34m'CRVAL1'\u001b[0m\u001b[1;33m]\u001b[0m\u001b[1;33m\u001b[0m\u001b[0m\n\u001b[0;32m      5\u001b[0m \u001b[0mRstep\u001b[0m\u001b[1;33m=\u001b[0m\u001b[0mhdulist\u001b[0m\u001b[1;33m[\u001b[0m\u001b[1;36m0\u001b[0m\u001b[1;33m]\u001b[0m\u001b[1;33m.\u001b[0m\u001b[0mheader\u001b[0m\u001b[1;33m[\u001b[0m\u001b[1;34m'CDELT1'\u001b[0m\u001b[1;33m]\u001b[0m\u001b[1;33m\u001b[0m\u001b[0m\n",
      "\u001b[1;32m~\\Miniconda3\\lib\\site-packages\\astropy\\io\\fits\\hdu\\hdulist.py\u001b[0m in \u001b[0;36mfitsopen\u001b[1;34m(name, mode, memmap, save_backup, cache, lazy_load_hdus, **kwargs)\u001b[0m\n\u001b[0;32m    149\u001b[0m \u001b[1;33m\u001b[0m\u001b[0m\n\u001b[0;32m    150\u001b[0m     return HDUList.fromfile(name, mode, memmap, save_backup, cache,\n\u001b[1;32m--> 151\u001b[1;33m                             lazy_load_hdus, **kwargs)\n\u001b[0m\u001b[0;32m    152\u001b[0m \u001b[1;33m\u001b[0m\u001b[0m\n\u001b[0;32m    153\u001b[0m \u001b[1;33m\u001b[0m\u001b[0m\n",
      "\u001b[1;32m~\\Miniconda3\\lib\\site-packages\\astropy\\io\\fits\\hdu\\hdulist.py\u001b[0m in \u001b[0;36mfromfile\u001b[1;34m(cls, fileobj, mode, memmap, save_backup, cache, lazy_load_hdus, **kwargs)\u001b[0m\n\u001b[0;32m    388\u001b[0m         return cls._readfrom(fileobj=fileobj, mode=mode, memmap=memmap,\n\u001b[0;32m    389\u001b[0m                              \u001b[0msave_backup\u001b[0m\u001b[1;33m=\u001b[0m\u001b[0msave_backup\u001b[0m\u001b[1;33m,\u001b[0m \u001b[0mcache\u001b[0m\u001b[1;33m=\u001b[0m\u001b[0mcache\u001b[0m\u001b[1;33m,\u001b[0m\u001b[1;33m\u001b[0m\u001b[0m\n\u001b[1;32m--> 390\u001b[1;33m                              lazy_load_hdus=lazy_load_hdus, **kwargs)\n\u001b[0m\u001b[0;32m    391\u001b[0m \u001b[1;33m\u001b[0m\u001b[0m\n\u001b[0;32m    392\u001b[0m     \u001b[1;33m@\u001b[0m\u001b[0mclassmethod\u001b[0m\u001b[1;33m\u001b[0m\u001b[0m\n",
      "\u001b[1;32m~\\Miniconda3\\lib\\site-packages\\astropy\\io\\fits\\hdu\\hdulist.py\u001b[0m in \u001b[0;36m_readfrom\u001b[1;34m(cls, fileobj, data, mode, memmap, save_backup, cache, lazy_load_hdus, **kwargs)\u001b[0m\n\u001b[0;32m   1037\u001b[0m             \u001b[1;32mif\u001b[0m \u001b[1;32mnot\u001b[0m \u001b[0misinstance\u001b[0m\u001b[1;33m(\u001b[0m\u001b[0mfileobj\u001b[0m\u001b[1;33m,\u001b[0m \u001b[0m_File\u001b[0m\u001b[1;33m)\u001b[0m\u001b[1;33m:\u001b[0m\u001b[1;33m\u001b[0m\u001b[0m\n\u001b[0;32m   1038\u001b[0m                 \u001b[1;31m# instantiate a FITS file object (ffo)\u001b[0m\u001b[1;33m\u001b[0m\u001b[1;33m\u001b[0m\u001b[0m\n\u001b[1;32m-> 1039\u001b[1;33m                 \u001b[0mfileobj\u001b[0m \u001b[1;33m=\u001b[0m \u001b[0m_File\u001b[0m\u001b[1;33m(\u001b[0m\u001b[0mfileobj\u001b[0m\u001b[1;33m,\u001b[0m \u001b[0mmode\u001b[0m\u001b[1;33m=\u001b[0m\u001b[0mmode\u001b[0m\u001b[1;33m,\u001b[0m \u001b[0mmemmap\u001b[0m\u001b[1;33m=\u001b[0m\u001b[0mmemmap\u001b[0m\u001b[1;33m,\u001b[0m \u001b[0mcache\u001b[0m\u001b[1;33m=\u001b[0m\u001b[0mcache\u001b[0m\u001b[1;33m)\u001b[0m\u001b[1;33m\u001b[0m\u001b[0m\n\u001b[0m\u001b[0;32m   1040\u001b[0m             \u001b[1;31m# The Astropy mode is determined by the _File initializer if the\u001b[0m\u001b[1;33m\u001b[0m\u001b[1;33m\u001b[0m\u001b[0m\n\u001b[0;32m   1041\u001b[0m             \u001b[1;31m# supplied mode was None\u001b[0m\u001b[1;33m\u001b[0m\u001b[1;33m\u001b[0m\u001b[0m\n",
      "\u001b[1;32m~\\Miniconda3\\lib\\site-packages\\astropy\\utils\\decorators.py\u001b[0m in \u001b[0;36mwrapper\u001b[1;34m(*args, **kwargs)\u001b[0m\n\u001b[0;32m    501\u001b[0m                         \u001b[1;31m# one with the name of the new argument to the function\u001b[0m\u001b[1;33m\u001b[0m\u001b[1;33m\u001b[0m\u001b[0m\n\u001b[0;32m    502\u001b[0m                         \u001b[0mkwargs\u001b[0m\u001b[1;33m[\u001b[0m\u001b[0mnew_name\u001b[0m\u001b[1;33m[\u001b[0m\u001b[0mi\u001b[0m\u001b[1;33m]\u001b[0m\u001b[1;33m]\u001b[0m \u001b[1;33m=\u001b[0m \u001b[0mvalue\u001b[0m\u001b[1;33m\u001b[0m\u001b[0m\n\u001b[1;32m--> 503\u001b[1;33m             \u001b[1;32mreturn\u001b[0m \u001b[0mfunction\u001b[0m\u001b[1;33m(\u001b[0m\u001b[1;33m*\u001b[0m\u001b[0margs\u001b[0m\u001b[1;33m,\u001b[0m \u001b[1;33m**\u001b[0m\u001b[0mkwargs\u001b[0m\u001b[1;33m)\u001b[0m\u001b[1;33m\u001b[0m\u001b[0m\n\u001b[0m\u001b[0;32m    504\u001b[0m \u001b[1;33m\u001b[0m\u001b[0m\n\u001b[0;32m    505\u001b[0m         \u001b[1;32mreturn\u001b[0m \u001b[0mwrapper\u001b[0m\u001b[1;33m\u001b[0m\u001b[0m\n",
      "\u001b[1;32m~\\Miniconda3\\lib\\site-packages\\astropy\\io\\fits\\file.py\u001b[0m in \u001b[0;36m__init__\u001b[1;34m(self, fileobj, mode, memmap, overwrite, cache)\u001b[0m\n\u001b[0;32m    176\u001b[0m             \u001b[0mself\u001b[0m\u001b[1;33m.\u001b[0m\u001b[0m_open_fileobj\u001b[0m\u001b[1;33m(\u001b[0m\u001b[0mfileobj\u001b[0m\u001b[1;33m,\u001b[0m \u001b[0mmode\u001b[0m\u001b[1;33m,\u001b[0m \u001b[0moverwrite\u001b[0m\u001b[1;33m)\u001b[0m\u001b[1;33m\u001b[0m\u001b[0m\n\u001b[0;32m    177\u001b[0m         \u001b[1;32melif\u001b[0m \u001b[0misinstance\u001b[0m\u001b[1;33m(\u001b[0m\u001b[0mfileobj\u001b[0m\u001b[1;33m,\u001b[0m \u001b[0mstr\u001b[0m\u001b[1;33m)\u001b[0m\u001b[1;33m:\u001b[0m\u001b[1;33m\u001b[0m\u001b[0m\n\u001b[1;32m--> 178\u001b[1;33m             \u001b[0mself\u001b[0m\u001b[1;33m.\u001b[0m\u001b[0m_open_filename\u001b[0m\u001b[1;33m(\u001b[0m\u001b[0mfileobj\u001b[0m\u001b[1;33m,\u001b[0m \u001b[0mmode\u001b[0m\u001b[1;33m,\u001b[0m \u001b[0moverwrite\u001b[0m\u001b[1;33m)\u001b[0m\u001b[1;33m\u001b[0m\u001b[0m\n\u001b[0m\u001b[0;32m    179\u001b[0m         \u001b[1;32melse\u001b[0m\u001b[1;33m:\u001b[0m\u001b[1;33m\u001b[0m\u001b[0m\n\u001b[0;32m    180\u001b[0m             \u001b[0mself\u001b[0m\u001b[1;33m.\u001b[0m\u001b[0m_open_filelike\u001b[0m\u001b[1;33m(\u001b[0m\u001b[0mfileobj\u001b[0m\u001b[1;33m,\u001b[0m \u001b[0mmode\u001b[0m\u001b[1;33m,\u001b[0m \u001b[0moverwrite\u001b[0m\u001b[1;33m)\u001b[0m\u001b[1;33m\u001b[0m\u001b[0m\n",
      "\u001b[1;32m~\\Miniconda3\\lib\\site-packages\\astropy\\io\\fits\\file.py\u001b[0m in \u001b[0;36m_open_filename\u001b[1;34m(self, filename, mode, overwrite)\u001b[0m\n\u001b[0;32m    553\u001b[0m \u001b[1;33m\u001b[0m\u001b[0m\n\u001b[0;32m    554\u001b[0m         \u001b[1;32mif\u001b[0m \u001b[1;32mnot\u001b[0m \u001b[0mself\u001b[0m\u001b[1;33m.\u001b[0m\u001b[0m_try_read_compressed\u001b[0m\u001b[1;33m(\u001b[0m\u001b[0mself\u001b[0m\u001b[1;33m.\u001b[0m\u001b[0mname\u001b[0m\u001b[1;33m,\u001b[0m \u001b[0mmagic\u001b[0m\u001b[1;33m,\u001b[0m \u001b[0mmode\u001b[0m\u001b[1;33m,\u001b[0m \u001b[0mext\u001b[0m\u001b[1;33m=\u001b[0m\u001b[0mext\u001b[0m\u001b[1;33m)\u001b[0m\u001b[1;33m:\u001b[0m\u001b[1;33m\u001b[0m\u001b[0m\n\u001b[1;32m--> 555\u001b[1;33m             \u001b[0mself\u001b[0m\u001b[1;33m.\u001b[0m\u001b[0m_file\u001b[0m \u001b[1;33m=\u001b[0m \u001b[0mfileobj_open\u001b[0m\u001b[1;33m(\u001b[0m\u001b[0mself\u001b[0m\u001b[1;33m.\u001b[0m\u001b[0mname\u001b[0m\u001b[1;33m,\u001b[0m \u001b[0mIO_FITS_MODES\u001b[0m\u001b[1;33m[\u001b[0m\u001b[0mmode\u001b[0m\u001b[1;33m]\u001b[0m\u001b[1;33m)\u001b[0m\u001b[1;33m\u001b[0m\u001b[0m\n\u001b[0m\u001b[0;32m    556\u001b[0m             \u001b[0mself\u001b[0m\u001b[1;33m.\u001b[0m\u001b[0mclose_on_error\u001b[0m \u001b[1;33m=\u001b[0m \u001b[1;32mTrue\u001b[0m\u001b[1;33m\u001b[0m\u001b[0m\n\u001b[0;32m    557\u001b[0m \u001b[1;33m\u001b[0m\u001b[0m\n",
      "\u001b[1;32m~\\Miniconda3\\lib\\site-packages\\astropy\\io\\fits\\util.py\u001b[0m in \u001b[0;36mfileobj_open\u001b[1;34m(filename, mode)\u001b[0m\n\u001b[0;32m    386\u001b[0m     \"\"\"\n\u001b[0;32m    387\u001b[0m \u001b[1;33m\u001b[0m\u001b[0m\n\u001b[1;32m--> 388\u001b[1;33m     \u001b[1;32mreturn\u001b[0m \u001b[0mopen\u001b[0m\u001b[1;33m(\u001b[0m\u001b[0mfilename\u001b[0m\u001b[1;33m,\u001b[0m \u001b[0mmode\u001b[0m\u001b[1;33m,\u001b[0m \u001b[0mbuffering\u001b[0m\u001b[1;33m=\u001b[0m\u001b[1;36m0\u001b[0m\u001b[1;33m)\u001b[0m\u001b[1;33m\u001b[0m\u001b[0m\n\u001b[0m\u001b[0;32m    389\u001b[0m \u001b[1;33m\u001b[0m\u001b[0m\n\u001b[0;32m    390\u001b[0m \u001b[1;33m\u001b[0m\u001b[0m\n",
      "\u001b[1;31mFileNotFoundError\u001b[0m: [Errno 2] No such file or directory: '../..//DATA/AATau/Optical/spec_C14_346_066_001_17_R.fits'"
     ]
    }
   ],
   "source": [
    "hdulist = fits.open('../..//DATA/AATau/Optical/spec_C14_346_066_001_17_R.fits')\n",
    "# hdulist.info()\n",
    "Rdata=hdulist[0].data\n",
    "Rstart=hdulist[0].header['CRVAL1']\n",
    "Rstep=hdulist[0].header['CDELT1']\n",
    "Rwavelength_346_066=np.arange(Rstart,Rstart+Rstep*Rdata.size,Rstep)*1.0E-4 # microns\n",
    "Rdata_346_066=hdulist[0].data\n",
    "hdulist.close()"
   ]
  },
  {
   "cell_type": "code",
   "execution_count": null,
   "metadata": {},
   "outputs": [],
   "source": [
    "hdulist = fits.open('../../DATA/AATau/Optical/spec_C14_346_199_001_17_R.fits')\n",
    "# hdulist.info()\n",
    "Rdata=hdulist[0].data\n",
    "Rstart=hdulist[0].header['CRVAL1']\n",
    "Rstep=hdulist[0].header['CDELT1']\n",
    "Rwavelength_346_199=np.arange(Rstart,Rstart+Rstep*Rdata.size,Rstep)*1.0E-4 # MICRONS MICRONS MICRONS!\n",
    "Rdata_346_199=hdulist[0].data\n",
    "hdulist.close()"
   ]
  },
  {
   "cell_type": "code",
   "execution_count": null,
   "metadata": {},
   "outputs": [],
   "source": [
    "hdulist[0].header['FLXUNITS']"
   ]
  },
  {
   "cell_type": "code",
   "execution_count": null,
   "metadata": {},
   "outputs": [],
   "source": [
    "fig,ax=plt.subplots()\n",
    "ax.plot(Rwavelength_346_066,Rdata_346_066,label=\"066\")\n",
    "ax.plot(Rwavelength_346_199,Rdata_346_199,label=\"199\")\n",
    "ax.set_title(\"AA Tau: R band 12Dec14\")\n",
    "ax.legend(loc=\"best\")\n",
    "plt.show()"
   ]
  },
  {
   "cell_type": "code",
   "execution_count": null,
   "metadata": {},
   "outputs": [],
   "source": [
    "np.min(Rwavelength_346_199),np.min(Rwavelength_346_066)  # They match"
   ]
  },
  {
   "cell_type": "markdown",
   "metadata": {},
   "source": [
    "Step 1 = Shift horizontally by matching Halpha peaks, scale vertically by matching the average flux in the flats from 0.78 to 0.92 microns"
   ]
  },
  {
   "cell_type": "code",
   "execution_count": null,
   "metadata": {},
   "outputs": [],
   "source": [
    "shift=np.argmax(Rdata_346_066)-np.argmax(Rdata_346_199)\n",
    "shift"
   ]
  },
  {
   "cell_type": "code",
   "execution_count": null,
   "metadata": {},
   "outputs": [],
   "source": [
    "Rwavelength_346_066[9]-Rwavelength_346_066[0]"
   ]
  },
  {
   "cell_type": "code",
   "execution_count": null,
   "metadata": {},
   "outputs": [],
   "source": [
    "scale = np.average(Rdata_346_066[np.logical_and(Rwavelength_346_066 < 0.92, \n",
    "                                                Rwavelength_346_066 > 0.78)]) \\\n",
    "    / np.average(Rdata_346_199[np.logical_and(Rwavelength_346_199 < 0.92, \n",
    "                                              Rwavelength_346_199 > 0.78)]) \n",
    "scale    "
   ]
  },
  {
   "cell_type": "markdown",
   "metadata": {},
   "source": [
    "The problem might be that the wavelengths aren't true without the horizontal shift, but we'll ignore that for now.\n",
    "\n",
    "Use the 199 wavelengths: chop off the end and shift+scale the 066 onto it"
   ]
  },
  {
   "cell_type": "code",
   "execution_count": null,
   "metadata": {},
   "outputs": [],
   "source": [
    "fig,ax=plt.subplots()\n",
    "ax.plot(Rwavelength_346_066[shift:], Rdata_346_066[shift:]/scale,label=\"066 scaled\")\n",
    "ax.plot(Rwavelength_346_066[shift:], Rdata_346_199[:-shift],label=\"199\")\n",
    "\n",
    "Rdata_dec12=(Rdata_346_199[:-shift]+Rdata_346_066[shift:]/scale)/2.0\n",
    "Rwavelength_dec12=Rwavelength_346_066[shift:]\n",
    "ax.plot(Rwavelength_dec12,Rdata_dec12,label=\"average\")\n",
    "ax.set_title(\"AA Tau: R band 12Dec14\")\n",
    "ax.legend(loc=\"best\")\n",
    "plt.show()"
   ]
  },
  {
   "cell_type": "markdown",
   "metadata": {
    "slideshow": "-"
   },
   "source": [
    "**Next B:**"
   ]
  },
  {
   "cell_type": "code",
   "execution_count": null,
   "metadata": {},
   "outputs": [],
   "source": [
    "hdulist = fits.open('../../DATA/AATau/Optical/spec_C14_346_066_001_17_B.fits')\n",
    "# hdulist.info()\n",
    "Bdata=hdulist[0].data\n",
    "Bstart=hdulist[0].header['CRVAL1']\n",
    "Bstep=hdulist[0].header['CDELT1']\n",
    "Bwavelength_346_066=np.arange(Bstart,Bstart+Bstep*Bdata.size,Bstep)*1.0E-4 # microns\n",
    "Bdata_346_066=hdulist[0].data\n",
    "hdulist.close()\n",
    "\n",
    "hdulist = fits.open('../../DATA/AATau/Optical/spec_C14_346_199_001_17_B.fits')\n",
    "# hdulist.info()\n",
    "Bdata=hdulist[0].data\n",
    "Bstart=hdulist[0].header['CRVAL1']\n",
    "Bstep=hdulist[0].header['CDELT1']\n",
    "Bwavelength_346_199=np.arange(Bstart,Bstart+Bstep*Bdata.size,Bstep)*1.0E-4 # microns\n",
    "Bdata_346_199=hdulist[0].data\n",
    "hdulist.close()\n"
   ]
  },
  {
   "cell_type": "markdown",
   "metadata": {},
   "source": [
    "Yikes!  346_066 is way too messy in B:"
   ]
  },
  {
   "cell_type": "code",
   "execution_count": null,
   "metadata": {},
   "outputs": [],
   "source": [
    "fig,ax=plt.subplots()\n",
    "ax.plot(Bwavelength_346_066,Bdata_346_066,label=\"066\")\n",
    "ax.plot(Bwavelength_346_199,Bdata_346_199,label=\"199\")\n",
    "ax.set_title(\"AA Tau: B band 12Dec14\")\n",
    "ax.legend(loc=\"best\")\n",
    "plt.show()"
   ]
  },
  {
   "cell_type": "markdown",
   "metadata": {},
   "source": [
    "Use only the 199 data (no shift, no scale):"
   ]
  },
  {
   "cell_type": "code",
   "execution_count": null,
   "metadata": {},
   "outputs": [],
   "source": [
    "fig,ax=plt.subplots()\n",
    "Bdata_dec12=Bdata_346_199\n",
    "Bwavelength_dec12=Bwavelength_346_199\n",
    "ax.plot(Bwavelength_dec12,Bdata_dec12,label=\"199 only\")\n",
    "ax.set_title(\"AA Tau: B band 12Dec14\")\n",
    "ax.legend(loc=\"best\")\n",
    "plt.show()"
   ]
  },
  {
   "cell_type": "markdown",
   "metadata": {},
   "source": [
    "**Match R and B?  Bottom line is that they don't overlap that much**"
   ]
  },
  {
   "cell_type": "code",
   "execution_count": null,
   "metadata": {},
   "outputs": [],
   "source": [
    "fig,ax=plt.subplots()\n",
    "ax.plot(Bwavelength_dec12,Bdata_dec12)\n",
    "ax.plot(Rwavelength_dec12[:100],Rdata_dec12[:100])\n",
    "ax.set_title(\"AA Tau: B and part of R 12Dec14\")\n",
    "plt.show()"
   ]
  },
  {
   "cell_type": "code",
   "execution_count": null,
   "metadata": {},
   "outputs": [],
   "source": [
    "Bwavelength_dec12[-20:],Rwavelength_dec12[:20]"
   ]
  },
  {
   "cell_type": "markdown",
   "metadata": {},
   "source": [
    "Conclusion: lop off points 0-7 of R band to \"match\""
   ]
  },
  {
   "cell_type": "code",
   "execution_count": null,
   "metadata": {},
   "outputs": [],
   "source": [
    "wavelength_dec12=np.append(Bwavelength_dec12,Rwavelength_dec12[8:])\n",
    "data_dec12=np.append(Bdata_dec12,Rdata_dec12[8:])\n",
    "fig,ax=plt.subplots()\n",
    "ax.plot(wavelength_dec12,data_dec12)\n",
    "ax.set_title(\"AA Tau: 12Dec14\")\n",
    "plt.show()"
   ]
  },
  {
   "cell_type": "markdown",
   "metadata": {},
   "source": [
    "## Dec 2, 2014 <a name=\"opt14_02\"></a>\n",
    "\n",
    "**R and B, just as above:**"
   ]
  },
  {
   "cell_type": "code",
   "execution_count": null,
   "metadata": {},
   "outputs": [],
   "source": [
    "hdulist = fits.open('../../DATA/AATau/Optical/spec_C14_336_061_001_17_R.fits')\n",
    "# hdulist.info()\n",
    "Rdata=hdulist[0].data\n",
    "Rstart=hdulist[0].header['CRVAL1']\n",
    "Rstep=hdulist[0].header['CDELT1']\n",
    "Rwavelength_336_061=np.arange(Rstart,Rstart+Rstep*Rdata.size,Rstep)*1.0E-4 # microns\n",
    "Rdata_336_061=hdulist[0].data\n",
    "hdulist.close()\n",
    "\n",
    "hdulist = fits.open('../../DATA/AATau/Optical/spec_C14_336_162_001_17_R.fits')\n",
    "# hdulist.info()\n",
    "Rdata=hdulist[0].data\n",
    "Rstart=hdulist[0].header['CRVAL1']\n",
    "Rstep=hdulist[0].header['CDELT1']\n",
    "Rwavelength_336_162=np.arange(Rstart,Rstart+Rstep*Rdata.size,Rstep)*1.0E-4 # microns\n",
    "Rdata_336_162=hdulist[0].data\n",
    "hdulist.close()\n",
    "\n",
    "shift=np.argmax(Rdata_336_061)-np.argmax(Rdata_336_162)\n",
    "\n",
    "scale = np.average(Rdata_336_061[np.logical_and(Rwavelength_336_061 < 0.92, \n",
    "                                                Rwavelength_336_061 > 0.78)]) \\\n",
    "    / np.average(Rdata_336_162[np.logical_and(Rwavelength_336_162 < 0.92, \n",
    "                                              Rwavelength_336_162 > 0.78)]) \n",
    "shift,scale    \n"
   ]
  },
  {
   "cell_type": "code",
   "execution_count": null,
   "metadata": {},
   "outputs": [],
   "source": [
    "hdulist[0].header['FLXUNITS']"
   ]
  },
  {
   "cell_type": "code",
   "execution_count": null,
   "metadata": {},
   "outputs": [],
   "source": [
    "fig,ax=plt.subplots()\n",
    "ax.plot(Rwavelength_336_061[shift:],Rdata_336_061[shift:])\n",
    "ax.plot(Rwavelength_336_162[shift:],scale * Rdata_336_162[:-shift])\n",
    "\n",
    "Rdata_dec02=(scale*Rdata_336_162[:-shift]+Rdata_336_061[shift:])/2.0\n",
    "Rwavelength_dec02=Rwavelength_336_061[shift:]\n",
    "ax.plot(Rwavelength_dec02,Rdata_dec02)\n",
    "ax.set_title(\"AA Tau: 02Dec14\")\n",
    "\n",
    "plt.show()"
   ]
  },
  {
   "cell_type": "code",
   "execution_count": null,
   "metadata": {},
   "outputs": [],
   "source": [
    "hdulist = fits.open('../../DATA/AATau/Optical/spec_C14_336_061_001_17_B.fits')\n",
    "# hdulist.info()\n",
    "Bdata=hdulist[0].data\n",
    "Bstart=hdulist[0].header['CRVAL1']\n",
    "Bstep=hdulist[0].header['CDELT1']\n",
    "Bwavelength_336_061=np.arange(Bstart,Bstart+Bstep*Bdata.size,Bstep)*1.0E-4 # microns\n",
    "Bdata_336_061=hdulist[0].data\n",
    "hdulist.close()\n",
    "\n",
    "hdulist = fits.open('../../DATA/AATau/Optical/spec_C14_336_162_001_17_B.fits')\n",
    "# hdulist.info()\n",
    "Bdata=hdulist[0].data\n",
    "Bstart=hdulist[0].header['CRVAL1']\n",
    "Bstep=hdulist[0].header['CDELT1']\n",
    "Bwavelength_336_162=np.arange(Bstart,Bstart+Bstep*Bdata.size,Bstep)*1.0E-4 # microns\n",
    "Bdata_336_162=hdulist[0].data\n",
    "hdulist.close()\n"
   ]
  },
  {
   "cell_type": "code",
   "execution_count": null,
   "metadata": {},
   "outputs": [],
   "source": [
    "fig,ax=plt.subplots()\n",
    "ax.plot(Bwavelength_336_061,Bdata_336_061)\n",
    "ax.plot(Bwavelength_336_162,Bdata_336_162)\n",
    "\n",
    "# These look good, so just average:\n",
    "\n",
    "Bdata_dec02=(Bdata_336_162+Bdata_336_061)/2.0\n",
    "Bwavelength_dec02=Bwavelength_336_061\n",
    "ax.plot(Bwavelength_dec02,Bdata_dec02)\n",
    "ax.set_title(\"AA Tau: 02Dec14\")\n",
    "plt.show()"
   ]
  },
  {
   "cell_type": "markdown",
   "metadata": {},
   "source": [
    "**Do R and B match?  Better than Dec 12!**"
   ]
  },
  {
   "cell_type": "code",
   "execution_count": null,
   "metadata": {},
   "outputs": [],
   "source": [
    "fig,ax=plt.subplots()\n",
    "ax.plot(Bwavelength_dec02,Bdata_dec02)\n",
    "ax.plot(Rwavelength_dec02[:100],Rdata_dec02[:100])\n",
    "ax.set_title(\"AA Tau: 02Dec14\")\n",
    "plt.show()"
   ]
  },
  {
   "cell_type": "code",
   "execution_count": null,
   "metadata": {},
   "outputs": [],
   "source": [
    "Bwavelength_dec02[-20:],Rwavelength_dec02[:20]"
   ]
  },
  {
   "cell_type": "markdown",
   "metadata": {},
   "source": [
    "Conclusion: To match, lop points 0-12 off of R to \"match\""
   ]
  },
  {
   "cell_type": "code",
   "execution_count": null,
   "metadata": {},
   "outputs": [],
   "source": [
    "wavelength_dec02=np.append(Bwavelength_dec02,Rwavelength_dec02[13:])\n",
    "data_dec02=np.append(Bdata_dec02,Rdata_dec02[13:])\n",
    "\n",
    "fig,ax=plt.subplots()\n",
    "ax.plot(wavelength_dec02,data_dec02)\n",
    "ax.set_title(\"AA Tau: 02Dec14\")\n",
    "plt.show()"
   ]
  },
  {
   "cell_type": "markdown",
   "metadata": {},
   "source": [
    "# Optical 2008 <a name=\"opt08\"></a>"
   ]
  },
  {
   "cell_type": "code",
   "execution_count": null,
   "metadata": {},
   "outputs": [],
   "source": [
    "wavelength2, data2, junk1, junk2 = np.loadtxt('../../DATA/AATau/Optical/aatau.dat', unpack=True,skiprows=9)\n",
    "wavelength2=wavelength2/10000.0\n",
    "wavelength3, data3, junk3, junk4 = np.loadtxt('../../DATA/AATau/Optical/aataublue.dat', unpack=True,skiprows=9)\n",
    "wavelength3=wavelength3/10000.0\n",
    "wavelength_2008=np.append(wavelength3[::-1],wavelength2)\n",
    "data_2008=np.append(data3[::-1],data2)\n",
    "\n"
   ]
  },
  {
   "cell_type": "code",
   "execution_count": null,
   "metadata": {},
   "outputs": [],
   "source": []
  },
  {
   "cell_type": "code",
   "execution_count": null,
   "metadata": {},
   "outputs": [],
   "source": [
    "fig,ax=plt.subplots()\n",
    "ax.plot(wavelength_dec02,data_dec02,label='dec 02 2014')\n",
    "ax.plot(wavelength_dec12,data_dec12,label='dec 12 2014')\n",
    "ax.plot(wavelength_2008,data_2008,label='2008 (fluxcal)')\n",
    "ax.legend(loc='best')\n",
    "ax.set_ylim(0,0.7E-13)\n",
    "ax.set_xlabel(\"wavelength (microns)\")\n",
    "ax.set_ylabel(\"Flux (erg/s/cm2/A)\")\n",
    "ax.set_title(\"Optical Spectra\")\n",
    "plt.show()"
   ]
  },
  {
   "cell_type": "markdown",
   "metadata": {},
   "source": [
    "Wavelength looks good, features in the same place."
   ]
  },
  {
   "cell_type": "code",
   "execution_count": null,
   "metadata": {},
   "outputs": [],
   "source": []
  },
  {
   "cell_type": "markdown",
   "metadata": {},
   "source": [
    "# Infrared <a name=\"ir\"></a>"
   ]
  },
  {
   "cell_type": "markdown",
   "metadata": {},
   "source": [
    "-- 2014 --  \n",
    "Dec 2:\n",
    "\n",
    "merge.AA_Tau.3-10.fits  \n",
    "merge.AA_Tau.28-31.fits  \n",
    "merge.AA_Tau.84-87.fits  \n",
    "\n",
    "Dec 12:\n",
    "\n",
    "comb.AA_Tau.31-34.fits  \n",
    "comb.AA_Tau.59-62.fits  \n",
    "comb.AA_Tau.111-114.fits  \n",
    "\n",
    "-- 2008 --  \n",
    "final.AATau.31-34.fits"
   ]
  },
  {
   "cell_type": "markdown",
   "metadata": {},
   "source": [
    "Kevin rewrote the files as AA_Tau.Dec2_2014.3-10.txt, etc:"
   ]
  },
  {
   "cell_type": "code",
   "execution_count": null,
   "metadata": {},
   "outputs": [],
   "source": [
    "IRwav2a, IRdata2a, junk= np.loadtxt('../../DATA/AATau/IR/AA_Tau.Dec2_2014.3-10.txt', unpack=True)\n",
    "IRwav2b, IRdata2b, junk= np.loadtxt('../../DATA/AATau/IR/AA_Tau.Dec2_2014.28-31.txt', unpack=True)\n",
    "IRwav2c, IRdata2c, junk= np.loadtxt('../../DATA/AATau/IR/AA_Tau.Dec2_2014.84-87.txt', unpack=True)\n",
    "IRwav12a, IRdata12a, junk= np.loadtxt('../../DATA/AATau/IR/AA_Tau.Dec12_2014.31-34.txt', unpack=True)\n",
    "IRwav12b, IRdata12b, junk= np.loadtxt('../../DATA/AATau/IR/AA_Tau.Dec12_2014.59-62.txt', unpack=True)\n",
    "IRwav12c, IRdata12c, junk= np.loadtxt('../../DATA/AATau/IR/AA_Tau.Dec12_2014.111-114.txt', unpack=True)\n",
    "\n",
    "\n",
    "hdulist = fits.open('../../DATA/AATau/IR/final.AATau.31-34.fits')\n",
    "IRwavelength_2008=hdulist[0].data[0]\n",
    "IRdata_2008=hdulist[0].data[1]\n",
    "hdulist.close()\n"
   ]
  },
  {
   "cell_type": "markdown",
   "metadata": {},
   "source": [
    "All IR wavelengths have a hitch around element 5000??\n",
    "\n",
    "2a and 2c are 7099 elements, 2b is 7100 elements\n",
    "\n",
    "12a is 7063, 12b is 7080, 12c is 7088"
   ]
  },
  {
   "cell_type": "markdown",
   "metadata": {},
   "source": [
    "Bottom line is that they are all different!  "
   ]
  },
  {
   "cell_type": "code",
   "execution_count": null,
   "metadata": {},
   "outputs": [],
   "source": [
    "# mask out the NaNs:\n",
    "def maskNans(wavelength,data):\n",
    "    \n",
    "    masked_data=data[np.logical_not(np.isnan(data))]\n",
    "    masked_wavelength=wavelength[np.logical_not(np.isnan(data))]\n",
    "\n",
    "    return (masked_wavelength,masked_data)\n",
    "\n",
    "IRwav2a, IRdata2a = maskNans(IRwav2a, IRdata2a)\n",
    "IRwav2b, IRdata2b = maskNans(IRwav2b, IRdata2b)\n",
    "IRwav2c, IRdata2c = maskNans(IRwav2c, IRdata2c)\n",
    "IRwav12a, IRdata12a = maskNans(IRwav12a, IRdata12a)\n",
    "IRwav12b, IRdata12b = maskNans(IRwav12b, IRdata12b)\n",
    "IRwav12c, IRdata12c = maskNans(IRwav12c, IRdata12c)\n",
    "\n",
    "IRwavelength_2008, IRdata_2008 = maskNans(IRwavelength_2008, IRdata_2008)\n"
   ]
  },
  {
   "cell_type": "code",
   "execution_count": null,
   "metadata": {},
   "outputs": [],
   "source": [
    "fig,[ax1,ax2]=plt.subplots(1,2)\n",
    "ax1.plot(IRwav2a,IRdata2a,label='2014Dec02a')\n",
    "ax1.plot(IRwav2b,IRdata2b,label='2014Dec02b')\n",
    "ax1.plot(IRwav2c,IRdata2c,label='2014Dec02c')\n",
    "ax2.plot(IRwav12a,IRdata12a,label='2014Dec12a')\n",
    "ax2.plot(IRwav12b,IRdata12b,label='2014Dec12b')\n",
    "ax2.plot(IRwav12c,IRdata12c,label='2014Dec12c')\n",
    "ax1.legend(loc='best')\n",
    "ax1.set_ylim(0,0.6e-13)\n",
    "ax2.legend(loc='best')\n",
    "ax2.set_ylim(0,0.6e-13)\n",
    "plt.show()"
   ]
  },
  {
   "cell_type": "markdown",
   "metadata": {},
   "source": [
    "Wavelength calibration looks good.  The third on Dec 2 and the second on Dec 12 do not look like the other two.  Why?"
   ]
  },
  {
   "cell_type": "markdown",
   "metadata": {},
   "source": [
    "# Scaling IR and Optical <a name=\"scaling\"></a>"
   ]
  },
  {
   "cell_type": "code",
   "execution_count": null,
   "metadata": {},
   "outputs": [],
   "source": [
    "fig,ax=plt.subplots()\n",
    "ax.plot(IRwavelength_2008,IRdata_2008)\n",
    "ax.plot(wavelength_2008,data_2008)\n",
    "ax.set_ylim(0,1E-13)\n",
    "ax.set_title(\"AA Tau: all 2008\")\n",
    "plt.show()"
   ]
  },
  {
   "cell_type": "markdown",
   "metadata": {},
   "source": [
    "The 2008 infrared matches reasonably with the 2008 optical, which is flux calibrated.  Therefore, don't do any scaling on the 2008."
   ]
  },
  {
   "cell_type": "markdown",
   "metadata": {},
   "source": [
    "There are three scaling tasks for the 2014 data: \n",
    "* scale the three infrared to match each other\n",
    "* scale the infrared to the optical\n",
    "* scale the overall 2014 spectrum by some unknown amount.  \n",
    "\n",
    "Getting the opt-ir to fit for the 2014 is easy because they overlap:"
   ]
  },
  {
   "cell_type": "code",
   "execution_count": null,
   "metadata": {},
   "outputs": [],
   "source": [
    "fig,ax=plt.subplots()\n",
    "ax.plot(IRwav2a,IRdata2a,label='2014Dec02a')\n",
    "ax.plot(IRwav2b,IRdata2b,label='2014Dec02b')\n",
    "ax.plot(IRwav2c,IRdata2c,label='2014Dec02c')\n",
    "ax.plot(wavelength_dec02,data_dec02,'k',label='2014 optical')\n",
    "ax.plot(IRwav2a[500:2400],IRdata2a[500:2400],'purple',label='normalize here')\n",
    "ax.legend(loc='best')\n",
    "ax.set_title(\"AA Tau: all 2014 Dec 02\")\n",
    "ax.set_ylim(-0.05E-13,0.5E-13)\n",
    "plt.show()"
   ]
  },
  {
   "cell_type": "code",
   "execution_count": null,
   "metadata": {},
   "outputs": [],
   "source": [
    "IRdata2b_scale=IRdata2b*np.mean(IRdata2a[500:2400])/np.mean(IRdata2b[500:2400])\n",
    "IRdata2c_scale=IRdata2c*np.mean(IRdata2a[500:2400])/np.mean(IRdata2c[500:2400])\n",
    "\n",
    "fig,ax=plt.subplots()\n",
    "ax.plot(IRwav2a,IRdata2a,label='2014Dec02a')\n",
    "ax.plot(IRwav2b,IRdata2b_scale,label='2014Dec02b')\n",
    "ax.plot(IRwav2c,IRdata2c_scale,label='2014Dec02c')\n",
    "ax.plot(wavelength_dec02,data_dec02,'k',label='2014 optical')\n",
    "ax.plot(IRwav2a[500:2400],IRdata2a[500:2400],'purple',label='normalize here')\n",
    "ax.legend(loc='best')\n",
    "ax.set_title(\"AA Tau: all 2014 Dec 02\")\n",
    "ax.set_ylim(-0.05E-13,0.5E-13)\n",
    "plt.show()\n"
   ]
  },
  {
   "cell_type": "markdown",
   "metadata": {},
   "source": [
    "Conclusion:  The third spectrum does not seem to go, because a simple scaling won't bring the long wavelength in line.  Keep the first two, scale to fit in the purple region, then average."
   ]
  },
  {
   "cell_type": "code",
   "execution_count": null,
   "metadata": {},
   "outputs": [],
   "source": [
    "np.mean(IRdata2b[500:2400])/np.mean(IRdata2a[500:2400])\n"
   ]
  },
  {
   "cell_type": "code",
   "execution_count": null,
   "metadata": {},
   "outputs": [],
   "source": [
    "IRwav2a[500],IRwav2a[2400],IRwav2b[500],IRwav2b[2400],IRwav2c[500],IRwav2c[2400]\n"
   ]
  },
  {
   "cell_type": "code",
   "execution_count": null,
   "metadata": {},
   "outputs": [],
   "source": [
    "f_IRdat2b=interp.interp1d(IRwav2b,IRdata2b_scale)\n",
    "\n",
    "IRwavelength_dec02=IRwav2a[:-5]\n",
    "IRdata_dec02=(IRdata2a[:-5]+f_IRdat2b(IRwavelength_dec02))/2.0\n",
    "\n",
    "fig,ax=plt.subplots()\n",
    "ax.plot(IRwavelength_dec02,IRdata_dec02,label='2014Dec02')\n",
    "ax.plot(wavelength_dec02,data_dec02,'k',label='2014 optical')\n",
    "ax.set_ylim(-0.05E-13,0.5E-13)\n",
    "ax.set_xlim(0.8,1.1)\n",
    "ax.set_title(\"AA Tau: all 2014 Dec 02\")\n",
    "plt.show()\n"
   ]
  },
  {
   "cell_type": "markdown",
   "metadata": {},
   "source": [
    "Not sure about the hitch in the long end of the optical... Match\n",
    "the slope in 0.85 to 0.90 microns projected to the value at 0.945?  Yes, this works."
   ]
  },
  {
   "cell_type": "code",
   "execution_count": null,
   "metadata": {},
   "outputs": [],
   "source": [
    "fitrange=np.logical_and(wavelength_dec02>0.85,wavelength_dec02<0.90)\n",
    "m,b=np.polyfit(wavelength_dec02[fitrange],data_dec02[fitrange],1)\n",
    "m*0.945+b"
   ]
  },
  {
   "cell_type": "code",
   "execution_count": null,
   "metadata": {},
   "outputs": [],
   "source": [
    "IRrange=np.logical_and(IRwavelength_dec02>0.94,IRwavelength_dec02<0.95)\n",
    "np.average(IRdata_dec02[IRrange])"
   ]
  },
  {
   "cell_type": "code",
   "execution_count": null,
   "metadata": {},
   "outputs": [],
   "source": [
    "(m*0.945+b)/(np.average(IRdata_dec02[IRrange]))"
   ]
  },
  {
   "cell_type": "markdown",
   "metadata": {},
   "source": [
    "So, ~~multiply the IR~~ divide the optical by 1.0071"
   ]
  },
  {
   "cell_type": "code",
   "execution_count": null,
   "metadata": {},
   "outputs": [],
   "source": [
    "\n",
    "IRwavelength_dec02=IRwav2a[:-5]\n",
    "IRdata_dec02=(IRdata2a[:-5]+f_IRdat2b(IRwavelength_dec02))/2.0\n",
    "data_dec02scale=data_dec02/1.0071\n",
    "\n",
    "fig,ax=plt.subplots()\n",
    "ax.plot(IRwavelength_dec02,IRdata_dec02,label='2014Dec02')\n",
    "ax.plot(wavelength_dec02,data_dec02scale,'k',label='2014 optical')\n",
    "ax.set_ylim(-0.05E-13,0.5E-13)\n",
    "ax.set_xlim(0.8,1.1)\n",
    "ax.set_title(\"AA Tau: all 2014 Dec 02\")\n",
    "plt.show()\n"
   ]
  },
  {
   "cell_type": "markdown",
   "metadata": {},
   "source": [
    "**Repeat for the other night**"
   ]
  },
  {
   "cell_type": "code",
   "execution_count": null,
   "metadata": {},
   "outputs": [],
   "source": [
    "IRdata12b_scale=IRdata12b*np.mean(IRdata12a[500:2400])/np.mean(IRdata12b[500:2400])\n",
    "IRdata12c_scale=IRdata12c*np.mean(IRdata12a[500:2400])/np.mean(IRdata12c[500:2400])\n",
    "\n",
    "fig,ax=plt.subplots()\n",
    "ax.plot(IRwav12a,IRdata12a,label='2014Dec12a')\n",
    "ax.plot(IRwav12b,IRdata12b_scale,label='2014Dec12b')\n",
    "ax.plot(IRwav12c,IRdata12c_scale,label='2014Dec12c')\n",
    "ax.plot(wavelength_dec02,data_dec02,'k',label='2014 optical')\n",
    "ax.plot(IRwav12a[500:2400],IRdata12a[500:2400],'purple',label='normalize here')\n",
    "ax.legend(loc='best')\n",
    "ax.set_ylim(-0.05E-13,0.5E-13)\n",
    "ax.set_title(\"AA Tau: all 2014 Dec 12\")\n",
    "plt.show()\n"
   ]
  },
  {
   "cell_type": "markdown",
   "metadata": {},
   "source": [
    "These look better."
   ]
  },
  {
   "cell_type": "code",
   "execution_count": null,
   "metadata": {},
   "outputs": [],
   "source": [
    "np.mean(IRdata12a[500:2400])/np.mean(IRdata12b[500:2400]),np.mean(IRdata12a[500:2400])/np.mean(IRdata12c[500:2400])"
   ]
  },
  {
   "cell_type": "code",
   "execution_count": null,
   "metadata": {},
   "outputs": [],
   "source": [
    "f_IRdat12b=interp.interp1d(IRwav12b,IRdata12b_scale)\n",
    "f_IRdat12c=interp.interp1d(IRwav12c,IRdata12c_scale)\n",
    "\n",
    "IRwavelength_dec12=IRwav12a\n",
    "IRdata_dec12=(IRdata12a+f_IRdat12b(IRwavelength_dec12)+f_IRdat12b(IRwavelength_dec12))/3.0\n",
    "\n",
    "fig,ax=plt.subplots()\n",
    "ax.plot(IRwavelength_dec12,IRdata_dec12,label='2014Dec12')\n",
    "ax.plot(wavelength_dec12,data_dec12,'k',label='2014 optical')\n",
    "ax.set_ylim(-0.05E-13,0.5E-13)\n",
    "ax.set_xlim(0.8,1.1)\n",
    "ax.set_title(\"AA Tau: all 2014 Dec 12\")\n",
    "plt.show()\n"
   ]
  },
  {
   "cell_type": "code",
   "execution_count": null,
   "metadata": {},
   "outputs": [],
   "source": [
    "fitrange=np.logical_and(wavelength_dec12>0.85,wavelength_dec12<0.90)\n",
    "m,b=np.polyfit(wavelength_dec12[fitrange],data_dec12[fitrange],1)\n",
    "m*0.945+b"
   ]
  },
  {
   "cell_type": "code",
   "execution_count": null,
   "metadata": {},
   "outputs": [],
   "source": [
    "IRrange=np.logical_and(IRwavelength_dec12>0.94,IRwavelength_dec12<0.95)\n",
    "np.average(IRdata_dec12[IRrange])\n",
    "# IRdata_dec12[IRrange]"
   ]
  },
  {
   "cell_type": "code",
   "execution_count": null,
   "metadata": {},
   "outputs": [],
   "source": [
    "(m*0.945+b)/(np.average(IRdata_dec12[IRrange]))"
   ]
  },
  {
   "cell_type": "markdown",
   "metadata": {},
   "source": [
    "So, ~~multiply the IR~~ divide the optical by 1.5214 (multiply by 0.657) to match. "
   ]
  },
  {
   "cell_type": "code",
   "execution_count": null,
   "metadata": {},
   "outputs": [],
   "source": [
    "f_IRdat12b=interp.interp1d(IRwav12b,IRdata12b_scale)\n",
    "f_IRdat12c=interp.interp1d(IRwav12c,IRdata12c_scale)\n",
    "\n",
    "IRwavelength_dec12=IRwav12a\n",
    "IRdata_dec12=(IRdata12a+f_IRdat12b(IRwavelength_dec12)+f_IRdat12b(IRwavelength_dec12))/3.0\n",
    "data_dec12scale=data_dec12/1.5214\n",
    "\n",
    "fig,ax=plt.subplots()\n",
    "ax.plot(wavelength_dec12,data_dec12scale,'k',label='2014 optical')\n",
    "ax.plot(IRwavelength_dec12,IRdata_dec12,label='2014Dec12')\n",
    "ax.set_ylim(-0.05E-13,0.5E-13)\n",
    "ax.set_xlim(0.8,1.1)\n",
    "ax.set_title(\"AA Tau: all 2014 Dec 12\")\n",
    "plt.show()"
   ]
  },
  {
   "cell_type": "code",
   "execution_count": null,
   "metadata": {},
   "outputs": [],
   "source": [
    "fig,ax=plt.subplots()\n",
    "ax.plot(IRwavelength_2008,IRdata_2008,'r')\n",
    "ax.plot(wavelength_2008,data_2008,'r',label='2008')\n",
    "ax.plot(IRwavelength_dec02,IRdata_dec02,'b',label='2014Dec02')\n",
    "ax.plot(wavelength_dec02,data_dec02scale,'b')\n",
    "ax.plot(IRwavelength_dec12,IRdata_dec12,'k',label='2014Dec12')\n",
    "ax.plot(wavelength_dec12,data_dec12scale,'k')\n",
    "ax.legend(loc='best')\n",
    "ax.set_title('AA Tau')\n",
    "ax.set_ylim(-0.05E-13,0.7E-13)\n",
    "plt.show()"
   ]
  },
  {
   "cell_type": "markdown",
   "metadata": {},
   "source": [
    "To recap, there are three scaling tasks for the 2014 data: \n",
    "* ~~scale the three infrared to match each other~~\n",
    "* ~~scale the infrared to the optical~~\n",
    "* scale the overall 2014 spectrum by some unknown amount.  \n"
   ]
  },
  {
   "cell_type": "markdown",
   "metadata": {},
   "source": [
    "### To do that, we need photometry.  To do photometry, we need units."
   ]
  },
  {
   "cell_type": "markdown",
   "metadata": {},
   "source": [
    "### Units:  1 erg/s = 1E-7 W, so 1 erg/s cm^2 = 1E-3 W/ m^2 and 1 erg/s cm^2 A = 10 W/ m^2 um"
   ]
  },
  {
   "cell_type": "code",
   "execution_count": null,
   "metadata": {},
   "outputs": [],
   "source": [
    "from astropy import units as u"
   ]
  },
  {
   "cell_type": "code",
   "execution_count": null,
   "metadata": {},
   "outputs": [],
   "source": []
  },
  {
   "cell_type": "code",
   "execution_count": null,
   "metadata": {},
   "outputs": [],
   "source": [
    "IRdata_dec02u = IRdata_dec02    * u.erg / (u.s * u.cm * u.cm * u.AA)\n",
    "IRdata_dec12u = IRdata_dec12    * u.erg / (u.s * u.cm * u.cm * u.AA)\n",
    "IRdata_2008u  = IRdata_2008     * u.erg / (u.s * u.cm * u.cm * u.AA)\n",
    "data_dec02u   = data_dec02scale * u.erg / (u.s * u.cm * u.cm * u.AA)\n",
    "data_dec12u   = data_dec12scale * u.erg / (u.s * u.cm * u.cm * u.AA)\n",
    "data_2008u    = data_2008       * u.erg / (u.s * u.cm * u.cm * u.AA)\n"
   ]
  },
  {
   "cell_type": "code",
   "execution_count": null,
   "metadata": {},
   "outputs": [],
   "source": [
    "IRwavelength_dec02u = IRwavelength_dec02 * u.micron\n",
    "IRwavelength_dec12u = IRwavelength_dec12 * u.micron\n",
    "IRwavelength_2008u  =  IRwavelength_2008 * u.micron\n",
    "wavelength_dec02u   =   wavelength_dec02 * u.micron\n",
    "wavelength_dec12u   =   wavelength_dec12 * u.micron\n",
    "wavelength_2008u    =    wavelength_2008 * u.micron"
   ]
  },
  {
   "cell_type": "code",
   "execution_count": null,
   "metadata": {},
   "outputs": [],
   "source": []
  },
  {
   "cell_type": "markdown",
   "metadata": {},
   "source": [
    "# Use photometry to constrain the scaling: <a name=\"photometry\"></a>"
   ]
  },
  {
   "cell_type": "markdown",
   "metadata": {},
   "source": [
    "Options:\n",
    "\n",
    "A. Tie the whole scale to the AAVSO data:  V(2014) = 15.0\n",
    "\n",
    "B. Use magnitudes from the literature:\n",
    "\n",
    "> <em>X-ray to NIR emission from AA Tauri during the dim state - Occultation of the inner disk and gas-to-dust ratio of the absorber</em>\n",
    "\n",
    "> P. C. Schneider, K. France, H. M. Günther, G. J. Herczeg, J. Robrade, J. Bouvier, M. McJunkin, J. H. M. M. Schmitt\n",
    "\n",
    "> (Submitted on 16 Sep 2015)\n",
    "\n",
    "These new observations happen just at the end of their plot, so 15.2 ish.  \n",
    "\n",
    "\n",
    "C. **From Kevin: V = 12.73$\\pm$0.35 in 2008 to V = 14.95$\\pm$0.43 in 2014** (dated 2/22/18 from figure)\n",
    "\n",
    "**So, accept all scaling that will yield between V = 14.52 and V = 15.38 in 2014.**"
   ]
  },
  {
   "cell_type": "code",
   "execution_count": null,
   "metadata": {},
   "outputs": [],
   "source": [
    "if platform=='win32':\n",
    "    %run utils\\getMag.py\n",
    "else:  \n",
    "    %run utils/getMag.py"
   ]
  },
  {
   "cell_type": "markdown",
   "metadata": {},
   "source": [
    "No scaling:"
   ]
  },
  {
   "cell_type": "code",
   "execution_count": null,
   "metadata": {},
   "outputs": [],
   "source": [
    "getMag('V',wavelength_2008u,data_2008u)"
   ]
  },
  {
   "cell_type": "code",
   "execution_count": null,
   "metadata": {},
   "outputs": [],
   "source": [
    "getMag('V',wavelength_dec02u,data_dec02u)"
   ]
  },
  {
   "cell_type": "code",
   "execution_count": null,
   "metadata": {},
   "outputs": [],
   "source": [
    "getMag('V',wavelength_dec12u,data_dec12u)"
   ]
  },
  {
   "cell_type": "markdown",
   "metadata": {},
   "source": [
    "Hunt and peck scaling here: "
   ]
  },
  {
   "cell_type": "raw",
   "metadata": {},
   "source": [
    "getMag('V',wavelength_dec02u,data_dec02u*0.67)"
   ]
  },
  {
   "cell_type": "raw",
   "metadata": {},
   "source": [
    "getMag('V',wavelength_dec02u,data_dec02u*1.48)"
   ]
  },
  {
   "cell_type": "raw",
   "metadata": {},
   "source": [
    "getMag('V',wavelength_dec12u,data_dec12u*0.48)"
   ]
  },
  {
   "cell_type": "raw",
   "metadata": {},
   "source": [
    "getMag('V',wavelength_dec12u,data_dec12u*1.06)"
   ]
  },
  {
   "cell_type": "markdown",
   "metadata": {},
   "source": [
    "Now require each spectrum gets fainter in K?  Check Ks:"
   ]
  },
  {
   "cell_type": "code",
   "execution_count": null,
   "metadata": {},
   "outputs": [],
   "source": [
    "# NO LONGER NEEDED, KEVIN TOOK CARE OF THE NaNs\n",
    "# mask out the NaNs:\n",
    "def maskNans(wavelength,data):\n",
    "    masked_data=data[np.logical_not(np.isnan(data))]\n",
    "    masked_wavelength=wavelength[np.logical_not(np.isnan(data))]\n",
    "    return (masked_wavelength,masked_data)"
   ]
  },
  {
   "cell_type": "code",
   "execution_count": null,
   "metadata": {},
   "outputs": [],
   "source": []
  },
  {
   "cell_type": "code",
   "execution_count": null,
   "metadata": {},
   "outputs": [],
   "source": [
    "getMag('Ks',IRwavelength_2008u,IRdata_2008u)"
   ]
  },
  {
   "cell_type": "code",
   "execution_count": null,
   "metadata": {},
   "outputs": [],
   "source": [
    "getMag('Ks',IRwavelength_dec02u,IRdata_dec02u)"
   ]
  },
  {
   "cell_type": "code",
   "execution_count": null,
   "metadata": {},
   "outputs": [],
   "source": [
    "getMag('Ks',IRwavelength_dec12u,IRdata_dec12u)"
   ]
  },
  {
   "cell_type": "code",
   "execution_count": null,
   "metadata": {},
   "outputs": [],
   "source": []
  },
  {
   "cell_type": "markdown",
   "metadata": {
    "collapsed": true
   },
   "source": [
    "## Scaling, Revisited <a name=\"googledocs\"></a>"
   ]
  },
  {
   "cell_type": "markdown",
   "metadata": {},
   "source": [
    "Now use the Bouvier/Schneider photometry on google docs.  Consider everything at the fall 2011 campaign and more recent.\n",
    "\n",
    " | V | R | J | H | K\n",
    "--- | --- | --- | --- | ---\n",
    "min | 13.50 | 12.04 | 10.46 | 9.20 | 8.43\n",
    "max | 16.49 | 14.83  | 11.13 | 10.13 | 9.70"
   ]
  },
  {
   "cell_type": "code",
   "execution_count": null,
   "metadata": {},
   "outputs": [],
   "source": [
    "test=np.array([])\n",
    "\n",
    "for j in np.arange(0.2,2.0,.01):\n",
    "    if 9.70 > getMag('Ks',IRwavelength_dec02u,IRdata_dec02u*j) > 8.43:\n",
    "        test=np.append(test,j)\n",
    "        \n",
    "print,'min=',np.min(test),' max=',np.max(test)"
   ]
  },
  {
   "cell_type": "code",
   "execution_count": null,
   "metadata": {},
   "outputs": [],
   "source": [
    "for j in np.arange(0.2,2.0,.01):\n",
    "    if 10.13 > getMag('H',IRwavelength_dec02u,IRdata_dec02u*j) > 9.2:\n",
    "        test=np.append(test,j)\n",
    "        \n",
    "print,'min=',np.min(test),' max=',np.max(test)"
   ]
  },
  {
   "cell_type": "code",
   "execution_count": null,
   "metadata": {},
   "outputs": [],
   "source": [
    "for j in np.arange(0.2,2.0,.01):\n",
    "    if 11.13 > getMag('J',IRwavelength_dec02u,IRdata_dec02u*j) > 10.46:\n",
    "        test=np.append(test,j)\n",
    "  \n",
    "print,'min=',np.min(test),' max=',np.max(test)"
   ]
  },
  {
   "cell_type": "markdown",
   "metadata": {},
   "source": [
    "These NIR magnitudes are very faint, and the optical magnitudes are over too large a range.  Look what scaling like this does to the optical mags:"
   ]
  },
  {
   "cell_type": "code",
   "execution_count": null,
   "metadata": {},
   "outputs": [],
   "source": [
    "getMag('V',wavelength_dec02u,data_dec02u*0.26),getMag('V',wavelength_dec02u,data_dec02u*0.80)"
   ]
  },
  {
   "cell_type": "markdown",
   "metadata": {},
   "source": [
    "So, the V = 15.2 is just barely consistent with Kevin's read of the AAVSO data.  \n",
    "\n",
    "My read of the AAVSO data is that V could be anywhere between 14.3 and 15.8:"
   ]
  },
  {
   "cell_type": "code",
   "execution_count": null,
   "metadata": {},
   "outputs": [],
   "source": [
    "test=np.array([])\n",
    "for j in np.arange(0.2,2.0,.01):\n",
    "    if 15.8 > getMag('V',wavelength_dec02u,data_dec02u*j) > 14.3:\n",
    "        test=np.append(test,j)\n",
    "print,'min=',np.min(test),' max=',np.max(test)"
   ]
  },
  {
   "cell_type": "markdown",
   "metadata": {},
   "source": [
    "The V=13.5 and V=19.5 from the google docs is just too big a range to be useful."
   ]
  },
  {
   "cell_type": "code",
   "execution_count": null,
   "metadata": {},
   "outputs": [],
   "source": [
    "test=np.array([])\n",
    "for j in np.arange(0.2,2.0,.01):\n",
    "    if 14.83 > getMag('R',wavelength_dec02u,data_dec02u*j) > 12.04:\n",
    "        test=np.append(test,j)\n",
    "print,'min=',np.min(test),' max=',np.max(test)"
   ]
  },
  {
   "cell_type": "code",
   "execution_count": null,
   "metadata": {},
   "outputs": [],
   "source": [
    "# Repeat for the other night:\n",
    "test=np.array([])\n",
    "for j in np.arange(0.2,2.0,.01):\n",
    "    if 9.7 > getMag('Ks',IRwavelength_dec12u,IRdata_dec12u*j) > 8.43:\n",
    "        test=np.append(test,j)\n",
    "print,'min=',np.min(test),' max=',np.max(test)"
   ]
  },
  {
   "cell_type": "code",
   "execution_count": null,
   "metadata": {},
   "outputs": [],
   "source": [
    "# Repeat for the other night:\n",
    "test=np.array([])\n",
    "for j in np.arange(0.2,2.0,.01):\n",
    "    if 15.8 > getMag('V',wavelength_dec12u,data_dec12u*j) > 14.3:\n",
    "        test=np.append(test,j)\n",
    "print,'min=',np.min(test),' max=',np.max(test)"
   ]
  },
  {
   "cell_type": "markdown",
   "metadata": {},
   "source": [
    "Conclusion: Scale Dec02 by 0.46 -> 1.82 and Dec12 by 0.50 -> 1.97 based on AAVSO V only."
   ]
  },
  {
   "cell_type": "markdown",
   "metadata": {
    "collapsed": true
   },
   "source": [
    "# Plot extinction curve: <a name=\"ext\"></a>\n"
   ]
  },
  {
   "cell_type": "code",
   "execution_count": null,
   "metadata": {},
   "outputs": [],
   "source": [
    "allwav_2008,alldata_2008=np.append(wavelength_2008,IRwavelength_2008),np.append(data_2008,IRdata_2008)\n",
    "allwav_dec02,alldata_dec02=np.append(wavelength_dec02,IRwavelength_dec02),np.append(data_dec02scale,IRdata_dec02)\n",
    "allwav_dec12,alldata_dec12=np.append(wavelength_dec12,IRwavelength_dec12),np.append(data_dec12scale,IRdata_dec12)\n",
    "\n",
    "allwav_2008u = allwav_2008*wavelength_2008u.unit\n",
    "alldata_2008u = alldata_2008*data_2008u.unit\n",
    "allwav_dec02u = allwav_dec02*wavelength_dec02u.unit\n",
    "alldata_dec02u = alldata_dec02*data_dec02u.unit\n",
    "allwav_dec12u = allwav_dec12*wavelength_dec12u.unit\n",
    "alldata_dec12u = alldata_dec12*data_dec12u.unit"
   ]
  },
  {
   "cell_type": "code",
   "execution_count": null,
   "metadata": {},
   "outputs": [],
   "source": []
  },
  {
   "cell_type": "code",
   "execution_count": null,
   "metadata": {},
   "outputs": [],
   "source": []
  },
  {
   "cell_type": "code",
   "execution_count": null,
   "metadata": {},
   "outputs": [],
   "source": []
  },
  {
   "cell_type": "code",
   "execution_count": null,
   "metadata": {},
   "outputs": [],
   "source": [
    "interp2008=interp.interp1d(allwav_2008,alldata_2008)\n",
    "\n",
    "ext_dec02=-2.5*np.log10(alldata_dec02/interp2008(allwav_dec02))\n",
    "\n",
    "fig,(ax1,ax2)=plt.subplots(1,2,figsize=(10,5))\n",
    "ax1.plot(allwav_dec02,ext_dec02,'k')\n",
    "ax2.plot(1./allwav_dec02,ext_dec02,'k')\n",
    "\n",
    "ax1.set_xlabel('$\\lambda$ [micron]')\n",
    "ax2.set_xlabel('$1/\\lambda$ [1/micron]')\n",
    "ax1.set_ylabel('$A_\\lambda$')\n",
    "\n",
    "ax1.set_title('AA Tau Extinction Event')\n",
    "ax2.set_title('AA Tau Extinction Event')\n",
    "ax1.set_ylim(-0.5,4)\n",
    "ax2.set_ylim(-0.5,4)\n",
    "plt.show()"
   ]
  },
  {
   "cell_type": "code",
   "execution_count": null,
   "metadata": {},
   "outputs": [],
   "source": [
    "if platform=='win32':\n",
    "    %run utils\\getFMext\n",
    "else:  \n",
    "    %run utils/getFMext.py"
   ]
  },
  {
   "cell_type": "code",
   "execution_count": null,
   "metadata": {},
   "outputs": [],
   "source": [
    "fig,(ax1,ax2)=plt.subplots(2,1,figsize=(10,10),gridspec_kw = {'height_ratios':[3, 1]})\n",
    "\n",
    "# fig.subplots_adjust(hspace=0)\n",
    "\n",
    "# my little FMunred doesn't include UV, lambda < 0.411 micron\n",
    "\n",
    "ax1.plot(allwav_2008,alldata_2008,'grey',label='2008 observed')\n",
    "ax1.plot(allwav_dec02,alldata_dec02,'k',label='02dec2014 observed')\n",
    "ax1.plot(allwav_2008[allwav_2008>0.411],alldata_2008[allwav_2008>0.411]*\n",
    "        10.0**(-0.4*2.0*getFMext(allwav_2008[allwav_2008>0.411],3.0,'fmunred')/3.0),'blue',label=\"2008 ext'd AV=2.0 RV=3\")\n",
    "ax1.set_ylim(0,0.8E-13)\n",
    "ax1.set_xlim(0.25,2.5)\n",
    "ax1.set_xlabel('$\\lambda$ [micron]')\n",
    "ax1.set_ylabel('$F_\\lambda$ (erg s$^{-1}$ cm$^{-2}$ $\\AA^{-1}$)')\n",
    "ax1.legend(loc='best')\n",
    "ax1.set_title('AA Tau')\n",
    "\n",
    "ax2.plot([.25,2.5],[0,0],'k')\n",
    "ax2.plot(allwav_dec02[allwav_dec02>0.411],\n",
    "         interp2008(allwav_dec02[allwav_dec02>0.411])*10.0**(-0.4*2.0*getFMext(allwav_dec02[allwav_dec02>0.411],3.0,'fmunred')/3.0)\n",
    "         -alldata_dec02[allwav_dec02>0.411],'blue',label='Extinction only')\n",
    "ax2.set_xlim(0.25,2.5)\n",
    "ax2.set_ylim(-1E-14,1E-14)\n",
    "ax2.set_xlabel('$\\lambda$ [micron]')\n",
    "ax2.set_ylabel('Model $-$ Observed (erg s$^{-1}$ cm$^{-2}$ $\\AA^{-1}$)')\n",
    "\n",
    "plt.show()"
   ]
  },
  {
   "cell_type": "code",
   "execution_count": null,
   "metadata": {},
   "outputs": [],
   "source": [
    "IRwavelength_dec02.max(),IRwavelength_dec12.max(),allwav_2008.max()"
   ]
  },
  {
   "cell_type": "markdown",
   "metadata": {},
   "source": [
    "## Fit to NIR extinction curve: <a name=\"fit\"></a>"
   ]
  },
  {
   "cell_type": "markdown",
   "metadata": {},
   "source": [
    "Quick-and-dirty remove the telluric lines:"
   ]
  },
  {
   "cell_type": "code",
   "execution_count": null,
   "metadata": {},
   "outputs": [],
   "source": [
    "IRext_dec02=-2.5*np.log10(IRdata_dec02/interp2008(IRwavelength_dec02))\n",
    "\n",
    "notel_ext=IRext_dec02[IRext_dec02 > -0.1]\n",
    "notel_wav=IRwavelength_dec02[IRext_dec02 > -0.1]\n",
    "\n",
    "fig,ax=plt.subplots(1,1)\n",
    "ax.plot(1/allwav_dec02,ext_dec02)\n",
    "ax.plot(1/notel_wav,notel_ext)\n",
    "ax.set_xlabel('inverse wavelength')\n",
    "ax.set_ylabel('extinction')\n",
    "fig.show()"
   ]
  },
  {
   "cell_type": "markdown",
   "metadata": {
    "collapsed": true
   },
   "source": [
    "$A_\\lambda/A_V$ from the literature:\n",
    "\n",
    "FM_unred (F99) = cubic spline, explicitly $R_V$ independent \n",
    "\n",
    "FM07 $= (0.63 - 0.84/R_V)\\lambda^{-1.84}$\n",
    "\n",
    "FM09 $= (0.349/R_V + 2.087) / (1 + (\\lambda/0.507)^\\alpha)$, where $\\alpha$ is in the range from 1.5 to 3.0"
   ]
  },
  {
   "cell_type": "code",
   "execution_count": null,
   "metadata": {},
   "outputs": [],
   "source": [
    "fig,ax=plt.subplots(1,1)\n",
    "ax.plot(1/notel_wav,notel_ext,'black',alpha=0.5)\n",
    "\n",
    "for A in [2,3]:\n",
    "    ax.plot(1/notel_wav,A*getFMext(notel_wav,3.0,'fmunred')/3.0,'black',label='F99 Av='+str(A))\n",
    "    for R in [2,4]:\n",
    "        ax.plot(1/notel_wav,A*(0.65-0.84/R)*notel_wav**-1.84,'blue',label='FM07 Rv='+str(R)+' Av='+str(A))\n",
    "        ax.plot(1/notel_wav,A*(0.349/R+2.087)/(1+(notel_wav/0.507)**2.5),'green',label='FM09 Rv='+str(R)+' Av='+str(A))\n",
    "    \n",
    "ax.set_xlabel('$\\lambda^{-1}$ [$\\mu$m$^{-1}$]')\n",
    "ax.set_ylabel('$A_\\lambda$  (observed)')\n",
    "ax.legend(loc='best')\n",
    "fig.show()"
   ]
  },
  {
   "cell_type": "markdown",
   "metadata": {},
   "source": [
    "Obviously, there is a lot going on there.\n",
    "\n",
    "Yes, we still have the empirical AA Tau extinction curve, but all models will be normalized to some band, and usually the V band.  The better thing to do is fit the curve"
   ]
  },
  {
   "cell_type": "code",
   "execution_count": null,
   "metadata": {},
   "outputs": [],
   "source": []
  },
  {
   "cell_type": "markdown",
   "metadata": {},
   "source": [
    "First, find the observed Av:"
   ]
  },
  {
   "cell_type": "code",
   "execution_count": 7,
   "metadata": {},
   "outputs": [
    {
     "ename": "NameError",
     "evalue": "name 'getMag' is not defined",
     "output_type": "error",
     "traceback": [
      "\u001b[1;31m---------------------------------------------------------------------------\u001b[0m",
      "\u001b[1;31mNameError\u001b[0m                                 Traceback (most recent call last)",
      "\u001b[1;32m<ipython-input-7-41cf2a3f4881>\u001b[0m in \u001b[0;36m<module>\u001b[1;34m\u001b[0m\n\u001b[1;32m----> 1\u001b[1;33m \u001b[0mAv\u001b[0m\u001b[1;33m=\u001b[0m\u001b[0mgetMag\u001b[0m\u001b[1;33m(\u001b[0m\u001b[1;34m'V'\u001b[0m\u001b[1;33m,\u001b[0m\u001b[0mwavelength_dec02u\u001b[0m\u001b[1;33m,\u001b[0m\u001b[0mdata_dec02u\u001b[0m\u001b[1;33m)\u001b[0m\u001b[1;33m-\u001b[0m\u001b[0mgetMag\u001b[0m\u001b[1;33m(\u001b[0m\u001b[1;34m'V'\u001b[0m\u001b[1;33m,\u001b[0m\u001b[0mwavelength_2008u\u001b[0m\u001b[1;33m,\u001b[0m\u001b[0mdata_2008u\u001b[0m\u001b[1;33m)\u001b[0m\u001b[1;33m\u001b[0m\u001b[0m\n\u001b[0m\u001b[0;32m      2\u001b[0m \u001b[0mAv\u001b[0m\u001b[1;33m\u001b[0m\u001b[0m\n",
      "\u001b[1;31mNameError\u001b[0m: name 'getMag' is not defined"
     ]
    }
   ],
   "source": [
    "Av=getMag('V',wavelength_dec02u,data_dec02u)-getMag('V',wavelength_2008u,data_2008u)\n",
    "Av"
   ]
  },
  {
   "cell_type": "markdown",
   "metadata": {},
   "source": [
    "**Option A:** Fit a line to $E(\\lambda-V) = A_\\lambda - A_V$"
   ]
  },
  {
   "cell_type": "code",
   "execution_count": null,
   "metadata": {},
   "outputs": [],
   "source": [
    "fita,fitb=np.polyfit(1/notel_wav,notel_ext-Av,1)\n",
    "fita,fitb,fita/fitb"
   ]
  },
  {
   "cell_type": "markdown",
   "metadata": {},
   "source": [
    "\n",
    "So, $E(\\lambda-V)=A_\\lambda-A_V=1.54\\lambda^{-1} - 2.72$.\n",
    "\n",
    "This isn't internally consistent, however, because Av (2.03) should equal the intercept (2.72), and it doesn't.\n",
    "\n",
    "What it implies is a NIR extinction curve of $A_\\lambda/A_V = 0.56\\lambda^{-1}$ normalized to the visible... as far as that goes."
   ]
  },
  {
   "cell_type": "code",
   "execution_count": null,
   "metadata": {},
   "outputs": [],
   "source": []
  },
  {
   "cell_type": "markdown",
   "metadata": {
    "collapsed": true
   },
   "source": [
    "**Option B:** Fit the offset power law to $E(\\lambda-V)$"
   ]
  },
  {
   "cell_type": "code",
   "execution_count": null,
   "metadata": {},
   "outputs": [],
   "source": [
    "from scipy.optimize import curve_fit"
   ]
  },
  {
   "cell_type": "code",
   "execution_count": null,
   "metadata": {},
   "outputs": [],
   "source": [
    "def offpowlaw(x, a, b, c):\n",
    "    return a * (x**b) + c"
   ]
  },
  {
   "cell_type": "code",
   "execution_count": null,
   "metadata": {},
   "outputs": [],
   "source": [
    "cfit2,cerr2=curve_fit(offpowlaw,1/notel_wav,notel_ext-Av)\n",
    "cfit2,cerr2,cfit2[0]/cfit2[2]"
   ]
  },
  {
   "cell_type": "markdown",
   "metadata": {},
   "source": [
    "This says that $E(\\lambda-V) = 1.95 \\lambda^{-0.71} - 3.16 = 3.16 \\left(0.62\\lambda^{-0.71}-1\\right)$, which maybe makes a some sense, but still the intercept is not equal to what we actually measure (and use to calculate the input to the fit!) for $A_V$."
   ]
  },
  {
   "cell_type": "code",
   "execution_count": null,
   "metadata": {},
   "outputs": [],
   "source": []
  },
  {
   "cell_type": "markdown",
   "metadata": {},
   "source": [
    "**Option C:** Try fitting the FM07 and FM09 curve (which fits from the J band to the I band) to the $A_\\lambda$ curve."
   ]
  },
  {
   "cell_type": "code",
   "execution_count": null,
   "metadata": {},
   "outputs": [],
   "source": [
    "def FM07(x, a, b):\n",
    "    # x is wavelength, a is Av, b is Rv\n",
    "    return a*(0.63 - 0.84/b)*x**-1.84"
   ]
  },
  {
   "cell_type": "code",
   "execution_count": null,
   "metadata": {},
   "outputs": [],
   "source": [
    "cfit3,cerr3=curve_fit(FM07,notel_wav,notel_ext)\n",
    "cfit3,cerr3"
   ]
  },
  {
   "cell_type": "markdown",
   "metadata": {},
   "source": [
    "Obviously ridiculous. It didn't even remotely converge.  Why?"
   ]
  },
  {
   "cell_type": "code",
   "execution_count": null,
   "metadata": {},
   "outputs": [],
   "source": [
    "a = np.linspace(0,10,100)\n",
    "b = np.linspace(1,8,100)\n",
    "x,y = np.meshgrid(a, b)\n",
    "z = FM07(1,x,y) # initialize, and ext at 1 micron\n",
    "\n",
    "for i in range(100):\n",
    "    for j in range(100):\n",
    "        z[i,j]=np.sqrt(np.sum((notel_ext-FM07(notel_wav,a[i],b[j]))**2.0))\n",
    "\n"
   ]
  },
  {
   "cell_type": "code",
   "execution_count": null,
   "metadata": {},
   "outputs": [],
   "source": [
    "fig,(ax1,ax2)=plt.subplots(1,2,figsize=(10,5))\n",
    "ax1.pcolor(x,y,z,cmap='RdBu')\n",
    "#ax1.colorbar()\n",
    "ax1.contour(x,y,z,20,colors='k')\n",
    "ax1.set_xlabel('Av')\n",
    "ax1.set_ylabel('Rv')\n",
    "ax1.set_title('AA Tau: FM07 NIR residual sum')\n",
    "ax2.pcolor(x,y, FM07(1,x,y),cmap='RdBu')\n",
    "#ax1.colorbar()\n",
    "ax2.contour(x,y, FM07(1,x,y),20,colors='k')\n",
    "ax2.set_xlabel('Av')\n",
    "ax2.set_ylabel('Rv')\n",
    "ax2.set_title('FM07 extinction at 1 micron')\n",
    "plt.show()\n",
    "plt.show()"
   ]
  },
  {
   "cell_type": "code",
   "execution_count": null,
   "metadata": {},
   "outputs": [],
   "source": [
    "def FM09(x, a, b, c):\n",
    "    # x is wavelength, A is Av, b is Rv, c is alpha\n",
    "    return a*(0.349/b + 2.087)/(1 + (x/0.507)**c)"
   ]
  },
  {
   "cell_type": "code",
   "execution_count": 8,
   "metadata": {},
   "outputs": [
    {
     "ename": "NameError",
     "evalue": "name 'curve_fit' is not defined",
     "output_type": "error",
     "traceback": [
      "\u001b[1;31m---------------------------------------------------------------------------\u001b[0m",
      "\u001b[1;31mNameError\u001b[0m                                 Traceback (most recent call last)",
      "\u001b[1;32m<ipython-input-8-77e008b007b9>\u001b[0m in \u001b[0;36m<module>\u001b[1;34m\u001b[0m\n\u001b[1;32m----> 1\u001b[1;33m \u001b[0mcfit4\u001b[0m\u001b[1;33m,\u001b[0m\u001b[0mcerr4\u001b[0m\u001b[1;33m=\u001b[0m\u001b[0mcurve_fit\u001b[0m\u001b[1;33m(\u001b[0m\u001b[0mFM09\u001b[0m\u001b[1;33m,\u001b[0m\u001b[0mnotel_wav\u001b[0m\u001b[1;33m,\u001b[0m\u001b[0mnotel_ext\u001b[0m\u001b[1;33m)\u001b[0m\u001b[1;33m\u001b[0m\u001b[0m\n\u001b[0m\u001b[0;32m      2\u001b[0m \u001b[0mcfit4\u001b[0m\u001b[1;33m,\u001b[0m\u001b[0mcerr4\u001b[0m\u001b[1;33m\u001b[0m\u001b[0m\n",
      "\u001b[1;31mNameError\u001b[0m: name 'curve_fit' is not defined"
     ]
    }
   ],
   "source": [
    "cfit4,cerr4=curve_fit(FM09,notel_wav,notel_ext)\n",
    "cfit4,cerr4"
   ]
  },
  {
   "cell_type": "markdown",
   "metadata": {},
   "source": [
    "Not a converged fit, except alpha?  Here's why:"
   ]
  },
  {
   "cell_type": "code",
   "execution_count": null,
   "metadata": {},
   "outputs": [],
   "source": [
    "plt.plot(1/notel_wav,notel_ext,'black',alpha=0.5)\n",
    "for alpha in [1,1.5,2,2.5,3]:\n",
    "    plt.plot(1/notel_wav,FM09(notel_wav,2.0,3.0,alpha))"
   ]
  },
  {
   "cell_type": "markdown",
   "metadata": {},
   "source": [
    "The amount of extinction of strongly dependent on alpha.  Strange feature of the FM09 function. "
   ]
  },
  {
   "cell_type": "code",
   "execution_count": null,
   "metadata": {},
   "outputs": [],
   "source": [
    "a = np.linspace(-5,10,100) # Av\n",
    "b = np.linspace(1,8,100) # Rv\n",
    "c = np.linspace(0,3,100) # alpha\n",
    "aa, bb = np.meshgrid(a, b)\n",
    "bb, cc = np.meshgrid(b, c)\n",
    "cc, aa = np.meshgrid(c, a)\n",
    "\n",
    "z_a2 =     FM09(1, 2.0, bb, cc) # initialize and 1 micron\n",
    "z_r3 =     FM09(1, aa, 3.0, cc) # initialize and 1 micron\n",
    "z_alpha25= FM09(1, aa, bb, 2.5) # initialize and 1 micron\n",
    "\n",
    "\n",
    "for i in range(100):\n",
    "    for j in range(100):\n",
    "        z_a2[i,j]=np.sqrt(np.sum((notel_ext-FM09(notel_wav,2.0,b[i],c[j]))**2.0))\n",
    "        z_r3[i,j]=np.sqrt(np.sum((notel_ext-FM09(notel_wav,a[i],3.0,c[j]))**2.0))\n",
    "        z_alpha25[i,j]=np.sqrt(np.sum((notel_ext-FM09(notel_wav,a[i],b[j],2.5))**2.0))\n",
    "\n"
   ]
  },
  {
   "cell_type": "raw",
   "metadata": {},
   "source": [
    "# This is interesting, but now not really about AA Tau...\n",
    "\n",
    "fig,axes=plt.subplots(3,2,figsize=(8,12))\n",
    "\n",
    "axes[0,0].pcolor(bb,cc,z_a2,cmap='RdBu')\n",
    "axes[0,0].contour(bb,cc,z_a2,15,colors='k')\n",
    "axes[1,0].pcolor(aa,cc,z_r3,cmap='RdBu')\n",
    "axes[1,0].contour(aa,cc,z_r3,15,colors='k')\n",
    "axes[2,0].pcolor(aa,bb,z_alpha25,cmap='RdBu')\n",
    "axes[2,0].contour(aa,bb,z_alpha25,15,colors='k')\n",
    "\n",
    "for j in [0,1]:\n",
    "    axes[0,j].set_xlabel('Rv')\n",
    "    axes[0,j].set_ylabel('alpha')\n",
    "    axes[1,j].set_xlabel('Av')\n",
    "    axes[1,j].set_ylabel('alpha')\n",
    "    axes[2,j].set_xlabel('Av')\n",
    "    axes[2,j].set_ylabel('Rv')\n",
    "\n",
    "axes[0,1].pcolor(bb,cc,FM09(1, 2.0, bb, cc),cmap='RdBu')\n",
    "axes[0,1].contour(bb,cc,FM09(1, 2.0, bb, cc),15,colors='k')\n",
    "axes[1,1].pcolor(aa,cc,FM09(1, aa, 3.0, cc),cmap='RdBu')\n",
    "axes[1,1].contour(aa,cc,FM09(1, aa, 3.0, cc),15,colors='k')\n",
    "axes[2,1].pcolor(aa,bb,FM09(1, aa, bb, 2.5),cmap='RdBu')\n",
    "axes[2,1].contour(aa,bb,FM09(1, aa, bb, 2.5),15,colors='k')\n",
    "\n",
    "axes[0,0].set_title('AA Tau: FM09(R=2,3,4) NIR residual sum')\n",
    "axes[0,1].set_title('FM09(R=2,3,4) extinction at 1 micron')\n",
    "plt.plot()"
   ]
  },
  {
   "cell_type": "code",
   "execution_count": null,
   "metadata": {},
   "outputs": [],
   "source": []
  },
  {
   "cell_type": "code",
   "execution_count": null,
   "metadata": {},
   "outputs": [],
   "source": []
  },
  {
   "cell_type": "markdown",
   "metadata": {},
   "source": [
    "**Option D:**  Fit just the power law part with a free exponent to $A_\\lambda$. "
   ]
  },
  {
   "cell_type": "code",
   "execution_count": 9,
   "metadata": {},
   "outputs": [],
   "source": [
    "def powlaw(x, a, b):\n",
    "    return a * (x**b)"
   ]
  },
  {
   "cell_type": "code",
   "execution_count": 10,
   "metadata": {},
   "outputs": [
    {
     "ename": "NameError",
     "evalue": "name 'curve_fit' is not defined",
     "output_type": "error",
     "traceback": [
      "\u001b[1;31m---------------------------------------------------------------------------\u001b[0m",
      "\u001b[1;31mNameError\u001b[0m                                 Traceback (most recent call last)",
      "\u001b[1;32m<ipython-input-10-c4ec887cb3f6>\u001b[0m in \u001b[0;36m<module>\u001b[1;34m\u001b[0m\n\u001b[1;32m----> 1\u001b[1;33m \u001b[0mcfit\u001b[0m\u001b[1;33m,\u001b[0m\u001b[0mcerr\u001b[0m\u001b[1;33m=\u001b[0m\u001b[0mcurve_fit\u001b[0m\u001b[1;33m(\u001b[0m\u001b[0mpowlaw\u001b[0m\u001b[1;33m,\u001b[0m\u001b[1;36m1\u001b[0m\u001b[1;33m/\u001b[0m\u001b[0mnotel_wav\u001b[0m\u001b[1;33m,\u001b[0m\u001b[0mnotel_ext\u001b[0m\u001b[1;33m)\u001b[0m\u001b[1;33m\u001b[0m\u001b[0m\n\u001b[0m\u001b[0;32m      2\u001b[0m \u001b[0mcfit\u001b[0m\u001b[1;33m,\u001b[0m\u001b[0mcerr\u001b[0m\u001b[1;33m\u001b[0m\u001b[0m\n",
      "\u001b[1;31mNameError\u001b[0m: name 'curve_fit' is not defined"
     ]
    }
   ],
   "source": [
    "cfit,cerr=curve_fit(powlaw,1/notel_wav,notel_ext)\n",
    "cfit,cerr"
   ]
  },
  {
   "cell_type": "markdown",
   "metadata": {},
   "source": [
    "This says that $A_\\lambda=0.85 \\lambda^{-2.55}$, which makes little sense as an extinction law.  Note that we removed $A_V$ as a free parameter.\n",
    "\n",
    "**This is the way to go!  No muss, no fuss.**"
   ]
  },
  {
   "cell_type": "code",
   "execution_count": 11,
   "metadata": {},
   "outputs": [
    {
     "ename": "NameError",
     "evalue": "name 'cfit' is not defined",
     "output_type": "error",
     "traceback": [
      "\u001b[1;31m---------------------------------------------------------------------------\u001b[0m",
      "\u001b[1;31mNameError\u001b[0m                                 Traceback (most recent call last)",
      "\u001b[1;32m<ipython-input-11-eeff4dcce254>\u001b[0m in \u001b[0;36m<module>\u001b[1;34m\u001b[0m\n\u001b[1;32m----> 1\u001b[1;33m \u001b[0mcfit\u001b[0m\u001b[1;33m[\u001b[0m\u001b[1;36m0\u001b[0m\u001b[1;33m]\u001b[0m\u001b[1;33m/\u001b[0m\u001b[0mAv\u001b[0m\u001b[1;33m\u001b[0m\u001b[0m\n\u001b[0m",
      "\u001b[1;31mNameError\u001b[0m: name 'cfit' is not defined"
     ]
    }
   ],
   "source": [
    "cfit[0]/Av"
   ]
  },
  {
   "cell_type": "markdown",
   "metadata": {},
   "source": [
    "With the $A_V$ that we measure, $A_\\lambda/A_V=0.42\\lambda^{-2.55}$."
   ]
  },
  {
   "cell_type": "code",
   "execution_count": null,
   "metadata": {},
   "outputs": [],
   "source": [
    "np.sqrt(np.mean(np.square(notel_ext-powlaw(1/notel_wav,cfit[0],cfit[1]))))"
   ]
  },
  {
   "cell_type": "code",
   "execution_count": null,
   "metadata": {},
   "outputs": [],
   "source": [
    "np.square(2)"
   ]
  },
  {
   "cell_type": "markdown",
   "metadata": {},
   "source": [
    "So we plot them:"
   ]
  },
  {
   "cell_type": "code",
   "execution_count": null,
   "metadata": {},
   "outputs": [],
   "source": [
    "fig,(ax1,ax2)=plt.subplots(2,1,figsize=(10,10))\n",
    "\n",
    "\n",
    "ax1.plot(1./allwav_dec02,ext_dec02,'k',alpha=0.5)\n",
    "# ax1.plot(1/notel_wav,notel_ext,'black',alpha=0.5)\n",
    "ax1.plot(1/notel_wav,cfit[0]/notel_wav**cfit[1],'blue',label='pow law fit to ext',linewidth=2)\n",
    "ax1.set_xlabel('$1/\\lambda$ [1/micron]')\n",
    "ax1.set_ylabel('$A_\\lambda$')\n",
    "ax1.set_title('AA Tau Extinction Event')\n",
    "ax1.set_ylim(-0.5,1.5)\n",
    "ax1.set_xlim(0.3,1.3)\n",
    "ax1.legend(loc='best')\n",
    "\n",
    "ax2.plot(1./allwav_dec02,ext_dec02-Av,'k',alpha=0.5)\n",
    "# ax2.plot(1/notel_wav,notel_ext-Av,'black',alpha=0.5)\n",
    "ax2.plot(1/notel_wav,fita/notel_wav+fitb,'green',label='linear fit',linewidth=2)\n",
    "ax2.plot(1/notel_wav,cfit2[0]/notel_wav**cfit2[1]+cfit2[2],'orange',label='offset pow law fit',linewidth=2)\n",
    "ax2.set_xlabel('$1/\\lambda$ [1/micron]')\n",
    "ax2.set_ylabel('$E(\\lambda - V)  =  A_\\lambda - A_V$ (observed)')\n",
    "ax2.set_ylim(-0.5-Av,1.5-Av)\n",
    "ax2.set_xlim(0.3,1.3)\n",
    "ax2.legend(loc='best')\n",
    "\n",
    "fig.show()"
   ]
  },
  {
   "cell_type": "markdown",
   "metadata": {},
   "source": [
    "**Repeat for Dec 12:**"
   ]
  },
  {
   "cell_type": "code",
   "execution_count": null,
   "metadata": {},
   "outputs": [],
   "source": [
    "Av12=getMag('V',wavelength_dec12u,data_dec12u)-getMag('V',wavelength_2008u,data_2008u)\n",
    "Av12"
   ]
  },
  {
   "cell_type": "code",
   "execution_count": null,
   "metadata": {},
   "outputs": [],
   "source": [
    "IRwav_dec12clip=IRwavelength_dec12[IRwavelength_dec12<2.47]\n",
    "IRdat_dec12clip=IRdata_dec12[IRwavelength_dec12<2.47]\n",
    "\n",
    "IRext_dec12clip=-2.5*np.log10(IRdat_dec12clip/interp2008(IRwav_dec12clip))\n",
    "\n",
    "notel_ext12clip=IRext_dec12clip[IRext_dec12clip > -0.1]\n",
    "notel_wav12clip=IRwav_dec12clip[IRext_dec12clip > -0.1]"
   ]
  },
  {
   "cell_type": "code",
   "execution_count": 12,
   "metadata": {},
   "outputs": [
    {
     "ename": "NameError",
     "evalue": "name 'curve_fit' is not defined",
     "output_type": "error",
     "traceback": [
      "\u001b[1;31m---------------------------------------------------------------------------\u001b[0m",
      "\u001b[1;31mNameError\u001b[0m                                 Traceback (most recent call last)",
      "\u001b[1;32m<ipython-input-12-813101efa739>\u001b[0m in \u001b[0;36m<module>\u001b[1;34m\u001b[0m\n\u001b[1;32m----> 1\u001b[1;33m \u001b[0mcfit12_2\u001b[0m\u001b[1;33m,\u001b[0m\u001b[0mcerr12_2\u001b[0m\u001b[1;33m=\u001b[0m\u001b[0mcurve_fit\u001b[0m\u001b[1;33m(\u001b[0m\u001b[0moffpowlaw\u001b[0m\u001b[1;33m,\u001b[0m\u001b[1;36m1\u001b[0m\u001b[1;33m/\u001b[0m\u001b[0mnotel_wav12clip\u001b[0m\u001b[1;33m,\u001b[0m\u001b[0mnotel_ext12clip\u001b[0m\u001b[1;33m-\u001b[0m\u001b[0mAv12\u001b[0m\u001b[1;33m)\u001b[0m\u001b[1;33m\u001b[0m\u001b[0m\n\u001b[0m\u001b[0;32m      2\u001b[0m \u001b[0mcfit12_2\u001b[0m\u001b[1;33m,\u001b[0m\u001b[0mcerr12_2\u001b[0m\u001b[1;33m,\u001b[0m\u001b[0mcfit12_2\u001b[0m\u001b[1;33m[\u001b[0m\u001b[1;36m0\u001b[0m\u001b[1;33m]\u001b[0m\u001b[1;33m/\u001b[0m\u001b[0mcfit12_2\u001b[0m\u001b[1;33m[\u001b[0m\u001b[1;36m2\u001b[0m\u001b[1;33m]\u001b[0m\u001b[1;33m\u001b[0m\u001b[0m\n",
      "\u001b[1;31mNameError\u001b[0m: name 'curve_fit' is not defined"
     ]
    }
   ],
   "source": [
    "cfit12_2,cerr12_2=curve_fit(offpowlaw,1/notel_wav12clip,notel_ext12clip-Av12)\n",
    "cfit12_2,cerr12_2,cfit12_2[0]/cfit12_2[2]"
   ]
  },
  {
   "cell_type": "markdown",
   "metadata": {},
   "source": [
    "This says that $E(\\lambda-V) = 2.37 \\lambda^{-0.67} - 3.53 =  3.53 \\left(0.67\\lambda^{-0.67}-1\\right)$."
   ]
  },
  {
   "cell_type": "code",
   "execution_count": null,
   "metadata": {},
   "outputs": [],
   "source": [
    "cfit12,cerr12=curve_fit(powlaw,1/notel_wav12clip,notel_ext12clip)\n",
    "cfit12,cerr12"
   ]
  },
  {
   "cell_type": "markdown",
   "metadata": {},
   "source": [
    "This says that $A_\\lambda=0.98 \\lambda^{-2.54}$."
   ]
  },
  {
   "cell_type": "code",
   "execution_count": null,
   "metadata": {},
   "outputs": [],
   "source": []
  },
  {
   "cell_type": "markdown",
   "metadata": {},
   "source": [
    "## Grey extinction? <a name=\"grey\"></a>\n",
    "\n",
    "Grey extinction does not help in the extinction event of AA Tau because there is almost no extinction at K, too little in fact to yield a good fit.\n",
    "\n",
    "But, what if the AA Tau lost some grey extinction that was present before the extinction event?  This would be the equivalent of shifting the whole extinction curve upward by the amount of that grey extinction.  In other words, the star was brighter behind the now-missing grey extinction.\n",
    "\n",
    "So we fit an offset power law not the the reddening, as before, but to the extinction."
   ]
  },
  {
   "cell_type": "code",
   "execution_count": null,
   "metadata": {},
   "outputs": [],
   "source": [
    "cfit10,cerr10=curve_fit(offpowlaw,1/notel_wav,notel_ext)\n",
    "cfit10,cerr10"
   ]
  },
  {
   "cell_type": "markdown",
   "metadata": {},
   "source": [
    "So, $A_\\lambda = 1.96\\lambda^{-0.71}$ and $A_{\\rm grey}=1.12$.  Notice that this did nothing to help the shape of the curve."
   ]
  },
  {
   "cell_type": "code",
   "execution_count": null,
   "metadata": {},
   "outputs": [],
   "source": [
    "fig,ax1=plt.subplots(1,1,figsize=(10,5))\n",
    "\n",
    "Agrey=0.25\n",
    "\n",
    "y=IRext_dec02\n",
    "x=IRwavelength_dec02\n",
    "\n",
    "fill=1/np.array([0.3,.2,.1,.01])\n",
    "\n",
    "ax1.plot(1/x,y+Agrey,'black',alpha=0.5)\n",
    "ax1.plot(1/allwav_dec02,ext_dec02+Agrey,'black',alpha=0.5)\n",
    "ax1.plot(np.append(1/x,1/fill),powlaw(np.append(x,fill),(Av+Agrey)*0.4,-1.8),label='MW90 with grey',linewidth=2)\n",
    "ax1.plot(np.append(1/x,1/fill),FM07(np.append(x,fill),(Av+Agrey),8),label='FM07 + RV=8 with grey',linewidth=2)\n",
    "\n",
    "ax1.set_xlabel('$\\lambda^{-1}$ [$\\mu$m$^{-1}$]')\n",
    "ax1.set_ylabel('$A_\\lambda$')\n",
    "# ax1.title('test')\n",
    "ax1.legend(loc='best')\n",
    "ax1.set_title('AA Tau with grey extinction')\n",
    "ax1.set_ylim(0,4)\n",
    "ax1.set_xlim(0,2.5)\n",
    "fig.show()"
   ]
  },
  {
   "cell_type": "code",
   "execution_count": null,
   "metadata": {},
   "outputs": [],
   "source": []
  },
  {
   "cell_type": "code",
   "execution_count": null,
   "metadata": {},
   "outputs": [],
   "source": []
  },
  {
   "cell_type": "markdown",
   "metadata": {},
   "source": [
    "# Write data to files <a name=\"write\"></a>"
   ]
  },
  {
   "cell_type": "code",
   "execution_count": 13,
   "metadata": {},
   "outputs": [
    {
     "ename": "NameError",
     "evalue": "name 'IRwavelength_2008u' is not defined",
     "output_type": "error",
     "traceback": [
      "\u001b[1;31m---------------------------------------------------------------------------\u001b[0m",
      "\u001b[1;31mNameError\u001b[0m                                 Traceback (most recent call last)",
      "\u001b[1;32m<ipython-input-13-7666c8615e23>\u001b[0m in \u001b[0;36m<module>\u001b[1;34m\u001b[0m\n\u001b[0;32m      2\u001b[0m \u001b[1;32mfrom\u001b[0m \u001b[0mastropy\u001b[0m\u001b[1;33m.\u001b[0m\u001b[0mio\u001b[0m \u001b[1;32mimport\u001b[0m \u001b[0mascii\u001b[0m\u001b[1;33m\u001b[0m\u001b[0m\n\u001b[0;32m      3\u001b[0m \u001b[1;33m\u001b[0m\u001b[0m\n\u001b[1;32m----> 4\u001b[1;33m \u001b[0mt\u001b[0m \u001b[1;33m=\u001b[0m \u001b[0mQTable\u001b[0m\u001b[1;33m(\u001b[0m\u001b[1;33m[\u001b[0m\u001b[0mIRwavelength_2008u\u001b[0m\u001b[1;33m.\u001b[0m\u001b[0mastype\u001b[0m\u001b[1;33m(\u001b[0m\u001b[1;34m'float32'\u001b[0m\u001b[1;33m)\u001b[0m\u001b[1;33m,\u001b[0m \u001b[0mIRdata_2008u\u001b[0m\u001b[1;33m.\u001b[0m\u001b[0mastype\u001b[0m\u001b[1;33m(\u001b[0m\u001b[1;34m'float32'\u001b[0m\u001b[1;33m)\u001b[0m\u001b[1;33m]\u001b[0m\u001b[1;33m,\u001b[0m \u001b[0mnames\u001b[0m\u001b[1;33m=\u001b[0m\u001b[1;33m[\u001b[0m\u001b[1;34m'wavelength'\u001b[0m\u001b[1;33m,\u001b[0m \u001b[1;34m'flux'\u001b[0m\u001b[1;33m]\u001b[0m\u001b[1;33m)\u001b[0m\u001b[1;33m\u001b[0m\u001b[0m\n\u001b[0m\u001b[0;32m      5\u001b[0m \u001b[0mascii\u001b[0m\u001b[1;33m.\u001b[0m\u001b[0mwrite\u001b[0m\u001b[1;33m(\u001b[0m\u001b[0mt\u001b[0m\u001b[1;33m,\u001b[0m \u001b[0mformat\u001b[0m\u001b[1;33m=\u001b[0m\u001b[1;34m'ecsv'\u001b[0m\u001b[1;33m,\u001b[0m \u001b[0moutput\u001b[0m\u001b[1;33m=\u001b[0m\u001b[1;34m'AATau_IR2008.txt'\u001b[0m\u001b[1;33m,\u001b[0m \u001b[0moverwrite\u001b[0m\u001b[1;33m=\u001b[0m\u001b[1;32mTrue\u001b[0m\u001b[1;33m)\u001b[0m\u001b[1;33m\u001b[0m\u001b[0m\n\u001b[0;32m      6\u001b[0m \u001b[1;33m\u001b[0m\u001b[0m\n",
      "\u001b[1;31mNameError\u001b[0m: name 'IRwavelength_2008u' is not defined"
     ]
    }
   ],
   "source": [
    "from astropy.table import QTable\n",
    "from astropy.io import ascii\n",
    "\n",
    "t = QTable([IRwavelength_2008u.astype('float32'), IRdata_2008u.astype('float32')], names=['wavelength', 'flux'])\n",
    "ascii.write(t, format='ecsv', output='AATau_IR2008.txt', overwrite=True)   \n",
    "\n",
    "t = QTable([wavelength_2008u.astype('float32'), data_2008u.astype('float32')], names=['wavelength', 'flux'])\n",
    "ascii.write(t, format='ecsv', output='AATau_opt2008.txt', overwrite=True)   \n",
    "\n",
    "t = QTable([IRwavelength_dec02u.astype('float32'), IRdata_dec02u.astype('float32')], names=['wavelength', 'flux'])\n",
    "ascii.write(t, format='ecsv', output='AATau_IR2014dec02.txt', overwrite=True)   \n",
    "\n",
    "t = QTable([wavelength_dec02u.astype('float32'), data_dec02u.astype('float32')], names=['wavelength', 'flux'])\n",
    "ascii.write(t, format='ecsv', output='AATau_opt2014dec02.txt', overwrite=True)   \n",
    "\n",
    "t = QTable([IRwavelength_dec12u.astype('float32'), IRdata_dec12u.astype('float32')], names=['wavelength', 'flux'])\n",
    "ascii.write(t, format='ecsv', output='AATau_IR2014dec12.txt', overwrite=True)   \n",
    "\n",
    "t = QTable([wavelength_dec12u.astype('float32'), data_dec12u.astype('float32')], names=['wavelength', 'flux'])\n",
    "# t['wavelength'] = t['wavelength'].astype('float32')\n",
    "ascii.write(t, format='ecsv', output='AATau_opt2014dec12.txt', overwrite=True)   \n"
   ]
  },
  {
   "cell_type": "code",
   "execution_count": null,
   "metadata": {},
   "outputs": [],
   "source": []
  },
  {
   "cell_type": "markdown",
   "metadata": {},
   "source": [
    "# Figure 1: AAVSO <a name=\"figures\"></a>"
   ]
  },
  {
   "cell_type": "markdown",
   "metadata": {
    "collapsed": true
   },
   "source": [
    "# Figure 2: Spectra, Dec 02"
   ]
  },
  {
   "cell_type": "code",
   "execution_count": null,
   "metadata": {},
   "outputs": [],
   "source": [
    "fig,(ax1,ax2)=plt.subplots(2,1,figsize=(10,10),gridspec_kw = {'height_ratios':[3, 1]})\n",
    "\n",
    "# fig.subplots_adjust(hspace=0)\n",
    "\n",
    "# my little FMunred doesn't include UV, lambda < 0.411 micron\n",
    "\n",
    "ax1.plot(allwav_2008,alldata_2008,'grey',label='2008 observed')\n",
    "ax1.plot(allwav_2008[allwav_2008>0.411],alldata_2008[allwav_2008>0.411]*\n",
    "        10.0**(-0.4*2.0*getFMext(allwav_2008[allwav_2008>0.411],3.0,'fmunred')/3.0),'blue',label=\"2008 with AV=2.0 RV=3\")\n",
    "ax1.plot(allwav_dec02,alldata_dec02,'red',label='2014 Dec 2 observed',alpha=0.7)\n",
    "ax1.set_ylim(0,0.8E-13)\n",
    "ax1.set_xlim(0.25,2.5)\n",
    "ax1.set_xlabel('$\\lambda$ [micron]')\n",
    "ax1.set_ylabel('$F_\\lambda$ (erg s$^{-1}$ cm$^{-2}$ $\\AA^{-1}$)')\n",
    "ax1.legend(loc='upper right')\n",
    "\n",
    "ax2.plot([.25,2.5],[0,0],'k')\n",
    "ax2.plot(allwav_dec02[allwav_dec02>0.411],\n",
    "         interp2008(allwav_dec02[allwav_dec02>0.411])*10.0**(-0.4*2.0*getFMext(allwav_dec02[allwav_dec02>0.411],3.0,'fmunred')/3.0)\n",
    "         -alldata_dec02[allwav_dec02>0.411],'r',alpha=0.7)\n",
    "ax2.set_xlim(0.25,2.5)\n",
    "ax2.set_ylim(-1E-14,1E-14)\n",
    "ax2.set_xlabel('$\\lambda$ [micron]')\n",
    "ax2.set_ylabel('Model $-$ Observed')\n",
    "\n",
    "plt.show()"
   ]
  },
  {
   "cell_type": "markdown",
   "metadata": {
    "collapsed": true
   },
   "source": [
    "# Figure 3: Spectra, Dec 12"
   ]
  },
  {
   "cell_type": "code",
   "execution_count": null,
   "metadata": {},
   "outputs": [],
   "source": []
  },
  {
   "cell_type": "code",
   "execution_count": null,
   "metadata": {},
   "outputs": [],
   "source": [
    "fig,(ax1,ax2)=plt.subplots(2,1,figsize=(10,10),gridspec_kw = {'height_ratios':[3, 1]})\n",
    "\n",
    "# fig.subplots_adjust(hspace=0)\n",
    "\n",
    "# my little FMunred doesn't include UV, lambda < 0.411 micron\n",
    "\n",
    "ax1.plot(allwav_2008,alldata_2008,'grey',label='2008 observed')\n",
    "ax1.plot(allwav_2008[allwav_2008>0.411],alldata_2008[allwav_2008>0.411]*\n",
    "        10.0**(-0.4*2.0*getFMext(allwav_2008[allwav_2008>0.411],3.0,'fmunred')/3.0),'blue',label=\"2008 with AV=2.0 RV=3\")\n",
    "ax1.plot(allwav_dec12,alldata_dec12,'orange',label='2014 Dec 12 observed',alpha=0.8)\n",
    "ax1.set_ylim(0,0.8E-13)\n",
    "ax1.set_xlim(0.25,2.5)\n",
    "ax1.set_xlabel('$\\lambda$ [micron]')\n",
    "ax1.set_ylabel('$F_\\lambda$ (erg s$^{-1}$ cm$^{-2}$ $\\AA^{-1}$)')\n",
    "ax1.legend(loc='upper right')\n",
    "\n",
    "ax2.plot([.25,2.5],[0,0],'k')\n",
    "clip12=np.logical_and(allwav_dec12>0.411,allwav_dec12<2.47)\n",
    "ax2.plot(allwav_dec12[clip12],interp2008(allwav_dec12[clip12])*\n",
    "         10.0**(-0.4*2.0*getFMext(allwav_dec12[clip12],3.0,'fmunred')/3.0)\n",
    "         -alldata_dec12[clip12],'orange',alpha=0.8)\n",
    "ax2.set_xlim(0.25,2.5)\n",
    "ax2.set_ylim(-1E-14,1E-14)\n",
    "ax2.set_xlabel('$\\lambda$ [micron]')\n",
    "ax2.set_ylabel('Model $-$ Observed')\n",
    "\n",
    "plt.show()"
   ]
  },
  {
   "cell_type": "markdown",
   "metadata": {},
   "source": [
    "# Figure: Color-color/mag plots"
   ]
  },
  {
   "cell_type": "code",
   "execution_count": null,
   "metadata": {},
   "outputs": [],
   "source": [
    "allwav_2008clip = allwav_2008[allwav_2008>0.411] * u.micron\n",
    "alldata_2008clip = alldata_2008[allwav_2008>0.411] * u.erg / (u.s * u.cm * u.cm * u.AA)\n",
    "\n",
    "allwav_dec02clip = allwav_dec02[allwav_dec02>0.411] * u.micron\n",
    "alldata_dec02clip = alldata_dec02[allwav_dec02>0.411] * u.erg / (u.s * u.cm * u.cm * u.AA)\n",
    "\n",
    "allwav_dec12clip = allwav_dec12[allwav_dec12>0.411] * u.micron\n",
    "alldata_dec12clip= alldata_dec12[allwav_dec12>0.411]  * u.erg / (u.s * u.cm * u.cm * u.AA)\n",
    "\n",
    "\n",
    "\n",
    "bands=['Ks','H','J','I','R','V','B']\n",
    "\n",
    "obs1ext = np.zeros((6,alldata_2008clip.size))    \n",
    "fobs1ext = np.zeros((6,alldata_2008clip.size))    \n",
    "\n",
    "j=0\n",
    "for A in [2.0,4.0]:\n",
    "    for R in [2.0,3.0,5.0]:\n",
    "        obs1ext[j,:] = A*getFMext(allwav_2008clip.value,R,'fmunred')/R\n",
    "        fobs1ext[j,:] = alldata_2008clip * 10.**(-0.4*obs1ext[j,:])\n",
    "        j+=1\n",
    "\n",
    "fobs1ext = fobs1ext * u.erg / (u.s * u.cm * u.cm * u.AA)\n",
    "        \n",
    "mags1ext=np.zeros((6,7))\n",
    "\n",
    "mags1=np.zeros(7)\n",
    "mags2=np.zeros(7)\n",
    "mags3=np.zeros(7)\n",
    "\n",
    "for j in [0,1,2,3,4,5,6]:\n",
    "    for i in range(6):\n",
    "        mags1ext[i,j]=getMag(bands[j], allwav_2008clip, fobs1ext[i,:])\n",
    "    mags1[j]=getMag(bands[j], allwav_2008clip, alldata_2008clip)\n",
    "    mags2[j]=getMag(bands[j], allwav_dec02clip, alldata_dec02clip)\n",
    "    mags3[j]=getMag(bands[j], allwav_dec12clip, alldata_dec12clip)\n"
   ]
  },
  {
   "cell_type": "markdown",
   "metadata": {},
   "source": [
    "Print magnitudes for 2008, 2014Dec02, and 2014Dec14 in BVRIJHK order"
   ]
  },
  {
   "cell_type": "code",
   "execution_count": null,
   "metadata": {},
   "outputs": [],
   "source": [
    "mags1[::-1],mags2[::-1],mags3[::-1]"
   ]
  },
  {
   "cell_type": "markdown",
   "metadata": {},
   "source": [
    "Dec 14 is slightly fainter than Dec 02 in all but K"
   ]
  },
  {
   "cell_type": "code",
   "execution_count": null,
   "metadata": {},
   "outputs": [],
   "source": [
    "mags3-mags2"
   ]
  },
  {
   "cell_type": "markdown",
   "metadata": {},
   "source": [
    "Print magnitudes for 2008 with extinction:"
   ]
  },
  {
   "cell_type": "code",
   "execution_count": null,
   "metadata": {},
   "outputs": [],
   "source": [
    "mags1ext"
   ]
  },
  {
   "cell_type": "code",
   "execution_count": null,
   "metadata": {},
   "outputs": [],
   "source": [
    "fig,axes=plt.subplots(2,6,figsize=(18,6))\n",
    "\n",
    "\n",
    "for j in [0,1,2,3,4,5]: # just data\n",
    "    if j!=5:\n",
    "        axes[1,5-j].plot(mags2[j+1]-mags2[j],mags2[j+2]-mags2[j+1],'o',color='red')\n",
    "        \n",
    "        axes[1,5-j].annotate(\"\",xy=(mags2[j+1]-mags2[j],mags2[j+2]-mags2[j+1]), xycoords='data',\n",
    "            xytext=(mags1[j+1]-mags1[j],mags1[j+2]-mags1[j+1]),textcoords='data',\n",
    "            arrowprops=dict(color='red',headwidth=8,headlength=12,width=0.1))\n",
    "        \n",
    "        axes[1,5-j].plot(mags1[j+1]-mags1[j],mags1[j+2]-mags1[j+1],'o',color='black',label='2008')\n",
    "        axes[1,5-j].set_xlabel(bands[j+1]+'$-$'+bands[j])\n",
    "        axes[1,5-j].set_ylabel(bands[j+2]+'$-$'+bands[j+1])\n",
    "                        \n",
    "    \n",
    "    axes[0,5-j].plot(mags1[j+1]-mags1[j],mags1[j+1],'o',color='black')\n",
    "    axes[0,5-j].plot(mags2[j+1]-mags2[j],mags2[j+1],'o',color='red')\n",
    "    axes[0,5-j].annotate(\"\",xy=(mags2[j+1]-mags2[j],mags2[j+1]), xycoords='data',\n",
    "            xytext=(mags1[j+1]-mags1[j],mags1[j+1]),textcoords='data',\n",
    "            arrowprops=dict(color='red',headwidth=8,headlength=12,width=0.1))\n",
    "    axes[0,5-j].set_xlabel(bands[j+1]+'$-$'+bands[j])\n",
    "    axes[0,5-j].set_ylabel(bands[j+1])\n",
    "    \n",
    "\n",
    "for j in [0,1,2,3,4,5]: # extinction \n",
    "    if j!=5:\n",
    "        axes[1,5-j].plot(mags1ext[0,j+1]-mags1ext[0,j],mags1ext[0,j+2]-mags1ext[0,j+1],'+',color='blue',label='2008, AV=2.0 RV=2')\n",
    "        axes[1,5-j].plot(mags1ext[1,j+1]-mags1ext[1,j],mags1ext[1,j+2]-mags1ext[1,j+1],'o',color='blue',label='2008, AV=2.0 RV=3')\n",
    "        axes[1,5-j].plot(mags1ext[2,j+1]-mags1ext[2,j],mags1ext[2,j+2]-mags1ext[2,j+1],'x',color='blue',label='2008, AV=2.0 RV=5')\n",
    "        axes[1,5-j].plot(mags1ext[3,j+1]-mags1ext[3,j],mags1ext[3,j+2]-mags1ext[3,j+1],'+',color='green',label='2008, AV=4.0 RV=2')\n",
    "        axes[1,5-j].plot(mags1ext[4,j+1]-mags1ext[4,j],mags1ext[4,j+2]-mags1ext[4,j+1],'o',color='green',label='2008, AV=4.0 RV=3')\n",
    "        axes[1,5-j].plot(mags1ext[5,j+1]-mags1ext[5,j],mags1ext[5,j+2]-mags1ext[5,j+1],'x',color='green',label='2008, AV=4.0 RV=5')\n",
    "\n",
    "    axes[0,5-j].plot(mags1ext[0,j+1]-mags1ext[0,j],mags1ext[0,j+1],'+',color='blue')\n",
    "    axes[0,5-j].plot(mags1ext[1,j+1]-mags1ext[1,j],mags1ext[1,j+1],'o',color='blue')\n",
    "    axes[0,5-j].plot(mags1ext[2,j+1]-mags1ext[2,j],mags1ext[2,j+1],'x',color='blue')\n",
    "    axes[0,5-j].plot(mags1ext[3,j+1]-mags1ext[3,j],mags1ext[3,j+1],'+',color='green')\n",
    "    axes[0,5-j].plot(mags1ext[4,j+1]-mags1ext[4,j],mags1ext[4,j+1],'o',color='green')\n",
    "    axes[0,5-j].plot(mags1ext[5,j+1]-mags1ext[5,j],mags1ext[5,j+1],'x',color='green')\n",
    "    \n",
    "\n",
    "axes[1,1].plot(mags2[5]-mags2[4],mags2[6]-mags2[5],'o',color='red',label='2014') # just for the legend\n",
    "axes[1,0].axis('off')\n",
    "fig.subplots_adjust(wspace=0.8,hspace=0.3)\n",
    "axes[1,1].legend(loc='center left', bbox_to_anchor=(-2, 0.5))\n",
    "for j in [0,1,2,3,4,5]:\n",
    "    axes[0,5-j].set_ylim(axes[0,5-j].get_ylim()[::-1])\n",
    "\n",
    "plt.show()\n",
    "\n"
   ]
  },
  {
   "cell_type": "markdown",
   "metadata": {},
   "source": [
    "# Figure: Color-color/mag plots subset"
   ]
  },
  {
   "cell_type": "code",
   "execution_count": null,
   "metadata": {},
   "outputs": [],
   "source": [
    "fig,axes=plt.subplots(1,2,figsize=(6,3))\n",
    "\n",
    "j=5\n",
    "axes[0].plot(mags1[j+1]-mags1[j],mags1[j],'o',color='black')\n",
    "axes[0].plot(mags2[j+1]-mags2[j],mags2[j],'o',color='red')\n",
    "axes[0].annotate(\"\",xy=(mags2[j+1]-mags2[j],mags2[j]), xycoords='data',\n",
    "    xytext=(mags1[j+1]-mags1[j],mags1[j]),textcoords='data',\n",
    "    arrowprops=dict(color='red',headwidth=8,headlength=12,width=0.1))\n",
    "axes[0].set_xlabel(bands[j+1]+'$-$'+bands[j])\n",
    "axes[0].set_ylabel(bands[j])\n",
    "\n",
    "axes[0].plot(mags1ext[0,j+1]-mags1ext[0,j],mags1ext[0,j],'+',color='blue')\n",
    "axes[0].plot(mags1ext[1,j+1]-mags1ext[1,j],mags1ext[1,j],'o',color='blue')\n",
    "axes[0].plot(mags1ext[2,j+1]-mags1ext[2,j],mags1ext[2,j],'x',color='blue')\n",
    "axes[0].plot(mags1ext[3,j+1]-mags1ext[3,j],mags1ext[3,j],'+',color='green')\n",
    "axes[0].plot(mags1ext[4,j+1]-mags1ext[4,j],mags1ext[4,j],'o',color='green')\n",
    "axes[0].plot(mags1ext[5,j+1]-mags1ext[5,j],mags1ext[5,j],'x',color='green')\n",
    "\n",
    "\n",
    "j=0     \n",
    "axes[1].annotate(\"\",xy=(mags2[j+1]-mags2[j],mags2[j+2]-mags2[j+1]), xycoords='data',\n",
    "    xytext=(mags1[j+1]-mags1[j],mags1[j+2]-mags1[j+1]),textcoords='data',\n",
    "    arrowprops=dict(color='red',headwidth=8,headlength=12,width=0.1))\n",
    "axes[1].plot(mags1[j+1]-mags1[j],mags1[j+2]-mags1[j+1],'o',color='black',label='2008')\n",
    "axes[1].set_xlabel(bands[j+1]+'$-$'+bands[j])\n",
    "axes[1].set_ylabel(bands[j+2]+'$-$'+bands[j+1])\n",
    "\n",
    "axes[1].plot(mags1ext[0,j+1]-mags1ext[0,j],mags1ext[0,j+2]-mags1ext[0,j+1],'+',color='blue',label='2008, AV=2.0 RV=2')\n",
    "axes[1].plot(mags1ext[1,j+1]-mags1ext[1,j],mags1ext[1,j+2]-mags1ext[1,j+1],'o',color='blue',label='2008, AV=2.0 RV=3')\n",
    "axes[1].plot(mags1ext[2,j+1]-mags1ext[2,j],mags1ext[2,j+2]-mags1ext[2,j+1],'x',color='blue',label='2008, AV=2.0 RV=5')\n",
    "axes[1].plot(mags1ext[3,j+1]-mags1ext[3,j],mags1ext[3,j+2]-mags1ext[3,j+1],'+',color='green',label='2008, AV=4.0 RV=2')\n",
    "axes[1].plot(mags1ext[4,j+1]-mags1ext[4,j],mags1ext[4,j+2]-mags1ext[4,j+1],'o',color='green',label='2008, AV=4.0 RV=3')\n",
    "axes[1].plot(mags1ext[5,j+1]-mags1ext[5,j],mags1ext[5,j+2]-mags1ext[5,j+1],'x',color='green',label='2008, AV=4.0 RV=5')\n",
    "\n",
    "axes[1].plot(mags2[j+1]-mags2[j],mags2[j+2]-mags2[j+1],'o',color='red',label='2014')  \n",
    "\n",
    "\n",
    "fig.subplots_adjust(wspace=0.4)\n",
    "axes[1].legend(loc='center right', bbox_to_anchor=(2.15, 0.5))\n",
    "\n",
    "\n",
    "axes[0].set_ylim(axes[0].get_ylim()[::-1])\n",
    "\n",
    "\n",
    "plt.show()"
   ]
  },
  {
   "cell_type": "markdown",
   "metadata": {},
   "source": [
    "# Figure: Extinction and reddening"
   ]
  },
  {
   "cell_type": "code",
   "execution_count": null,
   "metadata": {
    "scrolled": false
   },
   "outputs": [],
   "source": [
    "fig,axs=plt.subplots(4,2,sharex='col',sharey='row',figsize=(15,18),gridspec_kw = {'height_ratios':[3, 2, 2, 3]})\n",
    "\n",
    "# fig.subplots_adjust(hspace=0)\n",
    "\n",
    "# my little FMunred doesn't include UV, lambda < 0.411 micron\n",
    "\n",
    "axs[0,0].plot(allwav_2008clip,alldata_2008clip,'k',alpha=0.4,label='2008 observed')\n",
    "axs[0,0].plot(allwav_dec02clip,alldata_dec02clip,'red',label='02dec2014 observed')\n",
    "axs[0,1].plot(1/allwav_2008clip,alldata_2008clip,'k',alpha=0.4)\n",
    "axs[0,1].plot(1/allwav_dec02clip,alldata_dec02clip,'red')\n",
    "\n",
    "axs[0,0].plot(allwav_2008clip,fobs1ext[0,:],'b',label='2008 with AV=2.0 RV=2',linestyle='dotted',alpha=0.5)\n",
    "axs[0,1].plot(1/allwav_2008clip,fobs1ext[0,:],'b',linestyle='dotted',alpha=0.5)\n",
    "axs[0,0].plot(allwav_2008clip,fobs1ext[1,:],'b',label='2008 with AV=2.0 RV=3',linestyle='solid',alpha=0.5)\n",
    "axs[0,1].plot(1/allwav_2008clip,fobs1ext[1,:],'b',linestyle='solid',alpha=0.5)\n",
    "axs[0,0].plot(allwav_2008clip,fobs1ext[2,:],'b',label='2008 with AV=2.0 RV=5',linestyle='dashed',alpha=0.5)\n",
    "axs[0,1].plot(1/allwav_2008clip,fobs1ext[2,:],'b',linestyle='dashed',alpha=0.5)\n",
    "\n",
    "axs[0,0].plot(allwav_2008clip,fobs1ext[3,:],'g',label='2008 with AV=4.0 RV=2',linestyle='dotted',alpha=0.5)\n",
    "axs[0,1].plot(1/allwav_2008clip,fobs1ext[3,:],'g',linestyle='dotted',alpha=0.5)\n",
    "axs[0,0].plot(allwav_2008clip,fobs1ext[4,:],'g',label='2008 with AV=4.0 RV=3',linestyle='solid',alpha=0.5)\n",
    "axs[0,1].plot(1/allwav_2008clip,fobs1ext[4,:],'g',linestyle='solid',alpha=0.5)\n",
    "axs[0,0].plot(allwav_2008clip,fobs1ext[5,:],'g',label='2008 with AV=4.0 RV=5',linestyle='dashed',alpha=0.5)\n",
    "axs[0,1].plot(1/allwav_2008clip,fobs1ext[5,:],'g',linestyle='dashed',alpha=0.5)\n",
    "\n",
    "\n",
    "axs[0,0].set_xlim(0.25,2.75)\n",
    "axs[0,0].set_ylim(0,0.7E-13)\n",
    "axs[0,0].set_ylabel('$F_\\lambda$ (erg s$^{-1}$ cm$^{-2}$ $\\AA^{-1}$)')\n",
    "axs[0,0].legend(loc='best')\n",
    "axs[0,1].set_xlim(0,2.5)\n",
    "axs[0,1].set_ylim(0,0.7E-13)\n",
    "\n",
    "\n",
    "axs[1,0].set_ylabel('$A_\\lambda$')\n",
    "axs[1,0].set_ylim(-0.5,5.1)\n",
    "axs[1,0].plot(allwav_dec02[allwav_dec02>0.411],ext_dec02[allwav_dec02>0.411],'k',alpha=1,label='observed extinction')\n",
    "axs[1,1].plot(1./allwav_dec02[allwav_dec02>0.411],ext_dec02[allwav_dec02>0.411],'k',alpha=1)\n",
    "for j,line,legend in list(zip(range(3),('dotted','solid','dashed'),('2','3','5'))):\n",
    "        axs[1,0].plot(allwav_2008clip,obs1ext[j,:],'b',linestyle=line,label='AV=2.0 RV='+legend+' law')\n",
    "        axs[1,1].plot(1/allwav_2008clip,obs1ext[j,:],'b',linestyle=line)\n",
    "        axs[1,0].plot(allwav_2008clip,obs1ext[j+3,:],'g',linestyle=line,label='AV=4.0 RV='+legend+' law')\n",
    "        axs[1,1].plot(1/allwav_2008clip,obs1ext[j+3,:],'g',linestyle=line)\n",
    "axs[1,0].legend(loc='best')\n",
    "        \n",
    "axs[1,0].plot(allwav_dec02[allwav_dec02>0.411],ext_dec02[allwav_dec02>0.411],'k',alpha=1)\n",
    "axs[1,1].plot(1./allwav_dec02[allwav_dec02>0.411],ext_dec02[allwav_dec02>0.411],'k',alpha=1)\n",
    "for j,line in list(zip(range(3),('dotted','solid','dashed'))):\n",
    "        axs[1,0].plot(allwav_2008clip,obs1ext[j,:],'b',linestyle=line)\n",
    "        axs[1,1].plot(1/allwav_2008clip,obs1ext[j,:],'b',linestyle=line)\n",
    "\n",
    "axs[2,0].set_ylabel('$E(\\lambda-V)$')      \n",
    "axs[2,0].plot(allwav_dec02[allwav_dec02>0.411],ext_dec02[allwav_dec02>0.411]-2.0,'k',alpha=1)\n",
    "axs[2,1].plot(1./allwav_dec02[allwav_dec02>0.411],ext_dec02[allwav_dec02>0.411]-2.0,'k',alpha=1)\n",
    "for j,line, in list(zip(range(3),('dotted','solid','dashed'))):\n",
    "        axs[2,0].plot(allwav_2008clip,obs1ext[j,:]-2.0,'b',linestyle=line)\n",
    "        axs[2,1].plot(1/allwav_2008clip,obs1ext[j,:]-2.0,'b',linestyle=line)\n",
    "        axs[2,0].plot(allwav_2008clip,obs1ext[j+3,:]-4.0,'g',linestyle=line)\n",
    "        axs[2,1].plot(1/allwav_2008clip,obs1ext[j+3,:]-4.0,'g',linestyle=line)\n",
    "axs[2,0].set_ylim(-4.1,2.1)\n",
    "\n",
    "AH=mags2[1]-mags1[1]\n",
    "AK=mags2[0]-mags1[0]\n",
    "AHext=mags1ext[:,1]-mags1[1]\n",
    "AKext=mags1ext[:,0]-mags1[0]\n",
    "\n",
    "axs[3,0].set_ylabel('$E(\\lambda-K)$')      \n",
    "axs[3,0].plot(allwav_dec02[allwav_dec02>0.411],(ext_dec02[allwav_dec02>0.411]-AK),'k',alpha=0.7,label='2008 -> 2014')\n",
    "axs[3,1].plot(1./allwav_dec02[allwav_dec02>0.411],(ext_dec02[allwav_dec02>0.411]-AK),'k',alpha=0.7)\n",
    "for j,line, in list(zip(range(3),('dotted','solid','dashed'))):\n",
    "        axs[3,0].plot(allwav_2008clip,(obs1ext[j,:]-AKext[j]),'b',linestyle=line)\n",
    "        axs[3,1].plot(1/allwav_2008clip,(obs1ext[j,:]-AKext[j]),'b',linestyle=line)\n",
    "        axs[3,0].plot(allwav_2008clip,(obs1ext[j+3,:]-AKext[j+3]),'g',linestyle=line)\n",
    "        axs[3,1].plot(1/allwav_2008clip,(obs1ext[j+3,:]-AKext[j+3]),'g',linestyle=line)\n",
    "axs[3,0].set_ylim(-0.5,5.1)\n",
    "\n",
    "axs[3,0].set_xlabel('$\\lambda$ [micron]')\n",
    "axs[3,1].set_xlabel('$\\lambda^{-1}$ [micron$^{-1}$]')\n",
    "\n",
    "\n",
    "fig.subplots_adjust(hspace=0.05)\n",
    "fig.subplots_adjust(wspace=0.03)\n",
    "\n",
    "plt.show()"
   ]
  },
  {
   "cell_type": "code",
   "execution_count": null,
   "metadata": {},
   "outputs": [],
   "source": []
  },
  {
   "cell_type": "markdown",
   "metadata": {},
   "source": [
    "# Figure: Just infrared, fits to extinction and reddening"
   ]
  },
  {
   "cell_type": "code",
   "execution_count": null,
   "metadata": {},
   "outputs": [],
   "source": [
    "Av"
   ]
  },
  {
   "cell_type": "code",
   "execution_count": null,
   "metadata": {},
   "outputs": [],
   "source": [
    "fig,(ax1,ax2)=plt.subplots(2,1,sharex='col',figsize=(6,8))\n",
    "\n",
    "ax1.plot(1./allwav_dec02,ext_dec02,'k',alpha=0.3)\n",
    "# ax1.plot(1/notel_wav,notel_ext,'black',alpha=0.5)\n",
    "ax1.plot(1/notel_wav,cfit[0]/notel_wav**cfit[1],'k',label='pow law fit',linewidth=2)\n",
    "ax1.set_ylabel('$A_\\lambda$')\n",
    "ax1.set_ylim(-0.5,1.5)\n",
    "ax1.set_xlim(0.3,1.3)\n",
    "ax1.legend(loc='best')\n",
    "\n",
    "ax2.plot(1./allwav_dec02,ext_dec02-Av,'k',alpha=0.3)\n",
    "# ax2.plot(1/notel_wav,notel_ext-Av,'black',alpha=0.5)\n",
    "ax2.plot(1/notel_wav,fita/notel_wav+fitb,'k',label='linear fit',linewidth=2,linestyle='dotted')\n",
    "ax2.plot(1/notel_wav,cfit2[0]/notel_wav**cfit2[1]+cfit2[2],'k',label='offset power law fit',linewidth=2)\n",
    "ax2.set_xlabel('$\\lambda^{-1}$ [micron$^{-1}$]')\n",
    "ax2.set_ylabel('$E(\\lambda - V)  =  A_\\lambda - A_V$ (observed)')\n",
    "ax2.set_ylim(-0.5-Av,1.5-Av)\n",
    "ax2.set_xlim(0.3,1.3)\n",
    "ax2.legend(loc='best')\n",
    "\n",
    "\n",
    "fig.subplots_adjust(hspace=0.05)\n",
    "fig.subplots_adjust(wspace=0.03)\n",
    "\n",
    "plt.show()\n",
    "\n"
   ]
  },
  {
   "cell_type": "markdown",
   "metadata": {},
   "source": [
    "# Figure: Just infrared, extinction and reddening with models"
   ]
  },
  {
   "cell_type": "code",
   "execution_count": null,
   "metadata": {},
   "outputs": [],
   "source": [
    "from dust_extinction import dust_extinction as de"
   ]
  },
  {
   "cell_type": "code",
   "execution_count": null,
   "metadata": {},
   "outputs": [],
   "source": [
    "CCM89 = de.CCM89(Rv=3.0)\n",
    "O94 = de.O94(Rv=3.0)\n",
    "F99 = de.F99(Rv=3.0)\n",
    "F04 = de.F04(Rv=3.0)\n",
    "GCC09_MWAvg = de.GCC09_MWAvg()\n",
    "G16 = de.G16(RvA=3.0, fA=1.0)\n",
    "\n",
    "wavelengths=allwav_dec02*u.micron\n",
    "\n",
    "fig,axs=plt.subplots(3,2,sharex='col',sharey='row',figsize=(8,12))\n",
    "\n",
    "def plotlaws(i):\n",
    "    axs[i,0].plot(allwav_dec02,ext_dec02,'k',alpha=0.3)\n",
    "    axs[i,0].plot(wavelengths, -2.5*np.log10(CCM89.extinguish(wavelengths, Av=2)),label='CCM89, Av=2')\n",
    "    axs[i,0].plot(wavelengths, -2.5*np.log10(O94.extinguish(wavelengths, Av=2)),label='O94, Av=2')\n",
    "    axs[i,0].plot(wavelengths, -2.5*np.log10(F99.extinguish(wavelengths, Av=2)),label='F99, Av=2')\n",
    "    axs[i,0].plot(wavelengths, -2.5*np.log10(F04.extinguish(wavelengths, Av=2)),label='F04, Av=2')\n",
    "    axs[i,0].plot(wavelengths, -2.5*np.log10(G16.extinguish(wavelengths, Av=2)),label='G16, Av=2')\n",
    "\n",
    "    axs[i,1].plot(1./allwav_dec02,ext_dec02,'k',alpha=0.3)\n",
    "    axs[i,1].plot(1./wavelengths, -2.5*np.log10(CCM89.extinguish(wavelengths, Av=2)),label='CCM89, Av=2')\n",
    "    axs[i,1].plot(1./wavelengths, -2.5*np.log10(O94.extinguish(wavelengths, Av=2)),label='O94, Av=2')\n",
    "    axs[i,1].plot(1./wavelengths, -2.5*np.log10(F99.extinguish(wavelengths, Av=2)),label='F99, Av=2')\n",
    "    axs[i,1].plot(1./wavelengths, -2.5*np.log10(F04.extinguish(wavelengths, Av=2)),label='F04, Av=2')\n",
    "    axs[i,1].plot(1./wavelengths, -2.5*np.log10(G16.extinguish(wavelengths, Av=2)),label='G16, Av=2')\n",
    "    \n",
    "\n",
    "plotlaws(1)\n",
    "axs[1,0].plot(wavelengths, -2.5*np.log10(GCC09_MWAvg.extinguish(wavelengths, Av=2)),label='GCC09, Av=2')\n",
    "axs[1,1].plot(1./wavelengths, -2.5*np.log10(GCC09_MWAvg.extinguish(wavelengths, Av=2)),label='GCC09, Av=2')\n",
    "        \n",
    "CCM89 = de.CCM89(Rv=2.0)\n",
    "O94 = de.O94(Rv=2.0)\n",
    "F99 = de.F99(Rv=2.0)\n",
    "F04 = de.F04(Rv=2.0)\n",
    "G16 = de.G16(RvA=2.0, fA=1.0)\n",
    "\n",
    "plotlaws(0)\n",
    "\n",
    "CCM89 = de.CCM89(Rv=5.0)\n",
    "O94 = de.O94(Rv=5.0)\n",
    "F99 = de.F99(Rv=5.0)\n",
    "F04 = de.F04(Rv=5.0)\n",
    "G16 = de.G16(RvA=5.0, fA=1.0)\n",
    "\n",
    "plotlaws(2)\n",
    "\n",
    "axs[0,0].set_ylabel('$A_\\lambda$')\n",
    "axs[1,0].set_ylabel('$A_\\lambda$')\n",
    "axs[2,0].set_ylabel('$A_\\lambda$')\n",
    "axs[0,0].set_ylim(-0.2,4)\n",
    "axs[1,0].set_ylim(-0.2,4)\n",
    "axs[2,0].set_ylim(-0.2,4)\n",
    "axs[1,0].legend(loc='best')\n",
    "\n",
    "axs[2,0].set_xlabel('$\\lambda$ [micron]')\n",
    "axs[2,1].set_xlabel('$\\lambda^{-1}$ [micron$^{-1}$]')\n",
    "\n",
    "axs[0,1].text(.5,3.5,'Rv=2',fontsize='13')\n",
    "axs[1,1].text(.5,3.5,'Rv=3',fontsize='13')\n",
    "axs[2,1].text(.5,3.5,'Rv=5',fontsize='13')\n",
    "\n",
    "fig.subplots_adjust(hspace=0.05)\n",
    "fig.subplots_adjust(wspace=0.03)\n",
    "\n",
    "\n",
    "plt.show()"
   ]
  },
  {
   "cell_type": "code",
   "execution_count": null,
   "metadata": {},
   "outputs": [],
   "source": []
  },
  {
   "cell_type": "code",
   "execution_count": null,
   "metadata": {},
   "outputs": [],
   "source": []
  }
 ],
 "metadata": {
  "anaconda-cloud": {},
  "kernelspec": {
   "display_name": "Python 3",
   "language": "python",
   "name": "python3"
  },
  "language_info": {
   "codemirror_mode": {
    "name": "ipython",
    "version": 3
   },
   "file_extension": ".py",
   "mimetype": "text/x-python",
   "name": "python",
   "nbconvert_exporter": "python",
   "pygments_lexer": "ipython3",
   "version": "3.7.0"
  }
 },
 "nbformat": 4,
 "nbformat_minor": 2
}
